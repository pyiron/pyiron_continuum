{
 "cells": [
  {
   "cell_type": "markdown",
   "id": "governing-mills",
   "metadata": {},
   "source": [
    "# Introduction :\n",
    "\n",
    "This notebook represents the first steps to setup a damask job in pyiron.\n",
    "\n",
    "Damask website example : https://damask3.mpie.de/\n",
    "\n",
    "**Files required to run the damask simulation**\n",
    "\n",
    "**1.Material configuration :** It contains the five parts(a.) homogenization, (b.) microstructure, (c.) crystallite, (d.) phase, (e.) texture\n",
    "\n",
    "Each of those parts contains a library of components necessary to describe the simulation parameters\n",
    "\n",
    "**2.Load defination :** It contains information about applied stress and strain.\n",
    "\n",
    "**3.Geometry :** It contain information about volume elements on a regular grid.\n",
    "\n",
    "**Note :** Current example is compatible with damask version 3.0.0 alpha2"
   ]
  },
  {
   "cell_type": "markdown",
   "id": "foster-eclipse",
   "metadata": {},
   "source": [
    "# Import pyiron and damask"
   ]
  },
  {
   "cell_type": "code",
   "execution_count": 1,
   "id": "asian-coral",
   "metadata": {
    "ExecuteTime": {
     "end_time": "2020-10-05T07:58:05.296301Z",
     "start_time": "2020-10-05T07:58:00.839091Z"
    }
   },
   "outputs": [],
   "source": [
    "from pyiron_continuum import Project\n",
    "import numpy as np"
   ]
  },
  {
   "cell_type": "code",
   "execution_count": 2,
   "id": "organizational-paraguay",
   "metadata": {
    "ExecuteTime": {
     "end_time": "2020-10-05T07:58:05.340298Z",
     "start_time": "2020-10-05T07:58:05.299253Z"
    }
   },
   "outputs": [],
   "source": [
    "pr = Project('demo_steps')\n",
    "#pr.remove_jobs()"
   ]
  },
  {
   "cell_type": "markdown",
   "id": "patient-newman",
   "metadata": {},
   "source": [
    "# Define input"
   ]
  },
  {
   "cell_type": "code",
   "execution_count": 3,
   "id": "multiple-report",
   "metadata": {},
   "outputs": [],
   "source": [
    "# create a Damaskjob\n",
    "job = pr.create.job.DAMASK('damask_job')\n",
    "# material_configuration\n",
    "job.input.material.read('damask_inputs/material.yaml')\n",
    "# boundary condition, load_file\n",
    "job.input.loading.read('damask_inputs/tensionX.yaml')\n",
    "# geometry\n",
    "job.input.geometry.grid =  np.array([4,4,4])\n",
    "job.input.geometry.size = np.array([1.0,1.0,1.0])\n",
    "job.input.geometry.grains = 10"
   ]
  },
  {
   "cell_type": "markdown",
   "id": "strategic-meter",
   "metadata": {},
   "source": [
    "## Check specific input parameter value"
   ]
  },
  {
   "cell_type": "code",
   "execution_count": 5,
   "id": "transsexual-withdrawal",
   "metadata": {},
   "outputs": [
    {
     "data": {
      "text/plain": [
       "1"
      ]
     },
     "execution_count": 5,
     "metadata": {},
     "output_type": "execute_result"
    }
   ],
   "source": [
    "job.input.material.homogenization.SX.N_constituents"
   ]
  },
  {
   "cell_type": "markdown",
   "id": "published-telling",
   "metadata": {},
   "source": [
    "# Run a job"
   ]
  },
  {
   "cell_type": "code",
   "execution_count": 6,
   "id": "destroyed-monster",
   "metadata": {},
   "outputs": [
    {
     "name": "stdout",
     "output_type": "stream",
     "text": [
      "The job damask_job was saved and received the ID: 5\n"
     ]
    },
    {
     "name": "stderr",
     "output_type": "stream",
     "text": [
      " ██████████████████████████████████████████████████ 100% ETA 0:00:00\n",
      " ██████████████████████████████████████████████████ 100% ETA 0:00:00\n",
      " ██████████████████████████████████████████████████ 100% ETA 0:00:00\n",
      " ██████████████████████████████████████████████████ 100% ETA 0:00:00\n",
      " ██████████████████████████████████████████████████ 100% ETA 0:00:00\n",
      " ██████████████████████████████████████████████████ 100% ETA 0:00:00\n",
      " ██████████████████████████████████████████████████ 100% ETA 0:00:00\n"
     ]
    }
   ],
   "source": [
    "job.run()"
   ]
  },
  {
   "cell_type": "markdown",
   "id": "through-accounting",
   "metadata": {},
   "source": [
    "# Output"
   ]
  },
  {
   "cell_type": "code",
   "execution_count": 7,
   "id": "fantastic-chassis",
   "metadata": {},
   "outputs": [
    {
     "data": {
      "text/plain": [
       "array([8.11656883e-12, 6.50174842e+01, 7.86008692e+01, 8.29370979e+01,\n",
       "       8.49333559e+01, 8.59767258e+01, 8.66504479e+01, 8.71434577e+01,\n",
       "       8.75316538e+01, 8.78513920e+01, 8.81262897e+01, 8.89875360e+01,\n",
       "       8.97014456e+01, 9.03395423e+01, 9.09317240e+01, 9.14948974e+01,\n",
       "       9.20401598e+01, 9.25750986e+01, 9.31045242e+01, 9.36305462e+01,\n",
       "       9.41525910e+01, 9.46682365e+01, 9.51741847e+01, 9.56677559e+01,\n",
       "       9.61487465e+01, 9.66187104e+01])"
      ]
     },
     "execution_count": 7,
     "metadata": {},
     "output_type": "execute_result"
    }
   ],
   "source": [
    "job['output/generic/stress']"
   ]
  },
  {
   "cell_type": "code",
   "execution_count": 8,
   "id": "black-milwaukee",
   "metadata": {},
   "outputs": [
    {
     "data": {
      "image/png": "[encoded data removed]",
      "text/plain": [
       "<Figure size 432x288 with 1 Axes>"
      ]
     },
     "metadata": {
      "needs_background": "light"
     },
     "output_type": "display_data"
    }
   ],
   "source": [
    "%matplotlib inline\n",
    "job.plot_stress_strain()"
   ]
  },
  {
   "cell_type": "code",
   "execution_count": 9,
   "id": "applicable-female",
   "metadata": {},
   "outputs": [
    {
     "data": {
      "text/html": [
       "<table><tr><th>Header</th><th>Data Arrays</th></tr><tr><td>\n",
       "<table>\n",
       "<tr><th>RectilinearGrid</th><th>Information</th></tr>\n",
       "<tr><td>N Cells</td><td>64</td></tr>\n",
       "<tr><td>N Points</td><td>125</td></tr>\n",
       "<tr><td>X Bounds</td><td>0.000e+00, 1.000e+00</td></tr>\n",
       "<tr><td>Y Bounds</td><td>0.000e+00, 1.000e+00</td></tr>\n",
       "<tr><td>Z Bounds</td><td>0.000e+00, 1.000e+00</td></tr>\n",
       "<tr><td>Dimensions</td><td>5, 5, 5</td></tr>\n",
       "<tr><td>N Arrays</td><td>5</td></tr>\n",
       "</table>\n",
       "\n",
       "</td><td>\n",
       "<table>\n",
       "<tr><th>Name</th><th>Field</th><th>Type</th><th>N Comp</th><th>Min</th><th>Max</th></tr>\n",
       "<tr><td><b>u</b></td><td>Points</td><td>float32</td><td>3</td><td>-3.403e-02</td><td>5.282e-02</td></tr>\n",
       "<tr><td>phase/mechanics/sigma / Pa</td><td>Cells</td><td>float32</td><td>9</td><td>-5.547e+07</td><td>1.467e+08</td></tr>\n",
       "<tr><td>phase/mechanics/epsilon_V^0.0(F) / 1</td><td>Cells</td><td>float32</td><td>9</td><td>-6.513e-02</td><td>8.182e-02</td></tr>\n",
       "<tr><td>phase/mechanics/sigma_vM / Pa</td><td>Cells</td><td>float32</td><td>1</td><td>6.336e+07</td><td>1.223e+08</td></tr>\n",
       "<tr><td>phase/mechanics/epsilon_V^0.0(F)_vM / 1</td><td>Cells</td><td>float32</td><td>1</td><td>1.795e-02</td><td>8.737e-02</td></tr>\n",
       "</table>\n",
       "\n",
       "</td></tr> </table>"
      ],
      "text/plain": [
       "RectilinearGrid (0x7f605b0965e0)\n",
       "  N Cells:\t64\n",
       "  N Points:\t125\n",
       "  X Bounds:\t0.000e+00, 1.000e+00\n",
       "  Y Bounds:\t0.000e+00, 1.000e+00\n",
       "  Z Bounds:\t0.000e+00, 1.000e+00\n",
       "  Dimensions:\t5, 5, 5\n",
       "  N Arrays:\t5"
      ]
     },
     "execution_count": 9,
     "metadata": {},
     "output_type": "execute_result"
    }
   ],
   "source": [
    "job.load_mesh(inc=80)"
   ]
  },
  {
   "cell_type": "code",
   "execution_count": null,
   "id": "hundred-confirmation",
   "metadata": {},
   "outputs": [],
   "source": []
  }
 ],
 "metadata": {
  "kernelspec": {
   "display_name": "Python 3",
   "language": "python",
   "name": "python3"
  },
  "language_info": {
   "codemirror_mode": {
    "name": "ipython",
    "version": 3
   },
   "file_extension": ".py",
   "mimetype": "text/x-python",
   "name": "python",
   "nbconvert_exporter": "python",
   "pygments_lexer": "ipython3",
   "version": "3.8.6"
  }
 },
 "nbformat": 4,
 "nbformat_minor": 5
}
