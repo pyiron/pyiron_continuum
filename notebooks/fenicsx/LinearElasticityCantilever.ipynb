{
 "cells": [
  {
   "cell_type": "code",
   "execution_count": 1,
   "id": "bb756ddf-8fb4-4263-b309-10ad7579d958",
   "metadata": {},
   "outputs": [
    {
     "name": "stderr",
     "output_type": "stream",
     "text": [
      "2024-05-16 16:19:17,189 - pyiron_log - WARNING - pyiron found a 'templates' folder in the /home/tlakshmi/pyiron/resources resource directory. These are no longer supported in pyiron_base >=0.7.0. They are replaced by Project.create_job_class() and Project.wrap_python_function().\n"
     ]
    }
   ],
   "source": [
    "from pyiron_base import Project\n",
    "import numpy as np\n",
    "import pyiron_continuum"
   ]
  },
  {
   "cell_type": "code",
   "execution_count": 2,
   "id": "38675c3c-8ddb-4726-a871-801b5c0adcfb",
   "metadata": {},
   "outputs": [
    {
     "data": {
      "application/vnd.jupyter.widget-view+json": {
       "model_id": "2146a00de006445baa937583ff574ccd",
       "version_major": 2,
       "version_minor": 0
      },
      "text/plain": [
       "0it [00:00, ?it/s]"
      ]
     },
     "metadata": {},
     "output_type": "display_data"
    }
   ],
   "source": [
    "pr = Project('cantilever_fenicsx')\n",
    "pr.remove_jobs(silently=True)"
   ]
  },
  {
   "cell_type": "code",
   "execution_count": 3,
   "id": "0e6808c8-36bc-47cb-9576-424f4919a31b",
   "metadata": {},
   "outputs": [],
   "source": [
    "job = pr.create.job.Fenicsx('LE_cantilever')"
   ]
  },
  {
   "cell_type": "code",
   "execution_count": 4,
   "id": "a9e71739-9d45-4e6e-bd1c-eeb22e695822",
   "metadata": {},
   "outputs": [],
   "source": [
    "W = 0.2\n",
    "L = 1\n",
    "mu = 1\n",
    "rho = 1\n",
    "delta = W / L\n",
    "gamma = 0.4 * delta**2\n",
    "beta = 1.25\n",
    "lambda_ = beta\n",
    "g = gamma"
   ]
  },
  {
   "cell_type": "code",
   "execution_count": 5,
   "id": "b6e746f5-0e82-4a9d-a38b-38b273f30c78",
   "metadata": {},
   "outputs": [
    {
     "name": "stdout",
     "output_type": "stream",
     "text": [
      "Info    : Meshing 1D...\n",
      "Info    : [  0%] Meshing curve 1 (Line)\n",
      "Info    : [ 10%] Meshing curve 2 (Line)\n",
      "Info    : [ 20%] Meshing curve 3 (Line)\n",
      "Info    : [ 30%] Meshing curve 4 (Line)\n",
      "Info    : [ 40%] Meshing curve 5 (Line)\n",
      "Info    : [ 50%] Meshing curve 6 (Line)\n",
      "Info    : [ 50%] Meshing curve 7 (Line)\n",
      "Info    : [ 60%] Meshing curve 8 (Line)\n",
      "Info    : [ 70%] Meshing curve 9 (Line)\n",
      "Info    : [ 80%] Meshing curve 10 (Line)\n",
      "Info    : [ 90%] Meshing curve 11 (Line)\n",
      "Info    : [100%] Meshing curve 12 (Line)\n",
      "Info    : Done meshing 1D (Wall 0.000725033s, CPU 0.00133s)\n",
      "Info    : Meshing 2D...\n",
      "Info    : [  0%] Meshing surface 1 (Plane, Frontal-Delaunay)\n",
      "Info    : [ 20%] Meshing surface 2 (Plane, Frontal-Delaunay)\n",
      "Info    : [ 40%] Meshing surface 3 (Plane, Frontal-Delaunay)\n",
      "Info    : [ 50%] Meshing surface 4 (Plane, Frontal-Delaunay)\n",
      "Info    : [ 70%] Meshing surface 5 (Plane, Frontal-Delaunay)\n",
      "Info    : [ 90%] Meshing surface 6 (Plane, Frontal-Delaunay)\n",
      "Info    : Done meshing 2D (Wall 0.0242082s, CPU 0.024314s)\n",
      "Info    : Meshing 3D...\n",
      "Info    : 3D Meshing 1 volume with 1 connected component\n",
      "Info    : Tetrahedrizing 1220 nodes...\n",
      "Info    : Done tetrahedrizing 1228 nodes (Wall 0.0104572s, CPU 0.00673s)\n",
      "Info    : Reconstructing mesh...\n",
      "Info    :  - Creating surface mesh\n",
      "Info    :  - Identifying boundary edges\n",
      "Info    :  - Recovering boundary\n",
      "Info    : Done reconstructing mesh (Wall 0.0227371s, CPU 0.019146s)\n",
      "Info    : Found volume 1\n",
      "Info    : It. 0 - 0 nodes created - worst tet radius 3.43958 (nodes removed 0 0)\n",
      "Info    : It. 500 - 500 nodes created - worst tet radius 1.105 (nodes removed 0 0)\n",
      "Info    : 3D refinement terminated (1875 nodes total):\n",
      "Info    :  - 0 Delaunay cavities modified for star shapeness\n",
      "Info    :  - 0 nodes could not be inserted\n",
      "Info    :  - 7624 tetrahedra created in 0.0215888 sec. (353146 tets/s)\n",
      "Info    : 0 node relocations\n",
      "Info    : Done meshing 3D (Wall 0.069187s, CPU 0.063032s)\n",
      "Info    : Optimizing mesh...\n",
      "Info    : Optimizing volume 1\n",
      "Info    : Optimization starts (volume = 0.04) with worst = 0.0123988 / average = 0.782072:\n",
      "Info    : 0.00 < quality < 0.10 :        17 elements\n",
      "Info    : 0.10 < quality < 0.20 :        40 elements\n",
      "Info    : 0.20 < quality < 0.30 :        75 elements\n",
      "Info    : 0.30 < quality < 0.40 :        95 elements\n",
      "Info    : 0.40 < quality < 0.50 :       165 elements\n",
      "Info    : 0.50 < quality < 0.60 :       296 elements\n",
      "Info    : 0.60 < quality < 0.70 :       935 elements\n",
      "Info    : 0.70 < quality < 0.80 :      1876 elements\n",
      "Info    : 0.80 < quality < 0.90 :      2803 elements\n",
      "Info    : 0.90 < quality < 1.00 :      1322 elements\n",
      "Info    : 132 edge swaps, 5 node relocations (volume = 0.04): worst = 0.216892 / average = 0.793341 (Wall 0.001886s, CPU 0.001641s)\n",
      "Info    : 134 edge swaps, 5 node relocations (volume = 0.04): worst = 0.258376 / average = 0.793498 (Wall 0.00231945s, CPU 0.002032s)\n",
      "Info    : No ill-shaped tets in the mesh :-)\n",
      "Info    : 0.00 < quality < 0.10 :         0 elements\n",
      "Info    : 0.10 < quality < 0.20 :         0 elements\n",
      "Info    : 0.20 < quality < 0.30 :         2 elements\n",
      "Info    : 0.30 < quality < 0.40 :        96 elements\n",
      "Info    : 0.40 < quality < 0.50 :       139 elements\n",
      "Info    : 0.50 < quality < 0.60 :       289 elements\n",
      "Info    : 0.60 < quality < 0.70 :       950 elements\n",
      "Info    : 0.70 < quality < 0.80 :      1880 elements\n",
      "Info    : 0.80 < quality < 0.90 :      2816 elements\n",
      "Info    : 0.90 < quality < 1.00 :      1331 elements\n",
      "Info    : Done optimizing mesh (Wall 0.00735985s, CPU 0.007015s)\n",
      "Info    : 1875 nodes 10139 elements\n"
     ]
    }
   ],
   "source": [
    "job.geom = job.create.geom.box(0, 0, 0, L, W, W)\n",
    "dimensions = 3\n",
    "min_mesh_length = 0.03\n",
    "max_mesh_length = 0.03\n",
    "job.domain = job.create.domain.standardDomain(job.geom, dimensions, min_mesh_length, max_mesh_length)\n",
    "job.mesh = job.create.get_mesh(job.domain)"
   ]
  },
  {
   "cell_type": "code",
   "execution_count": 6,
   "id": "aedf5243-2712-46d4-a7f4-c1f881ec8441",
   "metadata": {},
   "outputs": [
    {
     "data": {
      "application/vnd.jupyter.widget-view+json": {
       "model_id": "0ffd3975b6f142fa8a58832bc26b8a11",
       "version_major": 2,
       "version_minor": 0
      },
      "text/plain": [
       "Widget(value='<iframe src=\"http://localhost:44815/index.html?ui=P_0x7af6c624ac50_0&reconnect=auto\" class=\"pyvi…"
      ]
     },
     "metadata": {},
     "output_type": "display_data"
    }
   ],
   "source": [
    "job.V = job.create.V.vectorfunctionspace(job.mesh, \"Lagrange\", 1)\n",
    "job.plot.plot_mesh(job.V)"
   ]
  },
  {
   "cell_type": "code",
   "execution_count": 7,
   "id": "43a59c27-9333-4244-8d50-e3120b6fe01a",
   "metadata": {},
   "outputs": [],
   "source": [
    "def clamped_boundary(x):\n",
    "    return np.isclose(x[0], 0)\n",
    "\n",
    "bc1 = job.make_dirichletBC_vectorfunctionspace_3D(job.V, clamped_boundary, 0, 0, 0)\n",
    "job.appendBC(bc1)"
   ]
  },
  {
   "cell_type": "code",
   "execution_count": 8,
   "id": "57e27cf4-f770-41ab-b396-6e2a3cab491e",
   "metadata": {},
   "outputs": [],
   "source": [
    "job.set_lambda(lambda_)\n",
    "job.set_mu(mu)\n",
    "job.set_bodyforce(job.Constant_vector_3D(job.mesh, 0, 0, -rho * g))\n",
    "job.set_traction(job.Constant_vector_3D(job.mesh, 0, 0, 0))\n",
    "#job.lambda_, job.mu, job.f, job.T"
   ]
  },
  {
   "cell_type": "code",
   "execution_count": 9,
   "id": "1faa5d70-0a73-488b-8824-b2ebade7d146",
   "metadata": {},
   "outputs": [
    {
     "data": {
      "application/vnd.jupyter.widget-view+json": {
       "model_id": "97f1f219aa544a9399f7f8665fb4a54e",
       "version_major": 2,
       "version_minor": 0
      },
      "text/plain": [
       "Widget(value='<iframe src=\"http://localhost:44815/index.html?ui=P_0x7af7681b3ad0_1&reconnect=auto\" class=\"pyvi…"
      ]
     },
     "metadata": {},
     "output_type": "display_data"
    }
   ],
   "source": [
    "job.solveLinearElastic()\n",
    "job.plot.plot_deformed_vectorfunctionspace(job.V, job.uh, 2)"
   ]
  },
  {
   "cell_type": "code",
   "execution_count": 10,
   "id": "8d800aaa-e2cb-4ad3-8242-71aefc011d6e",
   "metadata": {},
   "outputs": [
    {
     "data": {
      "application/vnd.jupyter.widget-view+json": {
       "model_id": "2d661803afaa41d89d9a945fdadf7004",
       "version_major": 2,
       "version_minor": 0
      },
      "text/plain": [
       "Widget(value='<iframe src=\"http://localhost:44815/index.html?ui=P_0x7af6bcd19310_3&reconnect=auto\" class=\"pyvi…"
      ]
     },
     "metadata": {},
     "output_type": "display_data"
    }
   ],
   "source": [
    "job.plot.plot_stresses_vonMises(job.mesh, job.V, job.uh, lambda_, mu, 2)"
   ]
  },
  {
   "cell_type": "code",
   "execution_count": null,
   "id": "fd395201-686e-413f-918b-b61c13e73258",
   "metadata": {},
   "outputs": [],
   "source": []
  }
 ],
 "metadata": {
  "kernelspec": {
   "display_name": "Python 3 (ipykernel)",
   "language": "python",
   "name": "python3"
  },
  "language_info": {
   "codemirror_mode": {
    "name": "ipython",
    "version": 3
   },
   "file_extension": ".py",
   "mimetype": "text/x-python",
   "name": "python",
   "nbconvert_exporter": "python",
   "pygments_lexer": "ipython3",
   "version": "3.11.8"
  }
 },
 "nbformat": 4,
 "nbformat_minor": 5
}
