{
 "cells": [
  {
   "cell_type": "markdown",
   "id": "530d4134-08d9-4cf6-8e40-05cb2b106957",
   "metadata": {},
   "source": [
    "# DAMASK tutorial for tensile test with experimental data\n",
    "\n",
    "- creating necessary inputs for damask\n",
    "- defining the elastoplastic model (with powerlaw) from experiental data for tensile test\n",
    "- runing the damask jobs\n",
    "\n",
    "here more option is given to the user to select from damask python package itself.\n",
    "\n",
    "Author: Yang Bai\n",
    "\n",
    "Date  : 20.10.2022"
   ]
  },
  {
   "cell_type": "markdown",
   "id": "413799b5-58a8-47d3-bfd1-d081c1f2c4ec",
   "metadata": {},
   "source": [
    "## Importing libraries and creatign Project"
   ]
  },
  {
   "cell_type": "code",
   "execution_count": 1,
   "id": "12795c73-ee40-4a15-8e52-60edc207fbf1",
   "metadata": {},
   "outputs": [
    {
     "name": "stderr",
     "output_type": "stream",
     "text": [
      "2022-10-24 12:37:57,073 - pyiron_log - WARNING - Configuration file may be read by others - check permissions to secure credential information!\n"
     ]
    }
   ],
   "source": [
    "from pyiron_continuum import Project\n",
    "from damask import Rotation # this will be used in material configuration"
   ]
  },
  {
   "cell_type": "markdown",
   "id": "de196129-3f7b-4b70-863b-3a762f116877",
   "metadata": {},
   "source": [
    "### create a 'project' to manage all the configurations for a tensile test"
   ]
  },
  {
   "cell_type": "code",
   "execution_count": 2,
   "id": "435b1538-9181-4223-a475-aa338c8b09da",
   "metadata": {},
   "outputs": [
    {
     "data": {
      "application/vnd.jupyter.widget-view+json": {
       "model_id": "e09a5e2a98524be286c2a3803adad849",
       "version_major": 2,
       "version_minor": 0
      },
      "text/plain": [
       "  0%|          | 0/1 [00:00<?, ?it/s]"
      ]
     },
     "metadata": {},
     "output_type": "display_data"
    }
   ],
   "source": [
    "pr = Project('tensile')\n",
    "pr.remove_jobs(silently=True) # automatically delete the existing project folder"
   ]
  },
  {
   "cell_type": "markdown",
   "id": "e2c7dc7e-c88b-483b-9a82-e149dbe6f435",
   "metadata": {},
   "source": [
    "### Creating the Damask job"
   ]
  },
  {
   "cell_type": "code",
   "execution_count": 3,
   "id": "d7080422-6e97-48d7-8b76-f97f20eb32c8",
   "metadata": {},
   "outputs": [],
   "source": [
    "job = pr.create.job.DAMASK('damask_job')"
   ]
  },
  {
   "cell_type": "markdown",
   "id": "f30c5306-836f-4f96-93a0-4104e4a6afeb",
   "metadata": {},
   "source": [
    "#### for a damask job, one needs:\n",
    "- geometry information(i.e., the mesh)\n",
    "- material configuration(material.yaml)\n",
    "- boundary conditions(i.e., loading.yaml)"
   ]
  },
  {
   "cell_type": "markdown",
   "id": "cb7d3a58-e559-4a60-8777-76292837a8e1",
   "metadata": {},
   "source": [
    "### For material configuration\n",
    "#### for elastoplastic material"
   ]
  },
  {
   "cell_type": "markdown",
   "id": "8512735f-c6b6-4e22-a858-a9a414c0d7ba",
   "metadata": {},
   "source": [
    "# Here the parameters are taken from H340LAD(IWM)\n",
    "## Youngs modulus=187170e6 Pa\n",
    "## poisson ratio=0.2"
   ]
  },
  {
   "cell_type": "code",
   "execution_count": 4,
   "id": "4d5b9320-b0ff-4b28-ba2a-9dea93e67f55",
   "metadata": {},
   "outputs": [],
   "source": [
    "E=187170e6;nu=0.2\n",
    "# for bulk modulus and shear modulus\n",
    "K=E/(3*(1-2*nu))\n",
    "G=0.5*E/(1+nu)\n",
    "C11=K+4*G/3.0\n",
    "C12=K-2*G/3.0\n",
    "C44=G\n",
    "\n",
    "elasticity = pr.continuum.damask.Elasticity(type= 'Hooke', C_11= C11,\n",
    "                                   C_12= C12, C_44=C44)\n",
    "\n",
    "# for plastic deformation, we use the power law\n",
    "plasticity = pr.continuum.damask.Plasticity(type='phenopowerlaw',\n",
    "                                            N_sl=[12], a_sl=2.25,\n",
    "                                            atol_xi=1.0, dot_gamma_0_sl=0.001,\n",
    "                                            h_0_sl_sl=132e6, h_sl_sl=[1, 1, 1.4, 1.4, 1.4, 1.4, 1.4],\n",
    "                                            n_sl=20, output=['xi_sl'],\n",
    "                                            xi_0_sl=[136e6], xi_inf_sl=[378e6])\n"
   ]
  },
  {
   "cell_type": "markdown",
   "id": "4a214949-102d-4343-90be-1b0a4b8f0818",
   "metadata": {},
   "source": [
    "#### for material configuration, you need\n",
    "- phase\n",
    "- roation\n",
    "- homogenization"
   ]
  },
  {
   "cell_type": "code",
   "execution_count": 5,
   "id": "46f5a2f0-4082-473e-953a-c5a0cb48a613",
   "metadata": {},
   "outputs": [],
   "source": [
    "grains, grids = 8,8 # for the number of grains and grids\n",
    "\n",
    "phase = pr.continuum.damask.Phase(composition='H340LAD', lattice= 'cF',\n",
    "                         output_list=['F', 'P', 'F_e', 'F_p', 'L_p', 'O'],\n",
    "                         elasticity=elasticity,plasticity=plasticity)\n",
    "rotation = pr.continuum.damask.Rotation(Rotation.from_random, grains)\n",
    "homogenization = pr.continuum.damask.Homogenization(method='SX', \n",
    "                                                     parameters={'N_constituents': 1,\n",
    "                                                                 \"mechanical\": {\"type\": \"pass\"}})\n",
    "# now you can define your material.yaml configuration\n",
    "material = pr.continuum.damask.Material([rotation],['H340LAD'], phase, homogenization)\n",
    "# now you can save your material to your job\n",
    "job.material = material"
   ]
  },
  {
   "cell_type": "markdown",
   "id": "b485772d-5c31-44df-a8b5-0faefaaafa5e",
   "metadata": {},
   "source": [
    "## For geometry information\n",
    "### the size of the sample is 5mmx5mmx5mm"
   ]
  },
  {
   "cell_type": "code",
   "execution_count": 6,
   "id": "7c804ec6-476e-4f9c-bfc0-95e2d3a282f0",
   "metadata": {},
   "outputs": [],
   "source": [
    "grid = pr.continuum.damask.Grid.via_voronoi_tessellation(box_size=5.0e-3, \n",
    "                                                         grid_dim=grids, \n",
    "                                                         num_grains=grains)\n",
    "# save the geometry information to your job\n",
    "job.grid = grid "
   ]
  },
  {
   "cell_type": "markdown",
   "id": "82dda0e8-4eb8-4eac-a964-819264100df5",
   "metadata": {},
   "source": [
    "## Configure the rolling test (boundary conditions)"
   ]
  },
  {
   "cell_type": "code",
   "execution_count": 7,
   "id": "c42f3bc5-1dc4-4a86-a051-ee1780799c66",
   "metadata": {},
   "outputs": [],
   "source": [
    "load_step =[{'mech_bc_dict':{'dot_F':[2.5e-3,0,0, 0,'x',0,  0,0,'x'],\n",
    "                            'P':['x','x','x', 'x',0,'x',  'x','x',0]},\n",
    "            'discretization':{'t': 50.,'N': 200},\n",
    "            'additional': {'f_out': 5}\n",
    "           }]\n",
    "solver = job.list_solvers()[0] # choose the mechanis solver\n",
    "job.loading = pr.continuum.damask.Loading(solver=solver, load_steps=load_step)"
   ]
  },
  {
   "cell_type": "markdown",
   "id": "3342a300-9be4-4867-8e0a-d0b221f3b0ca",
   "metadata": {},
   "source": [
    "## Do the rolling test"
   ]
  },
  {
   "cell_type": "code",
   "execution_count": 8,
   "id": "31e4a523-3c3d-44a2-8b8b-e12d25ab2c09",
   "metadata": {},
   "outputs": [
    {
     "name": "stdout",
     "output_type": "stream",
     "text": [
      "The job damask_job was saved and received the ID: 1\n"
     ]
    },
    {
     "name": "stderr",
     "output_type": "stream",
     "text": [
      " ██████████████████████████████████████████████████ 100% ETA 0:00:00\n",
      " ██████████████████████████████████████████████████ 100% ETA 0:00:00\n",
      " ██████████████████████████████████████████████████ 100% ETA 0:00:00\n",
      " ██████████████████████████████████████████████████ 100% ETA 0:00:00\n",
      " ██████████████████████████████████████████████████ 100% ETA 0:00:00\n",
      " ██████████████████████████████████████████████████ 100% ETA 0:00:00\n",
      " ██████████████████████████████████████████████████ 100% ETA 0:00:00\n",
      " ██████████████████████████████████████████████████ 100% ETA 0:00:00\n",
      " ██████████████████████████████████████████████████ 100% ETA 0:00:00\n",
      " ██████████████████████████████████████████████████ 100% ETA 0:00:00\n",
      " ██████████████████████████████████████████████████ 100% ETA 0:00:00\n",
      " ██████████████████████████████████████████████████ 100% ETA 0:00:00\n"
     ]
    }
   ],
   "source": [
    "job.run() # running your job, if you want the parallelization you can modify your 'pyiron/damask/bin/run_damask_3.0.0.sh file'"
   ]
  },
  {
   "cell_type": "code",
   "execution_count": 9,
   "id": "06c4e792-0033-4bb1-b8be-68ff2265b43b",
   "metadata": {},
   "outputs": [
    {
     "name": "stdout",
     "output_type": "stream",
     "text": [
      "[0.         0.0028138  0.00616615 0.00958617 0.01301516 0.01644042\n",
      " 0.01985807 0.02326718 0.026667   0.03005702 0.0334371  0.03680665\n",
      " 0.04016577 0.04351406 0.04685161 0.05017824 0.05349396 0.05679874\n",
      " 0.06009249 0.06337534 0.06664713 0.06990802 0.07315793 0.076397\n",
      " 0.07962517 0.08284254 0.08604917 0.08924522 0.09243073 0.09560581\n",
      " 0.0987706  0.10192521 0.10506959 0.10820388 0.11132835 0.11444291\n",
      " 0.11754757 0.1206425  0.12372774 0.12680329 0.12986927]\n",
      "[2.51328528e-05 3.47263213e+08 3.92760500e+08 4.09333687e+08\n",
      " 4.17367969e+08 4.22194728e+08 4.25448297e+08 4.27932276e+08\n",
      " 4.29992501e+08 4.31825846e+08 4.33525994e+08 4.35096217e+08\n",
      " 4.36576370e+08 4.37999212e+08 4.39401780e+08 4.40755907e+08\n",
      " 4.42095183e+08 4.43375913e+08 4.44655664e+08 4.45887977e+08\n",
      " 4.47100092e+08 4.48315901e+08 4.49503374e+08 4.50657973e+08\n",
      " 4.51836960e+08 4.52954001e+08 4.54073166e+08 4.55161563e+08\n",
      " 4.56272626e+08 4.57326662e+08 4.58382497e+08 4.59413935e+08\n",
      " 4.60440594e+08 4.61454004e+08 4.62466569e+08 4.63451651e+08\n",
      " 4.64434995e+08 4.65419934e+08 4.66394902e+08 4.67335272e+08\n",
      " 4.68296383e+08]\n"
     ]
    }
   ],
   "source": [
    "print(job.output.strain_von_Mises)\n",
    "print(job.output.stress_von_Mises)"
   ]
  },
  {
   "cell_type": "code",
   "execution_count": 10,
   "id": "f6f0e884-143b-4f4a-a3ef-47d746ce025d",
   "metadata": {},
   "outputs": [
    {
     "data": {
      "text/plain": [
       "(<Figure size 640x480 with 1 Axes>,\n",
       " <AxesSubplot: xlabel='$\\\\varepsilon_{vM}$', ylabel='$\\\\sigma_{vM}$ (Pa)'>)"
      ]
     },
     "execution_count": 10,
     "metadata": {},
     "output_type": "execute_result"
    },
    {
     "data": {
      "image/png": "[encoded data removed]",
      "text/plain": [
       "<Figure size 640x480 with 1 Axes>"
      ]
     },
     "metadata": {},
     "output_type": "display_data"
    }
   ],
   "source": [
    "job.plot_stress_strain(von_mises=True)# results from damask simulation"
   ]
  },
  {
   "cell_type": "markdown",
   "id": "ad5c420f-82b3-4378-8b1b-e9de05afd3ff",
   "metadata": {},
   "source": [
    "# Comparison with experimental data from H340LAD(IWM)\n",
    "## The experimental data is taken from 'AFZ1-Fz-S1Q.xlsm', the stress and strain are exported to 'Data.csv'"
   ]
  },
  {
   "cell_type": "code",
   "execution_count": 11,
   "id": "2415ae4f-954c-465e-89fc-fd9f29ac574a",
   "metadata": {},
   "outputs": [
    {
     "data": {
      "image/png": "[encoded data removed]",
      "text/plain": [
       "<Figure size 640x480 with 1 Axes>"
      ]
     },
     "metadata": {},
     "output_type": "display_data"
    }
   ],
   "source": [
    "job.compare('Data.csv')"
   ]
  }
 ],
 "metadata": {
  "kernelspec": {
   "display_name": "Python 3 (ipykernel)",
   "language": "python",
   "name": "python3"
  },
  "language_info": {
   "codemirror_mode": {
    "name": "ipython",
    "version": 3
   },
   "file_extension": ".py",
   "mimetype": "text/x-python",
   "name": "python",
   "nbconvert_exporter": "python",
   "pygments_lexer": "ipython3",
   "version": "3.10.6"
  }
 },
 "nbformat": 4,
 "nbformat_minor": 5
}
