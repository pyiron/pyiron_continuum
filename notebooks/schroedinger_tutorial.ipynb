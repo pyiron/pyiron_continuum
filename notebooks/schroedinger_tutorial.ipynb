{
 "cells": [
  {
   "cell_type": "markdown",
   "metadata": {},
   "source": [
    "# Introduction\n",
    "\n",
    "This notebook gives a quick tour of the `schroedinger` sub-module, which allows us to solve the time-independent Schroedinger equation for 1-, 2-, and 3-dimensions.\n",
    "\n",
    "In addition to our typical pyiron jupyter setup, here we use the `k3d` package for plotting the 3D results. This requires the following (one-time) setup in the shell where you run jupyter:\n",
    "\n",
    "```bash\n",
    "jupyter nbextension install --py --sys-prefix k3d\n",
    "jupyter nbextension enable --py --sys-prefix k3d\n",
    "```"
   ]
  },
  {
   "cell_type": "code",
   "execution_count": 12,
   "metadata": {
    "ExecuteTime": {
     "end_time": "2021-09-15T09:49:32.481452Z",
     "start_time": "2021-09-15T09:49:32.471605Z"
    }
   },
   "outputs": [],
   "source": [
    "from pyiron_continuum import Project\n",
    "import matplotlib.pyplot as plt\n",
    "import numpy as np"
   ]
  },
  {
   "cell_type": "code",
   "execution_count": 2,
   "metadata": {
    "ExecuteTime": {
     "end_time": "2021-09-15T09:42:03.067296Z",
     "start_time": "2021-09-15T09:42:02.955184Z"
    }
   },
   "outputs": [],
   "source": [
    "pr = Project('schroedinger_tutorial')\n",
    "pr.remove_jobs_silently(recursive=True)"
   ]
  },
  {
   "cell_type": "code",
   "execution_count": 3,
   "metadata": {
    "ExecuteTime": {
     "end_time": "2021-09-15T09:42:03.081065Z",
     "start_time": "2021-09-15T09:42:03.072419Z"
    }
   },
   "outputs": [],
   "source": [
    "from pyiron_continuum.schroedinger.mesh import RectMesh\n",
    "from pyiron_continuum.schroedinger.potentials import SquareWell, Sinusoidal\n",
    "# In the long run we'll make those more accessible, e.g. after we settle on the `Toolkit` PR. For now we'll just import them manually."
   ]
  },
  {
   "cell_type": "markdown",
   "metadata": {},
   "source": [
    "# Basic tools\n",
    "\n",
    "Underlying the numerics necessary for the Schroedinger class, we introduce two new tools: meshes and potentials.\n",
    "\n",
    "The `RectMesh` class allows us to quickly build rectangular mesh prisms with uniform grid spacing (which is independent in each cartesian direction). We also have a `Potential` class which maps our mesh onto a scalar field. In particular, here we'll use two children of the `Potential` class which give square and sinusoidal wells.\n",
    "\n",
    "The rest of this section explores the mesh behaviour a little bit. If you want, you can jump straight to the next section where we actually solve the Schroedinger equation."
   ]
  },
  {
   "cell_type": "code",
   "execution_count": null,
   "metadata": {
    "ExecuteTime": {
     "end_time": "2021-09-14T14:45:20.491998Z",
     "start_time": "2021-09-14T14:45:20.481393Z"
    }
   },
   "outputs": [],
   "source": [
    "mesh = RectMesh(\n",
    "    bounds=[\n",
    "        [0, 1],\n",
    "        [1, 3]\n",
    "    ],\n",
    "    divisions=[100, 400]\n",
    ")"
   ]
  },
  {
   "cell_type": "code",
   "execution_count": null,
   "metadata": {
    "ExecuteTime": {
     "end_time": "2021-09-14T14:45:20.519169Z",
     "start_time": "2021-09-14T14:45:20.500443Z"
    }
   },
   "outputs": [],
   "source": [
    "mesh.mesh.shape, mesh.lengths"
   ]
  },
  {
   "cell_type": "code",
   "execution_count": null,
   "metadata": {
    "ExecuteTime": {
     "end_time": "2021-09-14T14:45:20.536381Z",
     "start_time": "2021-09-14T14:45:20.526685Z"
    }
   },
   "outputs": [],
   "source": [
    "potential = Sinusoidal(n_waves=3)"
   ]
  },
  {
   "cell_type": "code",
   "execution_count": null,
   "metadata": {
    "ExecuteTime": {
     "end_time": "2021-09-14T14:45:20.830115Z",
     "start_time": "2021-09-14T14:45:20.542765Z"
    }
   },
   "outputs": [],
   "source": [
    "plt.imshow(potential(mesh))"
   ]
  },
  {
   "cell_type": "markdown",
   "metadata": {},
   "source": [
    "We can also make tools on top of the mesh for performing discrete operations -- right now there's just the Laplacian operator (`(l, m, n) -> (l, m, n)`), but in principle things like grad (`(l, m, n) -> (d, l, m, n)`), div (`(d, l, m, n) -> (l, m, n)`), curl (`(d, l, m, n) -> (d, l, m, n)`) etc. should be easy enough to implement. (Gradient, including non-uniform spacing, is already part of numpy, but none of the others AFAIK.)"
   ]
  },
  {
   "cell_type": "code",
   "execution_count": null,
   "metadata": {
    "ExecuteTime": {
     "end_time": "2021-09-14T14:45:21.163695Z",
     "start_time": "2021-09-14T14:45:20.834636Z"
    }
   },
   "outputs": [],
   "source": [
    "plt.imshow(mesh.laplacian(potential))"
   ]
  },
  {
   "cell_type": "code",
   "execution_count": null,
   "metadata": {
    "ExecuteTime": {
     "end_time": "2021-09-14T14:45:21.656157Z",
     "start_time": "2021-09-14T14:45:21.177470Z"
    }
   },
   "outputs": [],
   "source": [
    "print(mesh.shape, potential(mesh).shape)\n",
    "plt.imshow(mesh.laplacian(potential(mesh)))"
   ]
  },
  {
   "cell_type": "markdown",
   "metadata": {},
   "source": [
    "Why not just `scipy.ndimage.laplacian`?\n",
    "\n",
    "Pros:\n",
    "- Already exists\n",
    "- Has more options than just periodic for boundary conditions\n",
    "\n",
    "Con:\n",
    "- Does not make reference to underlying mesh -- i.e. not allowed to provide different mesh spacings in different directions"
   ]
  },
  {
   "cell_type": "markdown",
   "metadata": {},
   "source": [
    "# 1D Square Well\n",
    "\n",
    "First, let's play with the traditional example of a square well. We will run into numeric issues if we try to make our potential truly infinite, but you can mimic this by increasing the depth of the well to be very, very deep if you want.\n",
    "\n",
    "Other than the potential we provide a mesh, the number of states for which we want to solve, and the mass of the particle we're solving for. After that it's as simple as calling the `run` method!"
   ]
  },
  {
   "cell_type": "code",
   "execution_count": 4,
   "metadata": {
    "ExecuteTime": {
     "end_time": "2021-09-15T09:42:05.101053Z",
     "start_time": "2021-09-15T09:42:03.085297Z"
    }
   },
   "outputs": [
    {
     "name": "stdout",
     "output_type": "stream",
     "text": [
      "The job tise1d_square was saved and received the ID: 4358\n"
     ]
    }
   ],
   "source": [
    "job1d_square = pr.create.job.TISE('tise1d_square', delete_existing_job=True)\n",
    "job1d_square.input.potential = SquareWell(depth=10)\n",
    "job1d_square.input.mesh = RectMesh(bounds=10, divisions=100)\n",
    "job1d_square.input.n_states = 10\n",
    "job1d_square.input.mass = 1\n",
    "job1d_square.run()"
   ]
  },
  {
   "cell_type": "markdown",
   "metadata": {},
   "source": [
    "We can plot the solutions individually, e.g. the first excited state:"
   ]
  },
  {
   "cell_type": "code",
   "execution_count": null,
   "metadata": {
    "ExecuteTime": {
     "end_time": "2021-09-14T14:45:24.356126Z",
     "start_time": "2021-09-14T14:45:24.158628Z"
    }
   },
   "outputs": [],
   "source": [
    "job1d_square.plot_1d.psi(1);"
   ]
  },
  {
   "cell_type": "markdown",
   "metadata": {},
   "source": [
    "We also have a nice helper function for plotting all the states found alongside the potential, shifted by their eigenenergy. As long as your potential well depth is reasonable, this looks quite nice:"
   ]
  },
  {
   "cell_type": "code",
   "execution_count": null,
   "metadata": {
    "ExecuteTime": {
     "end_time": "2021-09-14T14:45:24.787587Z",
     "start_time": "2021-09-14T14:45:24.364652Z"
    }
   },
   "outputs": [],
   "source": [
    "job1d_square.plot_1d.levels();"
   ]
  },
  {
   "cell_type": "markdown",
   "metadata": {},
   "source": [
    "We can also consider the particle in a thermalized superposition of the states,\n",
    "\n",
    "$\\Psi = \\sum_i \\exp(-E_i / k_B T) \\psi_i$,\n",
    "\n",
    "And can use this too look at the wavefunction and probability density at a given temperature:"
   ]
  },
  {
   "cell_type": "code",
   "execution_count": null,
   "metadata": {
    "ExecuteTime": {
     "end_time": "2021-09-14T14:45:25.290767Z",
     "start_time": "2021-09-14T14:45:24.797093Z"
    }
   },
   "outputs": [],
   "source": [
    "T = 1000\n",
    "fig, ax  = plt.subplots()\n",
    "job1d_square.plot_1d.boltzmann_psi(T, ax=ax, label=f'$\\psi({T}K)$')\n",
    "job1d_square.plot_1d.boltzmann_rho(T, ax=ax, label=f'$\\\\rho({T}K)$')\n",
    "plt.legend();"
   ]
  },
  {
   "cell_type": "markdown",
   "metadata": {},
   "source": [
    "We might also want to loop over a variety of temperatures to peek at the thermal broadening of the expected state. Remember to keep an eye on the occupation probability for your highest-energy state! If this gets too large, you should probably go back and calculate more states."
   ]
  },
  {
   "cell_type": "code",
   "execution_count": null,
   "metadata": {
    "ExecuteTime": {
     "end_time": "2021-09-14T14:45:25.629261Z",
     "start_time": "2021-09-14T14:45:25.302709Z"
    }
   },
   "outputs": [],
   "source": [
    "fig, ax  = plt.subplots()\n",
    "job1d_square.plot_1d.potential(ax=ax.twinx(), color='k', label='potl')\n",
    "for T in [1000, 5000, 10000]:\n",
    "    print(f'T = {T}K) Highest state occupation is {job1d_square.output.get_boltzmann_occupation(T)[-1]:.2E}')\n",
    "    job1d_square.plot_1d.boltzmann_rho(T, ax=ax, label=f'{T}K')\n",
    "fig.legend();"
   ]
  },
  {
   "cell_type": "markdown",
   "metadata": {},
   "source": [
    "# 1D Sine Potential\n",
    "\n",
    "We can quickly repeat the same attack for a periodic sinusoid."
   ]
  },
  {
   "cell_type": "code",
   "execution_count": null,
   "metadata": {
    "ExecuteTime": {
     "end_time": "2021-09-14T14:45:26.514423Z",
     "start_time": "2021-09-14T14:45:25.648785Z"
    }
   },
   "outputs": [],
   "source": [
    "job1d_sin = pr.create.job.TISE('tise1d_sin', delete_existing_job=True)\n",
    "job1d_sin.input.potential = Sinusoidal(amplitude=2)\n",
    "job1d_sin.input.mesh = RectMesh(bounds=10, divisions=200)\n",
    "job1d_sin.input.n_states = 10\n",
    "job1d_sin.run()"
   ]
  },
  {
   "cell_type": "code",
   "execution_count": null,
   "metadata": {
    "ExecuteTime": {
     "end_time": "2021-09-14T14:45:26.561162Z",
     "start_time": "2021-09-14T14:45:26.528725Z"
    }
   },
   "outputs": [],
   "source": [
    "job1d_sin.output.energy"
   ]
  },
  {
   "cell_type": "code",
   "execution_count": null,
   "metadata": {
    "ExecuteTime": {
     "end_time": "2021-09-14T14:45:27.224603Z",
     "start_time": "2021-09-14T14:45:26.575879Z"
    }
   },
   "outputs": [],
   "source": [
    "job1d_sin.plot_1d.levels();"
   ]
  },
  {
   "cell_type": "code",
   "execution_count": null,
   "metadata": {
    "ExecuteTime": {
     "end_time": "2021-09-14T14:45:28.030756Z",
     "start_time": "2021-09-14T14:45:27.282094Z"
    }
   },
   "outputs": [],
   "source": [
    "fig, ax  = plt.subplots()\n",
    "job1d_sin.plot_1d.potential(ax=ax.twinx(), label='potl', color='k')\n",
    "for T in [1000, 5000, 10000]:\n",
    "    print(f'T = {T}K) Highest state occupation is {job1d_sin.output.get_boltzmann_occupation(T)[-1]:.1E}')\n",
    "    job1d_sin.plot_1d.boltzmann_rho(T, ax=ax, label=f'{T}')\n",
    "fig.legend();"
   ]
  },
  {
   "cell_type": "markdown",
   "metadata": {},
   "source": [
    "# 2D Sine Potential\n",
    "\n",
    "Working in higher dimensions is as simple as passing in a higher dimensional mesh. This in turn is as simple as providing the `RectMesh` object with bounds for each dimension. Note that the divisions will automatically scale up to the dimensionality of the bounds."
   ]
  },
  {
   "cell_type": "code",
   "execution_count": null,
   "metadata": {
    "ExecuteTime": {
     "end_time": "2021-09-14T14:45:29.674829Z",
     "start_time": "2021-09-14T14:45:28.044494Z"
    }
   },
   "outputs": [],
   "source": [
    "job2d_sin = pr.create.job.TISE('tise2d_sin', delete_existing_job=True)\n",
    "job2d_sin.input.potential = Sinusoidal(n_waves=2, amplitude=2)\n",
    "job2d_sin.input.mesh = RectMesh(bounds=[10, 10], divisions=50)\n",
    "nx, ny = 4, 3  # Just a convenient decomposition of the number of states for later plotting\n",
    "job2d_sin.input.n_states = nx * ny\n",
    "job2d_sin.run()"
   ]
  },
  {
   "cell_type": "code",
   "execution_count": null,
   "metadata": {
    "ExecuteTime": {
     "end_time": "2021-09-14T14:45:29.701550Z",
     "start_time": "2021-09-14T14:45:29.688456Z"
    }
   },
   "outputs": [],
   "source": [
    "job2d_sin.output.energy"
   ]
  },
  {
   "cell_type": "markdown",
   "metadata": {},
   "source": [
    "Higher dimensional data is a bit less friendly for plotting, so we don't have a nice overlap of potentials and wavefunctions, but we can look at them one at a time"
   ]
  },
  {
   "cell_type": "code",
   "execution_count": null,
   "metadata": {
    "ExecuteTime": {
     "end_time": "2021-09-14T14:45:29.864846Z",
     "start_time": "2021-09-14T14:45:29.707667Z"
    }
   },
   "outputs": [],
   "source": [
    "job2d_sin.plot_2d.potential();"
   ]
  },
  {
   "cell_type": "code",
   "execution_count": null,
   "metadata": {
    "ExecuteTime": {
     "end_time": "2021-09-14T14:45:31.117456Z",
     "start_time": "2021-09-14T14:45:29.871540Z"
    }
   },
   "outputs": [],
   "source": [
    "fig, axes = plt.subplots(ncols=nx, nrows=ny)\n",
    "flaxes = axes.flatten()\n",
    "for i in range(job2d_sin.input.n_states):\n",
    "    job2d_sin.plot_2d.psi(i, ax=flaxes[i])  # also try `psi`-->`rho` to plot density!\n",
    "    flaxes[i].set_title(f'state {i}')\n",
    "fig.tight_layout()\n",
    "plt.show()"
   ]
  },
  {
   "cell_type": "markdown",
   "metadata": {},
   "source": [
    "And of course we can still look at a thermal average (although, again, overlaying multiple temperatures is not so easy)"
   ]
  },
  {
   "cell_type": "code",
   "execution_count": null,
   "metadata": {
    "ExecuteTime": {
     "end_time": "2021-09-14T14:45:31.340351Z",
     "start_time": "2021-09-14T14:45:31.122647Z"
    }
   },
   "outputs": [],
   "source": [
    "fig, ax = plt.subplots()\n",
    "_, img = job2d_sin.plot_2d.boltzmann_rho(500, ax=ax)\n",
    "plt.colorbar(img, ax=ax)\n",
    "plt.show()"
   ]
  },
  {
   "cell_type": "markdown",
   "metadata": {},
   "source": [
    "# 2D Random Potential\n",
    "\n",
    "In this notebook we mostly use potentials that inherit from the `Potentials` class, which is great when you have a single parameterized potential you want to re-use many times. However, you might have a single potential that you know numerically on your mesh and you just want to use that. This is fine, as we allow the potential to be provided as a numpy array. Please note that if it doesn't have dimensionality matching a scalar field on your mesh (i.e. dimension `(l, m, n)`if your mesh has dimension `(d, l, m, n)`) then you will run into trouble.\n",
    "\n",
    "For this example, let's just make a silly potential that's completely random noise."
   ]
  },
  {
   "cell_type": "code",
   "execution_count": 19,
   "metadata": {
    "ExecuteTime": {
     "end_time": "2021-09-15T09:50:40.370077Z",
     "start_time": "2021-09-15T09:50:40.363834Z"
    }
   },
   "outputs": [],
   "source": [
    "def my_potential(mesh, scale=5):\n",
    "    return np.random.rand(*mesh.shape[1:])"
   ]
  },
  {
   "cell_type": "code",
   "execution_count": 20,
   "metadata": {
    "ExecuteTime": {
     "end_time": "2021-09-15T09:50:42.046351Z",
     "start_time": "2021-09-15T09:50:40.974712Z"
    }
   },
   "outputs": [
    {
     "name": "stdout",
     "output_type": "stream",
     "text": [
      "The job tise2d_rand was saved and received the ID: 4359\n"
     ]
    }
   ],
   "source": [
    "job2d_rand = pr.create.job.TISE('tise2d_rand', delete_existing_job=True)\n",
    "job2d_rand.input.mesh = RectMesh(bounds=[10, 10], divisions=50)\n",
    "job2d_rand.input.potential = my_potential(job2d_rand.mesh)\n",
    "nx, ny = 4, 3  # Just a convenient decomposition of the number of states for later plotting\n",
    "job2d_rand.input.n_states = nx * ny\n",
    "job2d_rand.run()"
   ]
  },
  {
   "cell_type": "code",
   "execution_count": 21,
   "metadata": {
    "ExecuteTime": {
     "end_time": "2021-09-15T09:50:42.675762Z",
     "start_time": "2021-09-15T09:50:42.667207Z"
    }
   },
   "outputs": [
    {
     "data": {
      "text/plain": [
       "array([0.49423204, 0.68284033, 0.68770404, 0.69446844, 0.70113568,\n",
       "       0.87552566, 0.88656033, 0.89473715, 0.90112608, 1.27024716,\n",
       "       1.27441477, 1.28266028])"
      ]
     },
     "execution_count": 21,
     "metadata": {},
     "output_type": "execute_result"
    }
   ],
   "source": [
    "job2d_rand.output.energy"
   ]
  },
  {
   "cell_type": "code",
   "execution_count": 22,
   "metadata": {
    "ExecuteTime": {
     "end_time": "2021-09-15T09:50:45.343797Z",
     "start_time": "2021-09-15T09:50:45.091431Z"
    }
   },
   "outputs": [
    {
     "data": {
      "text/plain": [
       "(<Figure size 432x288 with 1 Axes>,\n",
       " <matplotlib.contour.QuadContourSet at 0x7fcef0467130>)"
      ]
     },
     "execution_count": 22,
     "metadata": {},
     "output_type": "execute_result"
    },
    {
     "data": {
      "image/png": "[encoded data removed]",
      "text/plain": [
       "<Figure size 432x288 with 1 Axes>"
      ]
     },
     "metadata": {
      "image/png": {
       "height": 248,
       "width": 368
      },
      "needs_background": "light"
     },
     "output_type": "display_data"
    }
   ],
   "source": [
    "job2d_rand.plot_2d.potential()"
   ]
  },
  {
   "cell_type": "code",
   "execution_count": 23,
   "metadata": {
    "ExecuteTime": {
     "end_time": "2021-09-15T09:50:48.624210Z",
     "start_time": "2021-09-15T09:50:47.292068Z"
    }
   },
   "outputs": [
    {
     "data": {
      "image/png": "[encoded data removed]",
      "text/plain": [
       "<Figure size 432x288 with 12 Axes>"
      ]
     },
     "metadata": {
      "image/png": {
       "height": 279,
       "width": 424
      },
      "needs_background": "light"
     },
     "output_type": "display_data"
    }
   ],
   "source": [
    "fig, axes = plt.subplots(ncols=nx, nrows=ny)\n",
    "flaxes = axes.flatten()\n",
    "for i in range(job2d_rand.input.n_states):\n",
    "    job2d_rand.plot_2d.psi(i, ax=flaxes[i])  # also try `psi`-->`rho` to plot density!\n",
    "    flaxes[i].set_title(f'state {i}')\n",
    "fig.tight_layout()\n",
    "plt.show()"
   ]
  },
  {
   "cell_type": "markdown",
   "metadata": {},
   "source": [
    "The low-energy states are closely linked to the noise that we see in our potential, but as we get to higher energy they become more wavelike as they are more like a free electron solution"
   ]
  },
  {
   "cell_type": "markdown",
   "metadata": {},
   "source": [
    "# 3D Cube Potential\n",
    "\n",
    "Finally, we can also run in 3D. The only real words of warning are that plotting requires the `k3d` library, which is not standard, and that you may need to be careful about how dense your grid is to avoid computational expense. Otherwise it's the same old song and dance."
   ]
  },
  {
   "cell_type": "code",
   "execution_count": null,
   "metadata": {
    "ExecuteTime": {
     "end_time": "2021-09-14T14:45:32.542460Z",
     "start_time": "2021-09-14T14:45:31.348518Z"
    }
   },
   "outputs": [],
   "source": [
    "job3d_cube = pr.create.job.TISE('tise3d_cube', delete_existing_job=True)\n",
    "job3d_cube.input.potential = SquareWell(depth=5)\n",
    "job3d_cube.input.mesh = RectMesh(bounds=[10, 10, 10], divisions=20)\n",
    "job3d_cube.input.n_states = 6\n",
    "job3d_cube.run()"
   ]
  },
  {
   "cell_type": "code",
   "execution_count": null,
   "metadata": {
    "ExecuteTime": {
     "end_time": "2021-09-14T14:45:32.566920Z",
     "start_time": "2021-09-14T14:45:32.557386Z"
    }
   },
   "outputs": [],
   "source": [
    "job3d_cube.output.energy"
   ]
  },
  {
   "cell_type": "markdown",
   "metadata": {},
   "source": [
    "Our potential is pretty boring, it's just a cube:"
   ]
  },
  {
   "cell_type": "code",
   "execution_count": null,
   "metadata": {
    "ExecuteTime": {
     "end_time": "2021-09-14T14:45:32.655258Z",
     "start_time": "2021-09-14T14:45:32.571645Z"
    }
   },
   "outputs": [],
   "source": [
    "_, plot = job3d_cube.plot_3d.potential()\n",
    "plot.display()"
   ]
  },
  {
   "cell_type": "markdown",
   "metadata": {},
   "source": [
    "But very pleasingly our states really start to look like molecular orbitals now that we're working in 3D, even though our potential is the not-so-physical cubic well!"
   ]
  },
  {
   "cell_type": "code",
   "execution_count": null,
   "metadata": {
    "ExecuteTime": {
     "end_time": "2021-09-14T14:45:32.773991Z",
     "start_time": "2021-09-14T14:45:32.664338Z"
    }
   },
   "outputs": [],
   "source": [
    "_, plot = job3d_cube.plot_3d.psi(1, level=0.02)\n",
    "plot.display()"
   ]
  },
  {
   "cell_type": "markdown",
   "metadata": {},
   "source": [
    "# Exercise\n",
    "\n",
    "We are solving analytic equations on a discrete mesh -- this can lead to errors in our final result. Re-run the jobs at different mesh densities and plot the ground state energy as a function of mesh divisions. How many divisions are required to get the energy converged to within 0.01 eV? (You may wish to start this exercise with the 1D system while you're writing your code, since it will run much faster.)"
   ]
  },
  {
   "cell_type": "code",
   "execution_count": null,
   "metadata": {
    "ExecuteTime": {
     "end_time": "2021-09-14T14:45:32.944626Z",
     "start_time": "2021-09-14T14:45:32.779222Z"
    }
   },
   "outputs": [],
   "source": [
    "pr.remove(enable=True)"
   ]
  },
  {
   "cell_type": "code",
   "execution_count": null,
   "metadata": {},
   "outputs": [],
   "source": []
  }
 ],
 "metadata": {
  "anaconda-cloud": {},
  "kernelspec": {
   "display_name": "Python 3",
   "language": "python",
   "name": "python3"
  },
  "language_info": {
   "codemirror_mode": {
    "name": "ipython",
    "version": 3
   },
   "file_extension": ".py",
   "mimetype": "text/x-python",
   "name": "python",
   "nbconvert_exporter": "python",
   "pygments_lexer": "ipython3",
   "version": "3.8.8"
  },
  "toc": {
   "base_numbering": 1,
   "nav_menu": {},
   "number_sections": true,
   "sideBar": true,
   "skip_h1_title": false,
   "title_cell": "Table of Contents",
   "title_sidebar": "Contents",
   "toc_cell": false,
   "toc_position": {},
   "toc_section_display": true,
   "toc_window_display": false
  }
 },
 "nbformat": 4,
 "nbformat_minor": 4
}
