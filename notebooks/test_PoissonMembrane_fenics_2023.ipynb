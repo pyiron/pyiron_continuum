{
 "cells": [
  {
   "cell_type": "code",
   "execution_count": 1,
   "id": "670c6bac-48ca-49d7-b10d-94b13a2f4c90",
   "metadata": {},
   "outputs": [],
   "source": [
    "import pyvista\n",
    "from dolfinx import mesh, fem, plot, io, default_scalar_type\n",
    "from dolfinx.fem.petsc import LinearProblem\n",
    "from mpi4py import MPI\n",
    "import ufl\n",
    "import numpy as np\n",
    "from dolfinx.plot import vtk_mesh\n",
    "import matplotlib.pyplot as plt\n",
    "import gmsh"
   ]
  },
  {
   "cell_type": "code",
   "execution_count": 2,
   "id": "b64d44c7-2e1d-4a8f-95e6-5088e641c435",
   "metadata": {},
   "outputs": [],
   "source": [
    "pyvista.start_xvfb()"
   ]
  },
  {
   "cell_type": "code",
   "execution_count": 3,
   "id": "a807d478-2662-49b6-ba25-40748c31230d",
   "metadata": {},
   "outputs": [],
   "source": [
    "gmsh.initialize()"
   ]
  },
  {
   "cell_type": "code",
   "execution_count": 4,
   "id": "2d2b1480-b3eb-4e9f-ac7a-e0a0fe9fdad6",
   "metadata": {},
   "outputs": [
    {
     "data": {
      "text/plain": [
       "\u001b[0;31mSignature:\u001b[0m \u001b[0mgmsh\u001b[0m\u001b[0;34m.\u001b[0m\u001b[0mmodel\u001b[0m\u001b[0;34m.\u001b[0m\u001b[0mocc\u001b[0m\u001b[0;34m.\u001b[0m\u001b[0maddRectangle\u001b[0m\u001b[0;34m(\u001b[0m\u001b[0mx\u001b[0m\u001b[0;34m,\u001b[0m \u001b[0my\u001b[0m\u001b[0;34m,\u001b[0m \u001b[0mz\u001b[0m\u001b[0;34m,\u001b[0m \u001b[0mdx\u001b[0m\u001b[0;34m,\u001b[0m \u001b[0mdy\u001b[0m\u001b[0;34m,\u001b[0m \u001b[0mtag\u001b[0m\u001b[0;34m=\u001b[0m\u001b[0;34m-\u001b[0m\u001b[0;36m1\u001b[0m\u001b[0;34m,\u001b[0m \u001b[0mroundedRadius\u001b[0m\u001b[0;34m=\u001b[0m\u001b[0;36m0.0\u001b[0m\u001b[0;34m)\u001b[0m\u001b[0;34m\u001b[0m\u001b[0;34m\u001b[0m\u001b[0m\n",
       "\u001b[0;31mSource:\u001b[0m   \n",
       "        \u001b[0;34m@\u001b[0m\u001b[0mstaticmethod\u001b[0m\u001b[0;34m\u001b[0m\n",
       "\u001b[0;34m\u001b[0m        \u001b[0;32mdef\u001b[0m \u001b[0maddRectangle\u001b[0m\u001b[0;34m(\u001b[0m\u001b[0mx\u001b[0m\u001b[0;34m,\u001b[0m \u001b[0my\u001b[0m\u001b[0;34m,\u001b[0m \u001b[0mz\u001b[0m\u001b[0;34m,\u001b[0m \u001b[0mdx\u001b[0m\u001b[0;34m,\u001b[0m \u001b[0mdy\u001b[0m\u001b[0;34m,\u001b[0m \u001b[0mtag\u001b[0m\u001b[0;34m=\u001b[0m\u001b[0;34m-\u001b[0m\u001b[0;36m1\u001b[0m\u001b[0;34m,\u001b[0m \u001b[0mroundedRadius\u001b[0m\u001b[0;34m=\u001b[0m\u001b[0;36m0.\u001b[0m\u001b[0;34m)\u001b[0m\u001b[0;34m:\u001b[0m\u001b[0;34m\u001b[0m\n",
       "\u001b[0;34m\u001b[0m            \u001b[0;34m\"\"\"\u001b[0m\n",
       "\u001b[0;34m            gmsh.model.occ.addRectangle(x, y, z, dx, dy, tag=-1, roundedRadius=0.)\u001b[0m\n",
       "\u001b[0;34m\u001b[0m\n",
       "\u001b[0;34m            Add a rectangle in the OpenCASCADE CAD representation, with lower left\u001b[0m\n",
       "\u001b[0;34m            corner at (`x', `y', `z') and upper right corner at (`x' + `dx', `y' +\u001b[0m\n",
       "\u001b[0;34m            `dy', `z'). If `tag' is positive, set the tag explicitly; otherwise a new\u001b[0m\n",
       "\u001b[0;34m            tag is selected automatically. Round the corners if `roundedRadius' is\u001b[0m\n",
       "\u001b[0;34m            nonzero. Return the tag of the rectangle.\u001b[0m\n",
       "\u001b[0;34m\u001b[0m\n",
       "\u001b[0;34m            Return an integer.\u001b[0m\n",
       "\u001b[0;34m\u001b[0m\n",
       "\u001b[0;34m            Types:\u001b[0m\n",
       "\u001b[0;34m            - `x': double\u001b[0m\n",
       "\u001b[0;34m            - `y': double\u001b[0m\n",
       "\u001b[0;34m            - `z': double\u001b[0m\n",
       "\u001b[0;34m            - `dx': double\u001b[0m\n",
       "\u001b[0;34m            - `dy': double\u001b[0m\n",
       "\u001b[0;34m            - `tag': integer\u001b[0m\n",
       "\u001b[0;34m            - `roundedRadius': double\u001b[0m\n",
       "\u001b[0;34m            \"\"\"\u001b[0m\u001b[0;34m\u001b[0m\n",
       "\u001b[0;34m\u001b[0m            \u001b[0mierr\u001b[0m \u001b[0;34m=\u001b[0m \u001b[0mc_int\u001b[0m\u001b[0;34m(\u001b[0m\u001b[0;34m)\u001b[0m\u001b[0;34m\u001b[0m\n",
       "\u001b[0;34m\u001b[0m            \u001b[0mapi_result_\u001b[0m \u001b[0;34m=\u001b[0m \u001b[0mlib\u001b[0m\u001b[0;34m.\u001b[0m\u001b[0mgmshModelOccAddRectangle\u001b[0m\u001b[0;34m(\u001b[0m\u001b[0;34m\u001b[0m\n",
       "\u001b[0;34m\u001b[0m                \u001b[0mc_double\u001b[0m\u001b[0;34m(\u001b[0m\u001b[0mx\u001b[0m\u001b[0;34m)\u001b[0m\u001b[0;34m,\u001b[0m\u001b[0;34m\u001b[0m\n",
       "\u001b[0;34m\u001b[0m                \u001b[0mc_double\u001b[0m\u001b[0;34m(\u001b[0m\u001b[0my\u001b[0m\u001b[0;34m)\u001b[0m\u001b[0;34m,\u001b[0m\u001b[0;34m\u001b[0m\n",
       "\u001b[0;34m\u001b[0m                \u001b[0mc_double\u001b[0m\u001b[0;34m(\u001b[0m\u001b[0mz\u001b[0m\u001b[0;34m)\u001b[0m\u001b[0;34m,\u001b[0m\u001b[0;34m\u001b[0m\n",
       "\u001b[0;34m\u001b[0m                \u001b[0mc_double\u001b[0m\u001b[0;34m(\u001b[0m\u001b[0mdx\u001b[0m\u001b[0;34m)\u001b[0m\u001b[0;34m,\u001b[0m\u001b[0;34m\u001b[0m\n",
       "\u001b[0;34m\u001b[0m                \u001b[0mc_double\u001b[0m\u001b[0;34m(\u001b[0m\u001b[0mdy\u001b[0m\u001b[0;34m)\u001b[0m\u001b[0;34m,\u001b[0m\u001b[0;34m\u001b[0m\n",
       "\u001b[0;34m\u001b[0m                \u001b[0mc_int\u001b[0m\u001b[0;34m(\u001b[0m\u001b[0mtag\u001b[0m\u001b[0;34m)\u001b[0m\u001b[0;34m,\u001b[0m\u001b[0;34m\u001b[0m\n",
       "\u001b[0;34m\u001b[0m                \u001b[0mc_double\u001b[0m\u001b[0;34m(\u001b[0m\u001b[0mroundedRadius\u001b[0m\u001b[0;34m)\u001b[0m\u001b[0;34m,\u001b[0m\u001b[0;34m\u001b[0m\n",
       "\u001b[0;34m\u001b[0m                \u001b[0mbyref\u001b[0m\u001b[0;34m(\u001b[0m\u001b[0mierr\u001b[0m\u001b[0;34m)\u001b[0m\u001b[0;34m)\u001b[0m\u001b[0;34m\u001b[0m\n",
       "\u001b[0;34m\u001b[0m            \u001b[0;32mif\u001b[0m \u001b[0mierr\u001b[0m\u001b[0;34m.\u001b[0m\u001b[0mvalue\u001b[0m \u001b[0;34m!=\u001b[0m \u001b[0;36m0\u001b[0m\u001b[0;34m:\u001b[0m\u001b[0;34m\u001b[0m\n",
       "\u001b[0;34m\u001b[0m                \u001b[0;32mraise\u001b[0m \u001b[0mException\u001b[0m\u001b[0;34m(\u001b[0m\u001b[0mlogger\u001b[0m\u001b[0;34m.\u001b[0m\u001b[0mgetLastError\u001b[0m\u001b[0;34m(\u001b[0m\u001b[0;34m)\u001b[0m\u001b[0;34m)\u001b[0m\u001b[0;34m\u001b[0m\n",
       "\u001b[0;34m\u001b[0m            \u001b[0;32mreturn\u001b[0m \u001b[0mapi_result_\u001b[0m\u001b[0;34m\u001b[0m\u001b[0;34m\u001b[0m\u001b[0m\n",
       "\u001b[0;31mFile:\u001b[0m      ~/anaconda3/envs/pyiron_fenics_2023/lib/python3.12/site-packages/gmsh.py\n",
       "\u001b[0;31mType:\u001b[0m      function"
      ]
     },
     "metadata": {},
     "output_type": "display_data"
    }
   ],
   "source": [
    "gmsh.model.occ.addRectangle??"
   ]
  },
  {
   "cell_type": "code",
   "execution_count": 5,
   "id": "7390388e-3e90-4045-8a93-efafcef49105",
   "metadata": {},
   "outputs": [
    {
     "data": {
      "text/plain": [
       "1"
      ]
     },
     "execution_count": 5,
     "metadata": {},
     "output_type": "execute_result"
    }
   ],
   "source": [
    "membrane = gmsh.model.occ.addDisk(0, 0, 0, 1, 1)\n",
    "gmsh.model.occ.synchronize()\n",
    "gdim = 2\n",
    "gmsh.model.addPhysicalGroup(gdim, [membrane], 1)"
   ]
  },
  {
   "cell_type": "code",
   "execution_count": 6,
   "id": "bad434a8-0165-4bc9-b8ef-5016b1d1c856",
   "metadata": {},
   "outputs": [
    {
     "name": "stdout",
     "output_type": "stream",
     "text": [
      "Info    : Meshing 1D...\n",
      "Info    : Meshing curve 1 (Ellipse)\n",
      "Info    : Done meshing 1D (Wall 0.000168306s, CPU 0.000193s)\n",
      "Info    : Meshing 2D...\n",
      "Info    : Meshing surface 1 (Plane, Frontal-Delaunay)\n",
      "Info    : Done meshing 2D (Wall 0.0540789s, CPU 0.052859s)\n",
      "Info    : 1550 nodes 3099 elements\n"
     ]
    }
   ],
   "source": [
    "gmsh.option.setNumber(\"Mesh.CharacteristicLengthMin\", 0.05)\n",
    "gmsh.option.setNumber(\"Mesh.CharacteristicLengthMax\", 0.05)\n",
    "gmsh.model.mesh.generate(gdim)"
   ]
  },
  {
   "cell_type": "code",
   "execution_count": 7,
   "id": "357c95c6-198c-4bcc-be7b-88bb80e16e31",
   "metadata": {},
   "outputs": [],
   "source": [
    "from dolfinx.io import gmshio\n",
    "gmsh_model_rank = 0\n",
    "mesh_comm = MPI.COMM_WORLD\n",
    "domain, cell_markers, facet_markers = gmshio.model_to_mesh(gmsh.model, mesh_comm, gmsh_model_rank, gdim=gdim)\n",
    "V = fem.FunctionSpace(domain, (\"Lagrange\", 1))"
   ]
  },
  {
   "cell_type": "code",
   "execution_count": 8,
   "id": "a60157d1-860b-4a9b-bdc2-fa9409710094",
   "metadata": {},
   "outputs": [
    {
     "data": {
      "text/plain": [
       "FunctionSpace(Mesh(blocked element (Basix element (P, triangle, 1, equispaced, unset, False), (2,)), 0), Basix element (P, triangle, 1, gll_warped, unset, False))"
      ]
     },
     "execution_count": 8,
     "metadata": {},
     "output_type": "execute_result"
    }
   ],
   "source": [
    "V"
   ]
  },
  {
   "cell_type": "code",
   "execution_count": 9,
   "id": "fb9ffedc-50f4-45a7-846e-3d61c1261452",
   "metadata": {},
   "outputs": [
    {
     "data": {
      "application/vnd.jupyter.widget-view+json": {
       "model_id": "b9a09b8b0e5f47aaac2cf5c43f83672f",
       "version_major": 2,
       "version_minor": 0
      },
      "text/plain": [
       "Widget(value='<iframe src=\"http://localhost:37909/index.html?ui=P_0x73d0812b2fc0_0&reconnect=auto\" class=\"pyvi…"
      ]
     },
     "metadata": {},
     "output_type": "display_data"
    }
   ],
   "source": [
    "p = pyvista.Plotter()\n",
    "topology, cell_types, geometry = plot.vtk_mesh(V)\n",
    "grid = pyvista.UnstructuredGrid(topology, cell_types, geometry)\n",
    "\n",
    "p.add_mesh(grid, show_edges=True)\n",
    "p.show()"
   ]
  },
  {
   "cell_type": "markdown",
   "id": "ef81ced2-f3f0-48d2-9fb5-afe1ff2e2942",
   "metadata": {},
   "source": [
    "**For BOX mesh using gmsh** <br>\n",
    "*Comment out this stuff and change cell to code type* <br>\n",
    "\n",
    "from dolfinx.io import gmshio\n",
    "box=gmsh.model.occ.addBox(0,0,0,1,1,1)\n",
    "gmsh.model.occ.synchronize()\n",
    "gdim1 = 3\n",
    "gmsh.model.addPhysicalGroup(gdim1, [box], 1)\n",
    "gmsh.option.setNumber(\"Mesh.CharacteristicLengthMin\", 0.05)\n",
    "gmsh.option.setNumber(\"Mesh.CharacteristicLengthMax\", 0.05)\n",
    "gmsh.model.mesh.generate(gdim1)\n",
    "gmsh_model_rank1 = 0\n",
    "mesh_comm1 = MPI.COMM_WORLD\n",
    "domain1, cell_markers1, facet_markers1 = gmshio.model_to_mesh(gmsh.model, mesh_comm1, gmsh_model_rank1, gdim=gdim1)\n",
    "V1 = fem.FunctionSpace(domain1, (\"Lagrange\", 1))\n",
    "p1 = pyvista.Plotter()\n",
    "topology1, cell_types1, geometry1 = plot.vtk_mesh(V1)\n",
    "grid1 = pyvista.UnstructuredGrid(topology1, cell_types1, geometry1)\n",
    "\n",
    "p1.add_mesh(grid1, show_edges=True)\n",
    "p1.show()"
   ]
  },
  {
   "cell_type": "code",
   "execution_count": 10,
   "id": "8614c567-8479-483e-a3ad-7860e5f32e57",
   "metadata": {},
   "outputs": [
    {
     "data": {
      "text/plain": [
       "(SpatialCoordinate(Mesh(blocked element (Basix element (P, triangle, 1, equispaced, unset, False), (2,)), 0)),\n",
       " Constant(Mesh(blocked element (Basix element (P, triangle, 1, equispaced, unset, False), (2,)), 0), (), 0),\n",
       " Constant(Mesh(blocked element (Basix element (P, triangle, 1, equispaced, unset, False), (2,)), 0), (), 1),\n",
       " Product(IntValue(4), Exp(Product(Sum(Power(Indexed(SpatialCoordinate(Mesh(blocked element (Basix element (P, triangle, 1, equispaced, unset, False), (2,)), 0)), MultiIndex((FixedIndex(0),))), IntValue(2)), Power(Sum(Indexed(SpatialCoordinate(Mesh(blocked element (Basix element (P, triangle, 1, equispaced, unset, False), (2,)), 0)), MultiIndex((FixedIndex(1),))), Product(IntValue(-1), Constant(Mesh(blocked element (Basix element (P, triangle, 1, equispaced, unset, False), (2,)), 0), (), 1))), IntValue(2))), Product(IntValue(-1), Power(Constant(Mesh(blocked element (Basix element (P, triangle, 1, equispaced, unset, False), (2,)), 0), (), 0), IntValue(2)))))))"
      ]
     },
     "execution_count": 10,
     "metadata": {},
     "output_type": "execute_result"
    }
   ],
   "source": [
    "x = ufl.SpatialCoordinate(domain)\n",
    "beta = fem.Constant(domain, default_scalar_type(8))\n",
    "R0 = fem.Constant(domain, default_scalar_type(0.6))\n",
    "p = 4 * ufl.exp(-beta**2 * (x[0]**2 + (x[1] - R0)**2))\n",
    "x, beta, R0, p"
   ]
  },
  {
   "cell_type": "code",
   "execution_count": 11,
   "id": "eda567b7-5ccc-4d5f-a07b-2dc3bbea8cc3",
   "metadata": {},
   "outputs": [],
   "source": [
    "def on_boundary(x):\n",
    "    return np.isclose(np.sqrt(x[0]**2 + x[1]**2), 1)\n",
    "\n",
    "boundary_dofs = fem.locate_dofs_geometrical(V, on_boundary)\n",
    "bc = fem.dirichletbc(default_scalar_type(0), boundary_dofs, V)"
   ]
  },
  {
   "cell_type": "code",
   "execution_count": 12,
   "id": "20b239a5-9f10-4f77-ac11-00860789e08b",
   "metadata": {},
   "outputs": [],
   "source": [
    "#def clamped_boundary(x):\n",
    "#    return np.isclose(np.sqrt(x[0]**2 + x[1]**2), 1)\n",
    "\n",
    "\n",
    "#fdim = domain.topology.dim - 1\n",
    "#boundary_facets = mesh.locate_entities_boundary(domain, fdim, clamped_boundary)\n",
    "\n",
    "#u_D = default_scalar_type(0)\n",
    "#bc = fem.dirichletbc(u_D, fem.locate_dofs_topological(V, fdim, boundary_facets), V)"
   ]
  },
  {
   "cell_type": "code",
   "execution_count": 13,
   "id": "dfac7c08-041d-4fb1-a995-545fb6fba560",
   "metadata": {},
   "outputs": [],
   "source": [
    "u = ufl.TrialFunction(V)\n",
    "v = ufl.TestFunction(V)\n",
    "a = ufl.dot(ufl.grad(u), ufl.grad(v)) * ufl.dx\n",
    "L = p * v * ufl.dx\n",
    "problem = LinearProblem(a, L, bcs=[bc], petsc_options={\"ksp_type\": \"preonly\", \"pc_type\": \"lu\"})\n",
    "uh = problem.solve()"
   ]
  },
  {
   "cell_type": "code",
   "execution_count": 19,
   "id": "72b49b71-7331-4bf4-8d16-a144b66a0d34",
   "metadata": {},
   "outputs": [
    {
     "data": {
      "text/plain": [
       "Coefficient(FunctionSpace(Mesh(blocked element (Basix element (P, triangle, 1, equispaced, unset, False), (2,)), 0), Basix element (P, triangle, 1, gll_warped, unset, False)), 0)"
      ]
     },
     "execution_count": 19,
     "metadata": {},
     "output_type": "execute_result"
    }
   ],
   "source": [
    "uh"
   ]
  },
  {
   "cell_type": "code",
   "execution_count": 14,
   "id": "94a861cb-ebdc-4064-a4e5-ef50246ab2b8",
   "metadata": {},
   "outputs": [
    {
     "data": {
      "application/vnd.jupyter.widget-view+json": {
       "model_id": "45b1e3744a094bf1b939538fd03d21aa",
       "version_major": 2,
       "version_minor": 0
      },
      "text/plain": [
       "Widget(value='<iframe src=\"http://localhost:37909/index.html?ui=P_0x73d07889a930_1&reconnect=auto\" class=\"pyvi…"
      ]
     },
     "metadata": {},
     "output_type": "display_data"
    }
   ],
   "source": [
    "\n",
    "# Extract topology from mesh and create pyvista mesh\n",
    "    topology, cell_types, x = vtk_mesh(V)\n",
    "    grid = pyvista.UnstructuredGrid(topology, cell_types, x)\n",
    "\n",
    "# Set deflection values and add it to plotter\n",
    "grid.point_data[\"u\"] = uh.x.array\n",
    "warped = grid.warp_by_scalar(\"u\", factor=25)\n",
    "\n",
    "plotter = pyvista.Plotter()\n",
    "plotter.add_mesh(warped, show_edges=True, show_scalar_bar=True, scalars=\"u\")\n",
    "plotter.show()"
   ]
  },
  {
   "cell_type": "code",
   "execution_count": 15,
   "id": "c7698246-0417-48fe-9e39-a9a35a7e91a2",
   "metadata": {},
   "outputs": [],
   "source": [
    "Q = fem.FunctionSpace(domain, (\"Lagrange\", 5))\n",
    "expr = fem.Expression(p, Q.element.interpolation_points())\n",
    "pressure = fem.Function(Q)\n",
    "pressure.interpolate(expr)"
   ]
  },
  {
   "cell_type": "code",
   "execution_count": 16,
   "id": "2c1662b1-9ca9-4218-9325-60e35f276d79",
   "metadata": {},
   "outputs": [
    {
     "data": {
      "application/vnd.jupyter.widget-view+json": {
       "model_id": "777afe613a284c528d30b40794c2a58c",
       "version_major": 2,
       "version_minor": 0
      },
      "text/plain": [
       "Widget(value='<iframe src=\"http://localhost:37909/index.html?ui=P_0x73d074365130_2&reconnect=auto\" class=\"pyvi…"
      ]
     },
     "metadata": {},
     "output_type": "display_data"
    }
   ],
   "source": [
    "load_plotter = pyvista.Plotter()\n",
    "p_grid = pyvista.UnstructuredGrid(*vtk_mesh(Q))\n",
    "p_grid.point_data[\"p\"] = pressure.x.array.real\n",
    "warped_p = p_grid.warp_by_scalar(\"p\", factor=0.5)\n",
    "warped_p.set_active_scalars(\"p\")\n",
    "load_plotter.add_mesh(warped_p, show_edges=False, show_scalar_bar=True)\n",
    "load_plotter.show()"
   ]
  },
  {
   "cell_type": "code",
   "execution_count": 17,
   "id": "406c9237-d749-4b11-bbe4-513dd31d6de0",
   "metadata": {},
   "outputs": [],
   "source": [
    "from dolfinx import geometry\n",
    "tol = 0.001  # Avoid hitting the outside of the domain\n",
    "y = np.linspace(-1 + tol, 1 - tol, 101)\n",
    "points = np.zeros((3, 101))\n",
    "points[1] = y\n",
    "u_values = []\n",
    "p_values = []\n",
    "bb_tree = geometry.bb_tree(domain, domain.topology.dim)\n",
    "cells = []\n",
    "points_on_proc = []\n",
    "# Find cells whose bounding-box collide with the the points\n",
    "cell_candidates = geometry.compute_collisions_points(bb_tree, points.T)\n",
    "# Choose one of the cells that contains the point\n",
    "colliding_cells = geometry.compute_colliding_cells(domain, cell_candidates, points.T)\n",
    "for i, point in enumerate(points.T):\n",
    "    if len(colliding_cells.links(i)) > 0:\n",
    "        points_on_proc.append(point)\n",
    "        cells.append(colliding_cells.links(i)[0])"
   ]
  },
  {
   "cell_type": "code",
   "execution_count": 18,
   "id": "5f9ccbf2-216f-4252-851f-e56fa98fb618",
   "metadata": {},
   "outputs": [
    {
     "data": {
      "image/png": "[encoded data removed]",
      "text/plain": [
       "<Figure size 640x480 with 1 Axes>"
      ]
     },
     "metadata": {},
     "output_type": "display_data"
    }
   ],
   "source": [
    "points_on_proc = np.array(points_on_proc, dtype=np.float64)\n",
    "u_values = uh.eval(points_on_proc, cells)\n",
    "p_values = pressure.eval(points_on_proc, cells)\n",
    "fig = plt.figure()\n",
    "plt.plot(points_on_proc[:, 1], 50 * u_values, \"k\", linewidth=2, label=\"Deflection ($\\\\times 50$)\")\n",
    "plt.plot(points_on_proc[:, 1], p_values, \"b--\", linewidth=2, label=\"Load\")\n",
    "plt.grid(True)\n",
    "plt.xlabel(\"y\")\n",
    "plt.legend()\n",
    "# If run in parallel as a python file, we save a plot per processor\n",
    "plt.savefig(f\"membrane_rank{MPI.COMM_WORLD.rank:d}.png\")"
   ]
  },
  {
   "cell_type": "code",
   "execution_count": null,
   "id": "b1e9deae-8ae4-4a45-a680-17d0cc3f9520",
   "metadata": {},
   "outputs": [],
   "source": []
  }
 ],
 "metadata": {
  "kernelspec": {
   "display_name": "Python 3 (ipykernel)",
   "language": "python",
   "name": "python3"
  },
  "language_info": {
   "codemirror_mode": {
    "name": "ipython",
    "version": 3
   },
   "file_extension": ".py",
   "mimetype": "text/x-python",
   "name": "python",
   "nbconvert_exporter": "python",
   "pygments_lexer": "ipython3",
   "version": "3.12.2"
  }
 },
 "nbformat": 4,
 "nbformat_minor": 5
}
