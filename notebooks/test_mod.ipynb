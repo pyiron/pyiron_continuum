{
 "cells": [
  {
   "cell_type": "code",
   "execution_count": 1,
   "id": "a7eb04cb-244e-46d2-b269-c52d7236ea9c",
   "metadata": {},
   "outputs": [
    {
     "name": "stderr",
     "output_type": "stream",
     "text": [
      "2024-04-21 18:12:49,217 - pyiron_log - WARNING - pyiron found a 'templates' folder in the /home/tlakshmi/pyiron/resources resource directory. These are no longer supported in pyiron_base >=0.7.0. They are replaced by Project.create_job_class() and Project.wrap_python_function().\n"
     ]
    }
   ],
   "source": [
    "from pyiron_base import Project\n",
    "#import dolfinx\n",
    "import numpy as np"
   ]
  },
  {
   "cell_type": "code",
   "execution_count": 2,
   "id": "053b890f-b486-4cbf-b875-c8bd16a3ab8d",
   "metadata": {},
   "outputs": [],
   "source": [
    "import pyiron_fenicsx"
   ]
  },
  {
   "cell_type": "code",
   "execution_count": 3,
   "id": "9f1b78fd-a8c4-4388-99b6-22d6ad48f486",
   "metadata": {},
   "outputs": [
    {
     "data": {
      "application/vnd.jupyter.widget-view+json": {
       "model_id": "1aef90ea43474e02af477732cd7f2f69",
       "version_major": 2,
       "version_minor": 0
      },
      "text/plain": [
       "0it [00:00, ?it/s]"
      ]
     },
     "metadata": {},
     "output_type": "display_data"
    }
   ],
   "source": [
    "pr = Project('membrane_fenicsx')\n",
    "pr.remove_jobs(silently=True)"
   ]
  },
  {
   "cell_type": "code",
   "execution_count": 4,
   "id": "3d0567e8-9f8e-492d-8575-750202fcf145",
   "metadata": {},
   "outputs": [
    {
     "name": "stderr",
     "output_type": "stream",
     "text": [
      "WARNING:py.warnings:/home/tlakshmi/fenics_2023/mod_pyiron_continuum/fenicsx/job/generic.py:30: UserWarning: Currently, the c++ dolfin functions used by fenicsx are not stored in the HDF5 file. This includes the domains, boundary condition, spatial functions. Therefore, it is not possible to reload the job properly, from HDF5 file. It would be safe to remove the Fenics jobs, after defining the project.\n",
      "  warnings.warn(\"Currently, the c++ dolfin functions used by fenicsx are not stored in the HDF5 file.\"\n",
      "\n"
     ]
    }
   ],
   "source": [
    "job = pr.create.job.Fenicsx('mem_default')"
   ]
  },
  {
   "cell_type": "code",
   "execution_count": 5,
   "id": "ee5e588e-0919-412d-81fd-962bbe37d136",
   "metadata": {},
   "outputs": [
    {
     "data": {
      "text/plain": [
       "1"
      ]
     },
     "execution_count": 5,
     "metadata": {},
     "output_type": "execute_result"
    }
   ],
   "source": [
    "job.geom = job.create.geom.disk(0, 0, 0, 1, 1)\n",
    "job.geom"
   ]
  },
  {
   "cell_type": "code",
   "execution_count": 6,
   "id": "3d6a320d-f6b9-4cc0-a78a-f12c56ac4f5f",
   "metadata": {},
   "outputs": [],
   "source": [
    "#job.geom = job.create.geom.box(0, 0, 0, 1, 0.2, 0.2)\n",
    "#job.geom"
   ]
  },
  {
   "cell_type": "code",
   "execution_count": 7,
   "id": "61710b5f-521f-435f-914c-b81599b3f080",
   "metadata": {},
   "outputs": [],
   "source": [
    "#job.geom = job.create.geom.rectangle(0, 0, 0, 1, 1)\n",
    "#job.geom"
   ]
  },
  {
   "cell_type": "code",
   "execution_count": 8,
   "id": "a5ae9df3-77ed-4045-8e23-f26580e5b5ac",
   "metadata": {},
   "outputs": [],
   "source": [
    "#job.geom = job.create.geom.cylinder(0, 0, 0, 1, 0, 0, 0.1)\n",
    "#job.geom"
   ]
  },
  {
   "cell_type": "code",
   "execution_count": 9,
   "id": "41e4b608-0b3d-48ac-b205-133e14312df9",
   "metadata": {},
   "outputs": [
    {
     "name": "stdout",
     "output_type": "stream",
     "text": [
      "Info    : Meshing 1D...\n",
      "Info    : Meshing curve 1 (Ellipse)\n",
      "Info    : Done meshing 1D (Wall 0.000177563s, CPU 0.000301s)\n",
      "Info    : Meshing 2D...\n",
      "Info    : Meshing surface 1 (Plane, Frontal-Delaunay)\n",
      "Info    : Done meshing 2D (Wall 0.146181s, CPU 0.143121s)\n",
      "Info    : 4201 nodes 8401 elements\n"
     ]
    }
   ],
   "source": [
    "dimensions = 2\n",
    "min_mesh_length = 0.03\n",
    "max_mesh_length = 0.03\n",
    "job.domain = job.create.domain.standardDomain(job.geom, dimensions, min_mesh_length, max_mesh_length)"
   ]
  },
  {
   "cell_type": "code",
   "execution_count": 10,
   "id": "13c21f00-accb-48cd-87c2-3e27a8e36dc2",
   "metadata": {},
   "outputs": [],
   "source": [
    "#dimensions = 3\n",
    "#min_mesh_length = 0.03\n",
    "#max_mesh_length = 0.03\n",
    "#job.domain = job.create.domain.standardDomain(job.geom, dimensions, min_mesh_length, max_mesh_length)"
   ]
  },
  {
   "cell_type": "code",
   "execution_count": 11,
   "id": "058271c5-0681-44d6-b7da-d4947499cbfa",
   "metadata": {},
   "outputs": [],
   "source": [
    "#job.domain??"
   ]
  },
  {
   "cell_type": "code",
   "execution_count": 12,
   "id": "8c3227a5-b92b-4098-a76c-80067c7eb602",
   "metadata": {},
   "outputs": [],
   "source": [
    "job.mesh = job.create.get_mesh(job.domain)"
   ]
  },
  {
   "cell_type": "code",
   "execution_count": 13,
   "id": "8768ddda-7932-4f86-bff3-96426a4ff8f6",
   "metadata": {},
   "outputs": [
    {
     "data": {
      "text/plain": [
       "FunctionSpace(Mesh(blocked element (Basix element (P, triangle, 1, equispaced, unset, False), (2,)), 0), Basix element (P, triangle, 1, gll_warped, unset, False))"
      ]
     },
     "execution_count": 13,
     "metadata": {},
     "output_type": "execute_result"
    }
   ],
   "source": [
    "job.V = job.create.V.functionspace(job.mesh, \"Lagrange\", 1)\n",
    "job.V"
   ]
  },
  {
   "cell_type": "code",
   "execution_count": 14,
   "id": "7a3ff571-3c32-4e7f-b6c8-bf40d315b116",
   "metadata": {},
   "outputs": [
    {
     "data": {
      "application/vnd.jupyter.widget-view+json": {
       "model_id": "fe12b93b1b7743b5ac9c3eee34c2fa7b",
       "version_major": 2,
       "version_minor": 0
      },
      "text/plain": [
       "Widget(value='<iframe src=\"http://localhost:46437/index.html?ui=P_0x7d58101ad130_0&reconnect=auto\" class=\"pyvi…"
      ]
     },
     "metadata": {},
     "output_type": "display_data"
    }
   ],
   "source": [
    "job.plot.plot_mesh(job.V)"
   ]
  },
  {
   "cell_type": "code",
   "execution_count": 15,
   "id": "aa7473ac-3628-4d81-b703-f9a5ca40f8fd",
   "metadata": {},
   "outputs": [
    {
     "data": {
      "text/plain": [
       "[<dolfinx.fem.bcs.DirichletBC at 0x7d579e1aa270>]"
      ]
     },
     "execution_count": 15,
     "metadata": {},
     "output_type": "execute_result"
    }
   ],
   "source": [
    "def on_boundary(x):\n",
    "    return np.isclose(np.sqrt(x[0]**2 + x[1]**2), 1)\n",
    "\n",
    "#bc1 = job.create.bc.DirichletBC_functionspace(job.V, on_boundary, 0)\n",
    "bc1 = job.make_dirichletBC_functionspace(job.V, on_boundary, 0)\n",
    "job.appendBC(bc1)\n",
    "job.bcs"
   ]
  },
  {
   "cell_type": "code",
   "execution_count": 16,
   "id": "de28ce73-5608-4835-830d-0082b9170fde",
   "metadata": {},
   "outputs": [],
   "source": [
    "x = job.spatial_coord(job.mesh)\n",
    "beta = job.Constant(job.mesh, 8)\n",
    "R0 = job.Constant(job.mesh, 0.6)\n",
    "load = 4 * job.Expression(-beta**2 * (x[0]**2 + (x[1] - R0)**2))\n",
    "job.set_load(load)\n",
    "#x, beta, R0, load, job.p"
   ]
  },
  {
   "cell_type": "code",
   "execution_count": 17,
   "id": "2305a1df-7fd1-4ddd-9fd2-d0d76368f787",
   "metadata": {},
   "outputs": [
    {
     "data": {
      "text/plain": [
       "Coefficient(FunctionSpace(Mesh(blocked element (Basix element (P, triangle, 1, equispaced, unset, False), (2,)), 0), Basix element (P, triangle, 1, gll_warped, unset, False)), 0)"
      ]
     },
     "execution_count": 17,
     "metadata": {},
     "output_type": "execute_result"
    }
   ],
   "source": [
    "job.solvePoisson()"
   ]
  },
  {
   "cell_type": "code",
   "execution_count": 20,
   "id": "02074430-ebbe-4213-93d7-ec4fff733dad",
   "metadata": {},
   "outputs": [
    {
     "data": {
      "application/vnd.jupyter.widget-view+json": {
       "model_id": "f459a4d7c6bb42f48c4df2f7e803c378",
       "version_major": 2,
       "version_minor": 0
      },
      "text/plain": [
       "Widget(value='<iframe src=\"http://localhost:46437/index.html?ui=P_0x7d572bf310d0_3&reconnect=auto\" class=\"pyvi…"
      ]
     },
     "metadata": {},
     "output_type": "display_data"
    }
   ],
   "source": [
    "job.plot.plot_deformed_functionspace(job.V, job.uh, 20)"
   ]
  },
  {
   "cell_type": "code",
   "execution_count": null,
   "id": "cc35b62e-09c3-4ee4-8ea3-95e36131b6e1",
   "metadata": {},
   "outputs": [],
   "source": []
  }
 ],
 "metadata": {
  "kernelspec": {
   "display_name": "Python 3 (ipykernel)",
   "language": "python",
   "name": "python3"
  },
  "language_info": {
   "codemirror_mode": {
    "name": "ipython",
    "version": 3
   },
   "file_extension": ".py",
   "mimetype": "text/x-python",
   "name": "python",
   "nbconvert_exporter": "python",
   "pygments_lexer": "ipython3",
   "version": "3.12.2"
  }
 },
 "nbformat": 4,
 "nbformat_minor": 5
}
