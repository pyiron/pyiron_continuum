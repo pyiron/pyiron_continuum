{
 "cells": [
  {
   "cell_type": "markdown",
   "id": "530d4134-08d9-4cf6-8e40-05cb2b106957",
   "metadata": {},
   "source": [
    "# DAMASK tutorial for cold rolling test with regridding\n",
    "\n",
    "- creating necessary inputs for damask\n",
    "- defining the elastoplastic model (with powerlaw) for tensile test\n",
    "- runing the damask jobs\n",
    "- do the regridding\n",
    "\n",
    "here more option is given to the user to select from damask python package itself.\n",
    "\n",
    "Author: Yang Bai\n",
    "\n",
    "Date  : 06.09.2022"
   ]
  },
  {
   "cell_type": "markdown",
   "id": "413799b5-58a8-47d3-bfd1-d081c1f2c4ec",
   "metadata": {},
   "source": [
    "## Importing libraries and creatign Project"
   ]
  },
  {
   "cell_type": "code",
   "execution_count": 1,
   "id": "12795c73-ee40-4a15-8e52-60edc207fbf1",
   "metadata": {},
   "outputs": [],
   "source": [
    "from pyiron_continuum import Project\n",
    "from damask import Rotation # this will be used in material configuration"
   ]
  },
  {
   "cell_type": "markdown",
   "id": "de196129-3f7b-4b70-863b-3a762f116877",
   "metadata": {},
   "source": [
    "### create a 'project' to manage all the configurations for a tensile test"
   ]
  },
  {
   "cell_type": "code",
   "execution_count": 2,
   "id": "435b1538-9181-4223-a475-aa338c8b09da",
   "metadata": {},
   "outputs": [],
   "source": [
    "pr = Project('regridrolling')\n",
    "pr.remove_jobs(silently=True) # automatically delete the existing project folder"
   ]
  },
  {
   "cell_type": "markdown",
   "id": "e2c7dc7e-c88b-483b-9a82-e149dbe6f435",
   "metadata": {},
   "source": [
    "### Creating the Damask job"
   ]
  },
  {
   "cell_type": "code",
   "execution_count": 3,
   "id": "d7080422-6e97-48d7-8b76-f97f20eb32c8",
   "metadata": {},
   "outputs": [],
   "source": [
    "job = pr.create.job.ROLLING('damask_job')"
   ]
  },
  {
   "cell_type": "markdown",
   "id": "f30c5306-836f-4f96-93a0-4104e4a6afeb",
   "metadata": {},
   "source": [
    "#### for a damask job, one needs:\n",
    "- geometry information(i.e., the mesh)\n",
    "- material configuration(material.yaml)\n",
    "- boundary conditions(i.e., loading.yaml)"
   ]
  },
  {
   "cell_type": "markdown",
   "id": "cb7d3a58-e559-4a60-8777-76292837a8e1",
   "metadata": {},
   "source": [
    "### For material configuration\n",
    "#### for elastoplastic material"
   ]
  },
  {
   "cell_type": "code",
   "execution_count": 4,
   "id": "4d5b9320-b0ff-4b28-ba2a-9dea93e67f55",
   "metadata": {},
   "outputs": [],
   "source": [
    "elasticity = pr.continuum.damask.Elasticity(type= 'Hooke', C_11= 106.75e9,\n",
    "                                   C_12= 60.41e9, C_44=28.34e9)\n",
    "\n",
    "# for plastic deformation, we use the power law\n",
    "plasticity = pr.continuum.damask.Plasticity(type='phenopowerlaw',\n",
    "                                            N_sl=[12], a_sl=2.25,\n",
    "                                            atol_xi=1.0, dot_gamma_0_sl=0.001,\n",
    "                                            h_0_sl_sl=75e6, h_sl_sl=[1, 1, 1.4, 1.4, 1.4, 1.4, 1.4],\n",
    "                                            n_sl=20, output=['xi_sl'],\n",
    "                                            xi_0_sl=[31e6], xi_inf_sl=[63e6])\n"
   ]
  },
  {
   "cell_type": "markdown",
   "id": "4a214949-102d-4343-90be-1b0a4b8f0818",
   "metadata": {},
   "source": [
    "#### for material configuration, you need\n",
    "- phase\n",
    "- roation\n",
    "- homogenization"
   ]
  },
  {
   "cell_type": "code",
   "execution_count": 5,
   "id": "46f5a2f0-4082-473e-953a-c5a0cb48a613",
   "metadata": {},
   "outputs": [],
   "source": [
    "grains, grids = 36,16 # for the number of grains and grids\n",
    "\n",
    "phase = pr.continuum.damask.Phase(composition='Aluminum', lattice= 'cF',\n",
    "                         output_list=['F', 'P', 'F_e', 'F_p', 'L_p', 'O'],\n",
    "                         elasticity=elasticity,plasticity=plasticity)\n",
    "rotation = pr.continuum.damask.Rotation(Rotation.from_random, grains)\n",
    "homogenization = pr.continuum.damask.Homogenization(method='SX', \n",
    "                                                     parameters={'N_constituents': 1,\n",
    "                                                                 \"mechanical\": {\"type\": \"pass\"}})\n",
    "# now you can define your material.yaml configuration\n",
    "material = pr.continuum.damask.Material([rotation],['Aluminum'], phase, homogenization)\n",
    "# now you can save your material to your job\n",
    "job.material = material"
   ]
  },
  {
   "cell_type": "markdown",
   "id": "b485772d-5c31-44df-a8b5-0faefaaafa5e",
   "metadata": {},
   "source": [
    "## For geometry information"
   ]
  },
  {
   "cell_type": "code",
   "execution_count": 6,
   "id": "7c804ec6-476e-4f9c-bfc0-95e2d3a282f0",
   "metadata": {},
   "outputs": [],
   "source": [
    "grid = pr.continuum.damask.Grid.via_voronoi_tessellation(box_size=1.0e-5, \n",
    "                                                         grid_dim=grids, \n",
    "                                                         num_grains=grains)\n",
    "# save the geometry information to your job\n",
    "job.grid = grid "
   ]
  },
  {
   "cell_type": "markdown",
   "id": "82dda0e8-4eb8-4eac-a964-819264100df5",
   "metadata": {},
   "source": [
    "## Configure the rolling test (boundary conditions)"
   ]
  },
  {
   "cell_type": "code",
   "execution_count": 7,
   "id": "c42f3bc5-1dc4-4a86-a051-ee1780799c66",
   "metadata": {},
   "outputs": [],
   "source": [
    "job.rolling_parameters(number_passes=4,# number of rolling procedure\n",
    "                       height_reduction=0.5,# compresseion height\n",
    "                       rolling_speed=2.0e-3,# rolling speed 1/s\n",
    "                       contact_length=1.0, # for the contact length\n",
    "                       increments=40,# time steps for each rolling\n",
    "                       regridding=True)"
   ]
  },
  {
   "cell_type": "markdown",
   "id": "3342a300-9be4-4867-8e0a-d0b221f3b0ca",
   "metadata": {},
   "source": [
    "## Do the rolling test"
   ]
  },
  {
   "cell_type": "code",
   "execution_count": 8,
   "id": "31e4a523-3c3d-44a2-8b8b-e12d25ab2c09",
   "metadata": {},
   "outputs": [
    {
     "name": "stdout",
     "output_type": "stream",
     "text": [
      "working direction is: /home/by/Projects/Github/pyiron_continuum/notebooks/regridrolling/damask_job_hdf5/damask_job\n",
      "Remove all the results ...\n",
      "--------------------------------------------------------------\n",
      "Do the rolling-1 test ...\n",
      "Run damask simulation from  /home/by/Projects/Github/pyiron_continuum/notebooks/regridrolling/damask_job_hdf5/damask_job\n",
      "solver: {mechanical: spectral_basic}\n",
      "\n",
      "loadstep:\n",
      "  - boundary_conditions:\n",
      "      mechanical:\n",
      "        P:\n",
      "          - [0, x, x]\n",
      "          - [x, x, x]\n",
      "          - [x, x, x]\n",
      "        dot_F:\n",
      "          - [x, 0, 0]\n",
      "          - [0, 0, 0]\n",
      "          - [0, 0, -0.002]\n",
      "    discretization: {t: 62.5, N: 40}\n",
      "    f_out: 5\n",
      "    f_restart: 5\n",
      "\n",
      "Using rolling-1.yaml as loading\n",
      "Damask command is: DAMASK_grid -g damask.vti -l rolling-1.yaml > rolling-1.log\n"
     ]
    },
    {
     "name": "stderr",
     "output_type": "stream",
     "text": [
      " ██████████████████████████████████████████████████ 100% ETA 0:00:00\n",
      " ██████████████████████████████████████████████████ 100% ETA 0:00:00\n",
      " ██████████████████████████████████████████████████ 100% ETA 0:00:00\n",
      " ██████████████████████████████████████████████████ 100% ETA 0:00:00\n",
      " ██████████████████████████████████████████████████ 100% ETA 0:00:00\n",
      " ██████████████████████████████████████████████████ 100% ETA 0:00:00\n",
      " ██████████████████████████████████████████████████ 100% ETA 0:00:00\n",
      " ██████████████████████████████████████████████████ 100% ETA 0:00:00\n",
      " ██████████████████████████████████████████████████ 100% ETA 0:00:00\n",
      " ██████████████████████████████████████████████████ 100% ETA 0:00:00\n",
      " ██████████████████████████████████████████████████ 100% ETA 0:00:00\n",
      " ██████████████████████████████████████████████████ 100% ETA 0:00:00\n"
     ]
    },
    {
     "name": "stdout",
     "output_type": "stream",
     "text": [
      "--------------------------------------------------------------\n",
      "Do the rolling-2 test ...\n",
      "Run damask simulation from  /home/by/Projects/Github/pyiron_continuum/notebooks/regridrolling/damask_job_hdf5/damask_job\n",
      "solver: {mechanical: spectral_basic}\n",
      "\n",
      "loadstep:\n",
      "  - boundary_conditions:\n",
      "      mechanical:\n",
      "        P:\n",
      "          - [0, x, x]\n",
      "          - [x, x, x]\n",
      "          - [x, x, x]\n",
      "        dot_F:\n",
      "          - [x, 0, 0]\n",
      "          - [0, 0, 0]\n",
      "          - [0, 0, -0.002]\n",
      "    discretization: {t: 125.0, N: 80}\n",
      "    f_out: 5\n",
      "    f_restart: 5\n",
      "\n",
      "------------------------\n",
      "regridding geometry ...\n",
      "initial RVE size:\t [1.e-05 1.e-05 1.e-05]\n",
      "regridded RVE size:\t [1.14202452e-05 1.00000000e-05 8.75000000e-06]\n",
      "initial grid seeds:\t [16 16 16]\n",
      "regridded grid seeds:\t [21 18 16]\n",
      "finding the nearest neighbors...\n",
      "A regridding history file is created.\n",
      "------------------------\n",
      "Regridding process is completed.\n",
      "restart DAMASK (regridded) simulation from  /home/by/Projects/Github/pyiron_continuum/notebooks/regridrolling/damask_job_hdf5/damask_job\n",
      "DAMASK (regridded) restart simulation is done !\n",
      "\u001b[93m\u001b[1mWarning: Modification of existing datasets allowed!\u001b[0m\u001b[0m\n"
     ]
    },
    {
     "name": "stderr",
     "output_type": "stream",
     "text": [
      " ██████████████████████████████████████████████████ 100% ETA 0:00:00\n",
      " ██████████████████████████████████████████████████ 100% ETA 0:00:00\n",
      " ██████████████████████████████████████████████████ 100% ETA 0:00:00\n",
      " ██████████████████████████████████████████████████ 100% ETA 0:00:00\n",
      " ██████████████████████████████████████████████████ 100% ETA 0:00:00\n",
      " ██████████████████████████████████████████████████ 100% ETA 0:00:00\n",
      " ██████████████████████████████████████████████████ 100% ETA 0:00:00\n",
      " ██████████████████████████████████████████████████ 100% ETA 0:00:00\n",
      " ██████████████████████████████████████████████████ 100% ETA 0:00:00\n",
      " ██████████████████████████████████████████████████ 100% ETA 0:00:00\n",
      " ██████████████████████████████████████████████████ 100% ETA 0:00:00\n",
      " ██████████████████████████████████████████████████ 100% ETA 0:00:00\n"
     ]
    },
    {
     "name": "stdout",
     "output_type": "stream",
     "text": [
      "--------------------------------------------------------------\n",
      "Do the rolling-3 test ...\n",
      "Run damask simulation from  /home/by/Projects/Github/pyiron_continuum/notebooks/regridrolling/damask_job_hdf5/damask_job\n",
      "solver: {mechanical: spectral_basic}\n",
      "\n",
      "loadstep:\n",
      "  - boundary_conditions:\n",
      "      mechanical:\n",
      "        P:\n",
      "          - [0, x, x]\n",
      "          - [x, x, x]\n",
      "          - [x, x, x]\n",
      "        dot_F:\n",
      "          - [x, 0, 0]\n",
      "          - [0, 0, 0]\n",
      "          - [0, 0, -0.002]\n",
      "    discretization: {t: 187.5, N: 120}\n",
      "    f_out: 5\n",
      "    f_restart: 5\n",
      "\n",
      "------------------------\n",
      "regridding geometry ...\n",
      "initial RVE size:\t [1.14202452e-05 1.00000000e-05 8.75000000e-06]\n",
      "regridded RVE size:\t [1.52139483e-05 1.00000000e-05 6.56250000e-06]\n",
      "initial grid seeds:\t [21 18 16]\n",
      "regridded grid seeds:\t [37 24 16]\n",
      "finding the nearest neighbors...\n",
      "The regridding history file is extended (index = 1).\n",
      "------------------------\n",
      "Regridding process is completed.\n",
      "restart DAMASK (regridded) simulation from  /home/by/Projects/Github/pyiron_continuum/notebooks/regridrolling/damask_job_hdf5/damask_job\n",
      "DAMASK (regridded) restart simulation is done !\n",
      "\u001b[93m\u001b[1mWarning: Modification of existing datasets allowed!\u001b[0m\u001b[0m\n"
     ]
    },
    {
     "name": "stderr",
     "output_type": "stream",
     "text": [
      " ██████████████████████████████████████████████████ 100% ETA 0:00:00\n",
      " ██████████████████████████████████████████████████ 100% ETA 0:00:00\n",
      " ██████████████████████████████████████████████████ 100% ETA 0:00:00\n",
      " ██████████████████████████████████████████████████ 100% ETA 0:00:00\n",
      " ██████████████████████████████████████████████████ 100% ETA 0:00:00\n",
      " ██████████████████████████████████████████████████ 100% ETA 0:00:00\n",
      " ██████████████████████████████████████████████████ 100% ETA 0:00:00\n",
      " ██████████████████████████████████████████████████ 100% ETA 0:00:00\n",
      " ██████████████████████████████████████████████████ 100% ETA 0:00:00\n",
      " ██████████████████████████████████████████████████ 100% ETA 0:00:00\n",
      " ██████████████████████████████████████████████████ 100% ETA 0:00:00\n",
      " ██████████████████████████████████████████████████ 100% ETA 0:00:00\n"
     ]
    },
    {
     "name": "stdout",
     "output_type": "stream",
     "text": [
      "--------------------------------------------------------------\n",
      "Do the rolling-4 test ...\n",
      "Run damask simulation from  /home/by/Projects/Github/pyiron_continuum/notebooks/regridrolling/damask_job_hdf5/damask_job\n",
      "solver: {mechanical: spectral_basic}\n",
      "\n",
      "loadstep:\n",
      "  - boundary_conditions:\n",
      "      mechanical:\n",
      "        P:\n",
      "          - [0, x, x]\n",
      "          - [x, x, x]\n",
      "          - [x, x, x]\n",
      "        dot_F:\n",
      "          - [x, 0, 0]\n",
      "          - [0, 0, 0]\n",
      "          - [0, 0, -0.002]\n",
      "    discretization: {t: 250.0, N: 160}\n",
      "    f_out: 5\n",
      "    f_restart: 5\n",
      "\n",
      "------------------------\n",
      "regridding geometry ...\n",
      "initial RVE size:\t [1.52139483e-05 1.00000000e-05 6.56250000e-06]\n",
      "regridded RVE size:\t [2.4317168e-05 1.0000000e-05 4.1015625e-06]\n",
      "initial grid seeds:\t [37 24 16]\n",
      "regridded grid seeds:\t [95 39 16]\n",
      "finding the nearest neighbors...\n",
      "The regridding history file is extended (index = 2).\n",
      "------------------------\n",
      "Regridding process is completed.\n",
      "restart DAMASK (regridded) simulation from  /home/by/Projects/Github/pyiron_continuum/notebooks/regridrolling/damask_job_hdf5/damask_job\n",
      "DAMASK (regridded) restart simulation is done !\n",
      "\u001b[93m\u001b[1mWarning: Modification of existing datasets allowed!\u001b[0m\u001b[0m\n"
     ]
    },
    {
     "name": "stderr",
     "output_type": "stream",
     "text": [
      " ██████████████████████████████████████████████████ 100% ETA 0:00:00\n",
      " ██████████████████████████████████████████████████ 100% ETA 0:00:00\n",
      " ██████████████████████████████████████████████████ 100% ETA 0:00:00\n",
      " ██████████████████████████████████████████████████ 100% ETA 0:00:00\n",
      " ██████████████████████████████████████████████████ 100% ETA 0:00:00\n",
      " ██████████████████████████████████████████████████ 100% ETA 0:00:00\n",
      " ██████████████████████████████████████████████████ 100% ETA 0:00:00\n",
      " ██████████████████████████████████████████████████ 100% ETA 0:00:00\n",
      " ██████████████████████████████████████████████████ 100% ETA 0:00:00\n",
      " ██████████████████████████████████████████████████ 100% ETA 0:00:00\n",
      " ██████████████████████████████████████████████████ 100% ETA 0:00:00\n",
      " ██████████████████████████████████████████████████ 100% ETA 0:00:00\n"
     ]
    },
    {
     "data": {
      "image/png": "[encoded data removed]",
      "text/plain": [
       "<Figure size 432x288 with 1 Axes>"
      ]
     },
     "metadata": {
      "needs_background": "light"
     },
     "output_type": "display_data"
    },
    {
     "data": {
      "image/png": "[encoded data removed]",
      "text/plain": [
       "<Figure size 432x288 with 1 Axes>"
      ]
     },
     "metadata": {
      "needs_background": "light"
     },
     "output_type": "display_data"
    },
    {
     "data": {
      "image/png": "[encoded data removed]",
      "text/plain": [
       "<Figure size 432x288 with 1 Axes>"
      ]
     },
     "metadata": {
      "needs_background": "light"
     },
     "output_type": "display_data"
    },
    {
     "data": {
      "image/png": "[encoded data removed]",
      "text/plain": [
       "<Figure size 432x288 with 1 Axes>"
      ]
     },
     "metadata": {
      "needs_background": "light"
     },
     "output_type": "display_data"
    }
   ],
   "source": [
    "job.run_rolling()# job.run()"
   ]
  },
  {
   "cell_type": "code",
   "execution_count": 9,
   "id": "c76b3e13-d5b0-4c6e-bd7c-70ae97446399",
   "metadata": {},
   "outputs": [
    {
     "name": "stderr",
     "output_type": "stream",
     "text": [
      " ██████████████████████████████████████████████████ 100% ETA 0:00:00\n",
      " ░░░░░░░░░░░░░░░░░░░░░░░░░░░░░░░░░░░░░░░░░░░░░░░░░░   0% ETA n/a"
     ]
    },
    {
     "name": "stdout",
     "output_type": "stream",
     "text": [
      "done! \n"
     ]
    },
    {
     "name": "stderr",
     "output_type": "stream",
     "text": [
      " ██████████████████████████████████████████████████ 100% ETA 0:00:00\n",
      " ░░░░░░░░░░░░░░░░░░░░░░░░░░░░░░░░░░░░░░░░░░░░░░░░░░   0% ETA n/a"
     ]
    },
    {
     "name": "stdout",
     "output_type": "stream",
     "text": [
      "done! \n"
     ]
    },
    {
     "name": "stderr",
     "output_type": "stream",
     "text": [
      " ██████████████████████████████████████████████████ 100% ETA 0:00:00\n",
      " ░░░░░░░░░░░░░░░░░░░░░░░░░░░░░░░░░░░░░░░░░░░░░░░░░░   0% ETA n/a"
     ]
    },
    {
     "name": "stdout",
     "output_type": "stream",
     "text": [
      "done! \n"
     ]
    },
    {
     "name": "stderr",
     "output_type": "stream",
     "text": [
      " ██████████████████████████████████████████████████ 100% ETA 0:00:00\n"
     ]
    },
    {
     "name": "stdout",
     "output_type": "stream",
     "text": [
      "done! \n"
     ]
    }
   ],
   "source": [
    "for result in job._rollresults:\n",
    "    result.export_VTK()\n",
    "    print('done! ')\n",
    "# visiualization for deformed/regridded RVE (instead of paraview)"
   ]
  },
  {
   "cell_type": "code",
   "execution_count": 10,
   "id": "ac424e34-cc0d-4970-b2d5-82bb828b7ce9",
   "metadata": {},
   "outputs": [
    {
     "name": "stdout",
     "output_type": "stream",
     "text": [
      "min size is: 4.101562499999925e-06\n",
      "running openphase from  /home/by/Projects/Github/pyiron_continuum/notebooks/regridrolling/damask_job_hdf5/damask_job\n"
     ]
    }
   ],
   "source": [
    "job.write_openphase_config(step=2000,dt=1.0e-4)\n",
    "job.run_openphase()"
   ]
  }
 ],
 "metadata": {
  "kernelspec": {
   "display_name": "Python 3 (ipykernel)",
   "language": "python",
   "name": "python3"
  },
  "language_info": {
   "codemirror_mode": {
    "name": "ipython",
    "version": 3
   },
   "file_extension": ".py",
   "mimetype": "text/x-python",
   "name": "python",
   "nbconvert_exporter": "python",
   "pygments_lexer": "ipython3",
   "version": "3.10.5"
  }
 },
 "nbformat": 4,
 "nbformat_minor": 5
}
