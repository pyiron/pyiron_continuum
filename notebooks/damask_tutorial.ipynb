{
 "cells": [
  {
   "cell_type": "markdown",
   "id": "d0c61026-3a4c-4e5e-9d61-fdfafca74244",
   "metadata": {},
   "source": [
    "# DAMASK tutorial\n",
    "- creating necessary inputs for damask\n",
    "- runing the damask jobs\n",
    "\n",
    "here more option is given to the user to select from damask python package itself."
   ]
  },
  {
   "cell_type": "markdown",
   "id": "ef3b0f8f-f536-445e-b5a5-80127c731dc5",
   "metadata": {},
   "source": [
    "## Importing libraries and creatign Project"
   ]
  },
  {
   "cell_type": "code",
   "execution_count": 1,
   "id": "eb2b9de9-0c2a-48ca-a63e-046abe4f56cf",
   "metadata": {},
   "outputs": [
    {
     "ename": "ModuleNotFoundError",
     "evalue": "No module named 'pyiron_continuum'",
     "output_type": "error",
     "traceback": [
      "\u001b[0;31m---------------------------------------------------------------------------\u001b[0m",
      "\u001b[0;31mModuleNotFoundError\u001b[0m                       Traceback (most recent call last)",
      "Cell \u001b[0;32mIn [1], line 1\u001b[0m\n\u001b[0;32m----> 1\u001b[0m \u001b[38;5;28;01mfrom\u001b[39;00m \u001b[38;5;21;01mpyiron_continuum\u001b[39;00m \u001b[38;5;28;01mimport\u001b[39;00m Project\n\u001b[1;32m      2\u001b[0m \u001b[38;5;28;01mfrom\u001b[39;00m \u001b[38;5;21;01mdamask\u001b[39;00m \u001b[38;5;28;01mimport\u001b[39;00m Rotation\n",
      "\u001b[0;31mModuleNotFoundError\u001b[0m: No module named 'pyiron_continuum'"
     ]
    }
   ],
   "source": [
    "from pyiron_continuum import Project\n",
    "from damask import Rotation"
   ]
  },
  {
   "cell_type": "code",
   "execution_count": 2,
   "id": "1ce13de4-6314-4150-9939-13668098164c",
   "metadata": {},
   "outputs": [],
   "source": [
    "pr = Project(\"damask_proj\")"
   ]
  },
  {
   "cell_type": "code",
   "execution_count": 3,
   "id": "360189ad-8345-4efa-a5c4-cc381b110a50",
   "metadata": {},
   "outputs": [],
   "source": [
    "pr.remove_jobs_silently(recursive=True)"
   ]
  },
  {
   "cell_type": "markdown",
   "id": "f9938eb9-7ab3-4440-84dc-e0c2419984e7",
   "metadata": {},
   "source": [
    "## Creating the Damask job"
   ]
  },
  {
   "cell_type": "code",
   "execution_count": 4,
   "id": "34539f6b-0e53-4f49-a7b2-b42e6cc74f09",
   "metadata": {},
   "outputs": [],
   "source": [
    "job = pr.create.job.DAMASK(\"damask_job\")"
   ]
  },
  {
   "cell_type": "markdown",
   "id": "1dfa818a-b6e3-4abd-8a00-39a3ffd2424c",
   "metadata": {},
   "source": [
    "## Creating the necessary inputs"
   ]
  },
  {
   "cell_type": "markdown",
   "id": "af0167a1-2c9d-49c0-8d68-ffa248d00de9",
   "metadata": {},
   "source": [
    "### Homogenization"
   ]
  },
  {
   "cell_type": "code",
   "execution_count": 5,
   "id": "bcf4da2a-6253-4e73-a6d3-5e434b7de1fe",
   "metadata": {},
   "outputs": [],
   "source": [
    "homogenization = pr.create.DAMASK.homogenization(method='SX', \n",
    "                                                 parameters={'N_constituents': 1,\n",
    "                                                             \"mechanical\": {\"type\": \"pass\"}})"
   ]
  },
  {
   "cell_type": "code",
   "execution_count": 6,
   "id": "2a96e114-7cea-49dd-959c-50e63498e47c",
   "metadata": {},
   "outputs": [],
   "source": [
    "homogenization = pr.continuum.damask.Homogenization(method='SX', \n",
    "                                                     parameters={'N_constituents': 1,\n",
    "                                                                 \"mechanical\": {\"type\": \"pass\"}})"
   ]
  },
  {
   "cell_type": "markdown",
   "id": "b1af7a42-951f-4d0f-bb56-5d6ea18b92e5",
   "metadata": {},
   "source": [
    "### Elasticity"
   ]
  },
  {
   "cell_type": "code",
   "execution_count": 7,
   "id": "8e8a1801-467a-4260-b14e-433265f08fa9",
   "metadata": {},
   "outputs": [],
   "source": [
    "elasticity = pr.continuum.damask.Elasticity(type= 'Hooke', C_11= 106.75e9,\n",
    "                                   C_12= 60.41e9, C_44=28.34e9)"
   ]
  },
  {
   "cell_type": "markdown",
   "id": "71b5659e-ade4-4bfb-a80c-79d77f3366bf",
   "metadata": {},
   "source": [
    "### Plasticity"
   ]
  },
  {
   "cell_type": "code",
   "execution_count": 8,
   "id": "24b6b8a1-7e0a-4836-b230-e29fbfbc370f",
   "metadata": {},
   "outputs": [],
   "source": [
    "plasticity = pr.continuum.damask.Plasticity(N_sl=[12], a_sl=2.25, \n",
    "                                   atol_xi=1.0, dot_gamma_0_sl=0.001,\n",
    "                                   h_0_sl_sl=75e6, h_sl_sl=[1, 1, 1.4, 1.4, 1.4, 1.4],\n",
    "                                   n_sl=20, output=['xi_sl'], type='phenopowerlaw',\n",
    "                                   xi_0_sl=[31e6], xi_inf_sl=[63e6])           "
   ]
  },
  {
   "cell_type": "markdown",
   "id": "c4599715-e2e7-43aa-ab86-c0a26fe862a7",
   "metadata": {},
   "source": [
    "### Phase"
   ]
  },
  {
   "cell_type": "code",
   "execution_count": 9,
   "id": "7d018837-f07e-4f01-8436-683e12257489",
   "metadata": {},
   "outputs": [],
   "source": [
    "phase = pr.continuum.damask.Phase(composition='Aluminum', lattice= 'cF',\n",
    "                         output_list=['F', 'P', 'F_e', 'F_p', 'L_p', 'O'],\n",
    "                         elasticity=elasticity, plasticity=plasticity)"
   ]
  },
  {
   "cell_type": "markdown",
   "id": "ce4d182d-85ee-40f1-946e-eaa1005a7e03",
   "metadata": {},
   "source": [
    "### Rotation"
   ]
  },
  {
   "cell_type": "code",
   "execution_count": 10,
   "id": "d93eda97-b7ce-4572-8ce3-b8d34672e274",
   "metadata": {},
   "outputs": [],
   "source": [
    "rotation = pr.continuum.damask.Rotation(Rotation.from_random, 10)"
   ]
  },
  {
   "cell_type": "markdown",
   "id": "e39e9e82-c289-4322-ba9e-f03c3580e03e",
   "metadata": {},
   "source": [
    "### Material"
   ]
  },
  {
   "cell_type": "code",
   "execution_count": 11,
   "id": "dfb6237e-1dbf-47ba-9f50-e580456e9760",
   "metadata": {},
   "outputs": [],
   "source": [
    "material = pr.continuum.damask.Material([rotation],['Aluminum'], phase, homogenization)"
   ]
  },
  {
   "cell_type": "code",
   "execution_count": 12,
   "id": "d633c7d0-c47f-4d2d-aaa4-22c9d980d136",
   "metadata": {},
   "outputs": [],
   "source": [
    "job.material = material"
   ]
  },
  {
   "cell_type": "markdown",
   "id": "583ae5d3-d057-41b7-ad15-249564316cec",
   "metadata": {},
   "source": [
    "### Grid"
   ]
  },
  {
   "cell_type": "code",
   "execution_count": 13,
   "id": "f2cde993-9ccc-4c04-9fa0-0e7ad1832483",
   "metadata": {},
   "outputs": [],
   "source": [
    "grid = pr.continuum.damask.Grid.via_voronoi_tessellation(box_size=1., grid_dim=4, num_grains=10)"
   ]
  },
  {
   "cell_type": "code",
   "execution_count": 14,
   "id": "4642dc1d-2b9b-4ccc-bf2b-e66054ec11eb",
   "metadata": {},
   "outputs": [],
   "source": [
    "job.grid = grid"
   ]
  },
  {
   "cell_type": "markdown",
   "id": "0f2fda22-7d5c-42bb-9aba-f1aebe58279d",
   "metadata": {},
   "source": [
    "### Loading"
   ]
  },
  {
   "cell_type": "code",
   "execution_count": 15,
   "id": "48fa531a-5785-41b1-91f2-49aafdc296da",
   "metadata": {},
   "outputs": [],
   "source": [
    "load_step =[{'mech_bc_dict':{'dot_F':[1e-3,0,0, 0,'x',0,  0,0,'x'],\n",
    "                            'P':['x','x','x', 'x',0,'x',  'x','x',0]},\n",
    "            'discretization':{'t': 10.,'N': 40},\n",
    "            'additional': {'f_out': 4}\n",
    "           },{'mech_bc_dict':{'dot_F':[1e-3,0,0, 0,'x',0,  0,0,'x'],\n",
    "                              'P':['x','x','x', 'x',0,'x',  'x','x',0]},\n",
    "            'discretization':{'t': 60.,'N': 60},\n",
    "            'additional': {'f_out': 4}\n",
    "           }]"
   ]
  },
  {
   "cell_type": "code",
   "execution_count": 16,
   "id": "47aba5c8-9371-459d-979b-8ae3c012b981",
   "metadata": {},
   "outputs": [],
   "source": [
    "solver = job.list_solvers()[0]"
   ]
  },
  {
   "cell_type": "code",
   "execution_count": 17,
   "id": "664ddbd9-a2c8-423e-a1ef-7fb3e1cb5d40",
   "metadata": {},
   "outputs": [],
   "source": [
    "job.loading = pr.continuum.damask.Loading(solver=solver, load_steps=load_step)"
   ]
  },
  {
   "cell_type": "markdown",
   "id": "2bfb7e7f-659e-493e-8696-42e2073912fa",
   "metadata": {},
   "source": [
    "## Runing the job"
   ]
  },
  {
   "cell_type": "code",
   "execution_count": 18,
   "id": "03f5d0df-92b0-4fed-b9fa-996bff478bc1",
   "metadata": {},
   "outputs": [
    {
     "name": "stdout",
     "output_type": "stream",
     "text": [
      "The job damask_job was saved and received the ID: 1\n"
     ]
    },
    {
     "name": "stderr",
     "output_type": "stream",
     "text": [
      " ██████████████████████████████████████████████████ 100% ETA 0:00:00\n",
      " ██████████████████████████████████████████████████ 100% ETA 0:00:00\n",
      " ██████████████████████████████████████████████████ 100% ETA 0:00:00\n",
      " ██████████████████████████████████████████████████ 100% ETA 0:00:00\n",
      " ██████████████████████████████████████████████████ 100% ETA 0:00:00\n",
      " ██████████████████████████████████████████████████ 100% ETA 0:00:00\n",
      " ██████████████████████████████████████████████████ 100% ETA 0:00:00\n",
      " ██████████████████████████████████████████████████ 100% ETA 0:00:00\n",
      " ██████████████████████████████████████████████████ 100% ETA 0:00:00\n",
      " ██████████████████████████████████████████████████ 100% ETA 0:00:00\n",
      " ██████████████████████████████████████████████████ 100% ETA 0:00:00\n",
      " ██████████████████████████████████████████████████ 100% ETA 0:00:00\n"
     ]
    }
   ],
   "source": [
    "job.run()"
   ]
  },
  {
   "cell_type": "code",
   "execution_count": 19,
   "id": "b40ba0b4-12bb-4fa6-9e58-934afbc2781a",
   "metadata": {},
   "outputs": [
    {
     "data": {
      "text/html": [
       "<div>\n",
       "<style scoped>\n",
       "    .dataframe tbody tr th:only-of-type {\n",
       "        vertical-align: middle;\n",
       "    }\n",
       "\n",
       "    .dataframe tbody tr th {\n",
       "        vertical-align: top;\n",
       "    }\n",
       "\n",
       "    .dataframe thead th {\n",
       "        text-align: right;\n",
       "    }\n",
       "</style>\n",
       "<table border=\"1\" class=\"dataframe\">\n",
       "  <thead>\n",
       "    <tr style=\"text-align: right;\">\n",
       "      <th></th>\n",
       "      <th>id</th>\n",
       "      <th>status</th>\n",
       "      <th>chemicalformula</th>\n",
       "      <th>job</th>\n",
       "      <th>subjob</th>\n",
       "      <th>projectpath</th>\n",
       "      <th>project</th>\n",
       "      <th>timestart</th>\n",
       "      <th>timestop</th>\n",
       "      <th>totalcputime</th>\n",
       "      <th>computer</th>\n",
       "      <th>hamilton</th>\n",
       "      <th>hamversion</th>\n",
       "      <th>parentid</th>\n",
       "      <th>masterid</th>\n",
       "    </tr>\n",
       "  </thead>\n",
       "  <tbody>\n",
       "    <tr>\n",
       "      <th>0</th>\n",
       "      <td>1</td>\n",
       "      <td>finished</td>\n",
       "      <td>None</td>\n",
       "      <td>damask_job</td>\n",
       "      <td>/damask_job</td>\n",
       "      <td>/home/muhammad/</td>\n",
       "      <td>workspace/tmp/damask_tests/damask_proj/</td>\n",
       "      <td>2021-10-15 00:51:40.019162</td>\n",
       "      <td>2021-10-15 00:51:44.016029</td>\n",
       "      <td>3.0</td>\n",
       "      <td>pyiron@cmleo14#1</td>\n",
       "      <td>DAMASK</td>\n",
       "      <td>0.4</td>\n",
       "      <td>None</td>\n",
       "      <td>None</td>\n",
       "    </tr>\n",
       "  </tbody>\n",
       "</table>\n",
       "</div>"
      ],
      "text/plain": [
       "   id    status chemicalformula         job       subjob      projectpath  \\\n",
       "0   1  finished            None  damask_job  /damask_job  /home/muhammad/   \n",
       "\n",
       "                                   project                  timestart  \\\n",
       "0  workspace/tmp/damask_tests/damask_proj/ 2021-10-15 00:51:40.019162   \n",
       "\n",
       "                    timestop  totalcputime          computer hamilton  \\\n",
       "0 2021-10-15 00:51:44.016029           3.0  pyiron@cmleo14#1   DAMASK   \n",
       "\n",
       "  hamversion parentid masterid  \n",
       "0        0.4     None     None  "
      ]
     },
     "execution_count": 19,
     "metadata": {},
     "output_type": "execute_result"
    }
   ],
   "source": [
    "pr.job_table()"
   ]
  },
  {
   "cell_type": "markdown",
   "id": "841da73c-cc70-4131-b27c-ed6918c0c8d9",
   "metadata": {},
   "source": [
    "## Post-processing"
   ]
  },
  {
   "cell_type": "code",
   "execution_count": 20,
   "id": "58488412-85a1-468c-a150-75dae0aeb5cf",
   "metadata": {},
   "outputs": [
    {
     "data": {
      "text/plain": [
       "(<Figure size 432x288 with 1 Axes>,\n",
       " <AxesSubplot:xlabel='$\\\\varepsilon_z$$_z$', ylabel='$\\\\sigma_z$$_z$(Pa)'>)"
      ]
     },
     "execution_count": 20,
     "metadata": {},
     "output_type": "execute_result"
    },
    {
     "data": {
      "image/png": "[encoded data removed]",
      "text/plain": [
       "<Figure size 432x288 with 1 Axes>"
      ]
     },
     "metadata": {
      "needs_background": "light"
     },
     "output_type": "display_data"
    }
   ],
   "source": [
    "job.plot_stress_strain(component='zz')"
   ]
  },
  {
   "cell_type": "code",
   "execution_count": 21,
   "id": "d8a821fb-34f6-4f04-9f40-12b04477b12b",
   "metadata": {},
   "outputs": [
    {
     "data": {
      "text/plain": [
       "(<Figure size 432x288 with 1 Axes>,\n",
       " <AxesSubplot:xlabel='$\\\\varepsilon_{vM}$', ylabel='$\\\\sigma_{vM}$ (Pa)'>)"
      ]
     },
     "execution_count": 21,
     "metadata": {},
     "output_type": "execute_result"
    },
    {
     "data": {
      "image/png": "[encoded data removed]",
      "text/plain": [
       "<Figure size 432x288 with 1 Axes>"
      ]
     },
     "metadata": {
      "needs_background": "light"
     },
     "output_type": "display_data"
    }
   ],
   "source": [
    "job.plot_stress_strain(von_mises=True)"
   ]
  },
  {
   "cell_type": "code",
   "execution_count": 22,
   "id": "89e9f3aa-d673-4c39-af25-9366edabbb45",
   "metadata": {},
   "outputs": [
    {
     "data": {
      "text/plain": [
       "\n",
       "increment_80 (50.0s)\n",
       "  phase\n",
       "    Aluminum\n",
       "      mechanical\n",
       "        F / 1: deformation gradient\n",
       "        F_e / 1: elastic deformation gradient\n",
       "        F_p / 1: plastic deformation gradient\n",
       "        L_p / 1/s: plastic velocity gradient\n",
       "        O / q_0 (q_1 q_2 q_3): crystal orientation as quaternion\n",
       "        P / Pa: first Piola-Kirchhoff stress\n",
       "        avg_sigma / Pa: average stress (formula: np.average(#sigma#, axis=0))\n",
       "        avg_sigma_vM / Pa: average stress VM (formula: np.average(#sigma_vM#))\n",
       "        avg_strain / : average strain (formula: np.average(#epsilon_V^0.0(F)#, axis=0))\n",
       "        avg_strain_vM / : average strain vM (formula: np.average(#epsilon_V^0.0(F)_vM#))\n",
       "        epsilon_V^0.0(F) / 1: strain tensor of F (deformation gradient)\n",
       "        epsilon_V^0.0(F)_vM / 1: Mises equivalent strain of epsilon_V^0.0(F) (strain tensor of F (deformation gradient))\n",
       "        sigma / Pa: Cauchy stress calculated from P (first Piola-Kirchhoff stress) and F (deformation gradient)\n",
       "        sigma_vM / Pa: Mises equivalent stress of sigma (Cauchy stress calculated from P (first Piola-Kirchhoff stress) and F (deformation gradient))\n",
       "  homogenization\n",
       "    SX\n",
       "      mechanical"
      ]
     },
     "execution_count": 22,
     "metadata": {},
     "output_type": "execute_result"
    }
   ],
   "source": [
    "job.output.damask.view(increments=80)"
   ]
  },
  {
   "cell_type": "code",
   "execution_count": 23,
   "id": "3d310ed3-c1c6-4f5a-a236-a923b91ca0e4",
   "metadata": {},
   "outputs": [
    {
     "data": {
      "text/plain": [
       "array([[[ 8.00420474e-06,  1.39588888e-07, -7.33218121e-07],\n",
       "        [ 1.39588888e-07,  6.93473093e-06,  5.99086292e-07],\n",
       "        [-7.33218121e-07,  5.99086292e-07,  8.35255459e-06]],\n",
       "\n",
       "       [[ 7.13057905e+07, -2.37476623e+05,  1.85522156e+05],\n",
       "        [-2.37476623e+05,  1.58040649e+02, -9.93611512e+05],\n",
       "        [ 1.85522156e+05, -9.93611512e+05,  4.01062264e+01]],\n",
       "\n",
       "       [[ 1.42924670e+08, -4.75280935e+05,  3.71406474e+05],\n",
       "        [-4.75280935e+05,  1.85063506e+01, -1.98615140e+06],\n",
       "        [ 3.71406474e+05, -1.98615140e+06,  1.10952616e+01]],\n",
       "\n",
       "       [[ 2.14857766e+08, -7.13418512e+05,  5.57658920e+05],\n",
       "        [-7.13418512e+05, -4.67552322e+01, -2.97762485e+06],\n",
       "        [ 5.57658920e+05, -2.97762485e+06, -6.91403296e+01]],\n",
       "\n",
       "       [[ 2.87106077e+08, -9.51888954e+05,  7.44278258e+05],\n",
       "        [-9.51888954e+05, -1.30802842e+02, -3.96803515e+06],\n",
       "        [ 7.44278258e+05, -3.96803515e+06, -1.73965486e+02]],\n",
       "\n",
       "       [[ 3.59670617e+08, -1.19069339e+06,  9.31265044e+05],\n",
       "        [-1.19069339e+06, -2.39267297e+02, -4.95738630e+06],\n",
       "        [ 9.31265044e+05, -4.95738630e+06, -3.08628024e+02]],\n",
       "\n",
       "       [[ 4.32552406e+08, -1.42983296e+06,  1.11861982e+06],\n",
       "        [-1.42983296e+06, -3.72307249e+02, -5.94568226e+06],\n",
       "        [ 1.11861982e+06, -5.94568226e+06, -4.73065112e+02]],\n",
       "\n",
       "       [[ 5.05752472e+08, -1.66930880e+06,  1.30634313e+06],\n",
       "        [-1.66930880e+06, -5.29920812e+02, -6.93292695e+06],\n",
       "        [ 1.30634313e+06, -6.93292695e+06, -6.67052831e+02]],\n",
       "\n",
       "       [[ 5.79271844e+08, -1.90912206e+06,  1.49443551e+06],\n",
       "        [-1.90912206e+06, -7.12101119e+02, -7.91912426e+06],\n",
       "        [ 1.49443551e+06, -7.91912426e+06, -8.90363265e+02]],\n",
       "\n",
       "       [[ 6.53111557e+08, -2.14927386e+06,  1.68289752e+06],\n",
       "        [-2.14927386e+06, -9.18840977e+02, -8.90427806e+06],\n",
       "        [ 1.68289752e+06, -8.90427806e+06, -1.14276911e+03]],\n",
       "\n",
       "       [[ 7.27272650e+08, -2.38976534e+06,  1.87172969e+06],\n",
       "        [-2.38976534e+06, -1.15013308e+03, -9.88839222e+06],\n",
       "        [ 1.87172969e+06, -9.88839222e+06, -1.42404389e+03]],\n",
       "\n",
       "       [[ 1.02715277e+09, -3.35514457e+06,  2.63077374e+06],\n",
       "        [-3.35514457e+06, -1.01655926e+03, -1.38145159e+07],\n",
       "        [ 2.63077374e+06, -1.38145159e+07, -1.46122309e+03]],\n",
       "\n",
       "       [[ 1.33225823e+09, -4.32605556e+06,  3.39578187e+06],\n",
       "        [-4.32605556e+06, -2.46407641e+03, -1.77243200e+07],\n",
       "        [ 3.39578187e+06, -1.77243200e+07, -3.20057570e+03]],\n",
       "\n",
       "       [[ 1.64265854e+09, -5.30256567e+06,  4.16679312e+06],\n",
       "        [-5.30256567e+06, -4.30862479e+03, -2.16180291e+07],\n",
       "        [ 4.16679312e+06, -2.16180291e+07, -5.37572596e+03]],\n",
       "\n",
       "       [[ 1.95842339e+09, -6.28474801e+06,  4.94384409e+06],\n",
       "        [-6.28474801e+06, -6.54858381e+03, -2.54958746e+07],\n",
       "        [ 4.94384409e+06, -2.54958746e+07, -7.97098269e+03]],\n",
       "\n",
       "       [[ 2.27962364e+09, -7.27267582e+06,  5.72697197e+06],\n",
       "        [-7.27267582e+06, -9.18341286e+03, -2.93580830e+07],\n",
       "        [ 5.72697197e+06, -2.93580830e+07, -1.09726166e+04]],\n",
       "\n",
       "       [[ 2.60633137e+09, -8.26642254e+06,  6.51621452e+06],\n",
       "        [-8.26642254e+06, -1.22123751e+04, -3.32048759e+07],\n",
       "        [ 6.51621452e+06, -3.32048759e+07, -1.43668988e+04]],\n",
       "\n",
       "       [[ 2.93861986e+09, -9.26606181e+06,  7.31161010e+06],\n",
       "        [-9.26606181e+06, -1.56347029e+04, -3.70364702e+07],\n",
       "        [ 7.31161010e+06, -3.70364702e+07, -1.81402551e+04]],\n",
       "\n",
       "       [[ 3.27656361e+09, -1.02716675e+07,  8.11319767e+06],\n",
       "        [-1.02716675e+07, -1.94496097e+04, -4.08530780e+07],\n",
       "        [ 8.11319767e+06, -4.08530780e+07, -2.22792693e+04]],\n",
       "\n",
       "       [[ 3.62023842e+09, -1.12833139e+07,  8.92101680e+06],\n",
       "        [-1.12833139e+07, -2.36562909e+04, -4.46549074e+07],\n",
       "        [ 8.92101680e+06, -4.46549074e+07, -2.67706759e+04]],\n",
       "\n",
       "       [[ 3.96972138e+09, -1.23010753e+07,  9.73510769e+06],\n",
       "        [-1.23010753e+07, -2.82539245e+04, -4.84421619e+07],\n",
       "        [ 9.73510769e+06, -4.84421619e+07, -3.16013528e+04]],\n",
       "\n",
       "       [[ 4.32509090e+09, -1.33250267e+07,  1.05555112e+07],\n",
       "        [-1.33250267e+07, -3.32416720e+04, -5.22150410e+07],\n",
       "        [ 1.05555112e+07, -5.22150410e+07, -3.67583142e+04]],\n",
       "\n",
       "       [[ 4.68642675e+09, -1.43552433e+07,  1.13822688e+07],\n",
       "        [-1.43552433e+07, -3.86186782e+04, -5.59737399e+07],\n",
       "        [ 1.13822688e+07, -5.59737399e+07, -4.22287031e+04]],\n",
       "\n",
       "       [[ 5.05381009e+09, -1.53918007e+07,  1.22154226e+07],\n",
       "        [-1.53918007e+07, -4.43840722e+04, -5.97184501e+07],\n",
       "        [ 1.22154226e+07, -5.97184501e+07, -4.79997853e+04]],\n",
       "\n",
       "       [[ 5.42732346e+09, -1.64347750e+07,  1.30550156e+07],\n",
       "        [-1.64347750e+07, -5.05369684e+04, -6.34493592e+07],\n",
       "        [ 1.30550156e+07, -6.34493592e+07, -5.40589422e+04]],\n",
       "\n",
       "       [[ 5.80705090e+09, -1.74842427e+07,  1.39010912e+07],\n",
       "        [-1.74842427e+07, -5.70764663e+04, -6.71666510e+07],\n",
       "        [ 1.39010912e+07, -6.71666510e+07, -6.03936652e+04]]])"
      ]
     },
     "execution_count": 23,
     "metadata": {},
     "output_type": "execute_result"
    }
   ],
   "source": [
    "job.output.stress"
   ]
  },
  {
   "cell_type": "code",
   "execution_count": null,
   "id": "0caaf84a-4829-4e1f-a764-afbb8f342134",
   "metadata": {},
   "outputs": [],
   "source": []
  }
 ],
 "metadata": {
  "kernelspec": {
   "display_name": "Python 3 (ipykernel)",
   "language": "python",
   "name": "python3"
  },
  "language_info": {
   "codemirror_mode": {
    "name": "ipython",
    "version": 3
   },
   "file_extension": ".py",
   "mimetype": "text/x-python",
   "name": "python",
   "nbconvert_exporter": "python",
   "pygments_lexer": "ipython3",
   "version": "3.10.6"
  }
 },
 "nbformat": 4,
 "nbformat_minor": 5
}
