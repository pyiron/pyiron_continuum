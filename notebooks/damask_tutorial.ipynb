{
 "cells": [
  {
   "cell_type": "markdown",
   "id": "d0c61026-3a4c-4e5e-9d61-fdfafca74244",
   "metadata": {},
   "source": [
    "# DAMASK tutorial\n",
    "- creating necessary inputs for damask\n",
    "- runing the damask jobs\n",
    "\n",
    "here more option is given to the user to select from damask python package itself."
   ]
  },
  {
   "cell_type": "markdown",
   "id": "ef3b0f8f-f536-445e-b5a5-80127c731dc5",
   "metadata": {},
   "source": [
    "## Importing libraries and creatign Project"
   ]
  },
  {
   "cell_type": "code",
   "execution_count": 1,
   "id": "eb2b9de9-0c2a-48ca-a63e-046abe4f56cf",
   "metadata": {},
   "outputs": [],
   "source": [
    "from pyiron_continuum import Project\n",
    "from damask import Rotation"
   ]
  },
  {
   "cell_type": "code",
   "execution_count": 2,
   "id": "1ce13de4-6314-4150-9939-13668098164c",
   "metadata": {},
   "outputs": [],
   "source": [
    "pr = Project(\"damask_proj\")"
   ]
  },
  {
   "cell_type": "code",
   "execution_count": 3,
   "id": "360189ad-8345-4efa-a5c4-cc381b110a50",
   "metadata": {},
   "outputs": [
    {
     "data": {
      "application/vnd.jupyter.widget-view+json": {
       "model_id": "7fd8401986824b0384a7c8527f4fe0c2",
       "version_major": 2,
       "version_minor": 0
      },
      "text/plain": [
       "0it [00:00, ?it/s]"
      ]
     },
     "metadata": {},
     "output_type": "display_data"
    }
   ],
   "source": [
    "pr.remove_jobs(silently=True) # remove the old or existing folder"
   ]
  },
  {
   "cell_type": "markdown",
   "id": "f9938eb9-7ab3-4440-84dc-e0c2419984e7",
   "metadata": {},
   "source": [
    "## Creating the Damask job"
   ]
  },
  {
   "cell_type": "code",
   "execution_count": 4,
   "id": "34539f6b-0e53-4f49-a7b2-b42e6cc74f09",
   "metadata": {},
   "outputs": [],
   "source": [
    "job = pr.create.job.DAMASK(\"damask_job\")"
   ]
  },
  {
   "cell_type": "markdown",
   "id": "1dfa818a-b6e3-4abd-8a00-39a3ffd2424c",
   "metadata": {},
   "source": [
    "## Creating the necessary inputs"
   ]
  },
  {
   "cell_type": "code",
   "execution_count": 5,
   "id": "6512f434-10fe-49d8-82da-555001502ea4",
   "metadata": {},
   "outputs": [],
   "source": [
    "grains=8;grids=16 # defines the number of grains and grids"
   ]
  },
  {
   "cell_type": "markdown",
   "id": "af0167a1-2c9d-49c0-8d68-ffa248d00de9",
   "metadata": {},
   "source": [
    "### Homogenization"
   ]
  },
  {
   "cell_type": "code",
   "execution_count": 6,
   "id": "bcf4da2a-6253-4e73-a6d3-5e434b7de1fe",
   "metadata": {},
   "outputs": [],
   "source": [
    "homogenization = pr.create.DAMASK.homogenization(method='SX', \n",
    "                                                 parameters={'N_constituents': 1,\n",
    "                                                             \"mechanical\": {\"type\": \"pass\"}})"
   ]
  },
  {
   "cell_type": "code",
   "execution_count": 7,
   "id": "2a96e114-7cea-49dd-959c-50e63498e47c",
   "metadata": {},
   "outputs": [],
   "source": [
    "homogenization = pr.continuum.damask.Homogenization(method='SX', \n",
    "                                                     parameters={'N_constituents': 1,\n",
    "                                                                 \"mechanical\": {\"type\": \"pass\"}})"
   ]
  },
  {
   "cell_type": "markdown",
   "id": "b1af7a42-951f-4d0f-bb56-5d6ea18b92e5",
   "metadata": {},
   "source": [
    "### Elasticity"
   ]
  },
  {
   "cell_type": "code",
   "execution_count": 8,
   "id": "8e8a1801-467a-4260-b14e-433265f08fa9",
   "metadata": {},
   "outputs": [],
   "source": [
    "elasticity = pr.continuum.damask.Elasticity(type= 'Hooke', C_11= 106.75e9,\n",
    "                                   C_12= 60.41e9, C_44=28.34e9)"
   ]
  },
  {
   "cell_type": "markdown",
   "id": "71b5659e-ade4-4bfb-a80c-79d77f3366bf",
   "metadata": {},
   "source": [
    "### Plasticity"
   ]
  },
  {
   "cell_type": "code",
   "execution_count": 9,
   "id": "24b6b8a1-7e0a-4836-b230-e29fbfbc370f",
   "metadata": {},
   "outputs": [],
   "source": [
    "plasticity = pr.continuum.damask.Plasticity(type='phenopowerlaw',\n",
    "                                            N_sl=[12],a_sl=[2.25],\n",
    "                                            atol_xi=1.0,dot_gamma_0_sl=[0.001],\n",
    "                                            h_0_sl_sl=[75.0e6],\n",
    "                                            h_sl_sl=[1, 1, 1.4, 1.4, 1.4, 1.4, 1.4],\n",
    "                                            n_sl=[20],\n",
    "                                            output=['xi_sl'],\n",
    "                                            xi_0_sl=[31.0e6],\n",
    "                                            xi_inf_sl=[63.0e6]\n",
    "                                           )  "
   ]
  },
  {
   "cell_type": "markdown",
   "id": "c4599715-e2e7-43aa-ab86-c0a26fe862a7",
   "metadata": {},
   "source": [
    "### Phase"
   ]
  },
  {
   "cell_type": "code",
   "execution_count": 10,
   "id": "7d018837-f07e-4f01-8436-683e12257489",
   "metadata": {},
   "outputs": [],
   "source": [
    "phase = pr.continuum.damask.Phase(composition='Aluminum', lattice= 'cF',\n",
    "                         output_list=['F', 'P', 'F_e', 'F_p', 'L_p', 'O'],\n",
    "                         elasticity=elasticity, plasticity=plasticity)"
   ]
  },
  {
   "cell_type": "markdown",
   "id": "ce4d182d-85ee-40f1-946e-eaa1005a7e03",
   "metadata": {},
   "source": [
    "### Rotation"
   ]
  },
  {
   "cell_type": "code",
   "execution_count": 11,
   "id": "d93eda97-b7ce-4572-8ce3-b8d34672e274",
   "metadata": {},
   "outputs": [],
   "source": [
    "rotation = pr.continuum.damask.Rotation(Rotation.from_random, grains)"
   ]
  },
  {
   "cell_type": "markdown",
   "id": "e39e9e82-c289-4322-ba9e-f03c3580e03e",
   "metadata": {},
   "source": [
    "### Material"
   ]
  },
  {
   "cell_type": "code",
   "execution_count": 12,
   "id": "dfb6237e-1dbf-47ba-9f50-e580456e9760",
   "metadata": {},
   "outputs": [],
   "source": [
    "material = pr.continuum.damask.Material([rotation],['Aluminum'], phase, homogenization)"
   ]
  },
  {
   "cell_type": "code",
   "execution_count": 13,
   "id": "d633c7d0-c47f-4d2d-aaa4-22c9d980d136",
   "metadata": {},
   "outputs": [],
   "source": [
    "job.material = material"
   ]
  },
  {
   "cell_type": "markdown",
   "id": "583ae5d3-d057-41b7-ad15-249564316cec",
   "metadata": {},
   "source": [
    "### Grid"
   ]
  },
  {
   "cell_type": "code",
   "execution_count": 14,
   "id": "f2cde993-9ccc-4c04-9fa0-0e7ad1832483",
   "metadata": {},
   "outputs": [],
   "source": [
    "grid = pr.continuum.damask.Grid.via_voronoi_tessellation(box_size=1.0e-5, grid_dim=grids, num_grains=grains)"
   ]
  },
  {
   "cell_type": "code",
   "execution_count": 15,
   "id": "4642dc1d-2b9b-4ccc-bf2b-e66054ec11eb",
   "metadata": {},
   "outputs": [],
   "source": [
    "job.grid = grid"
   ]
  },
  {
   "cell_type": "markdown",
   "id": "0f2fda22-7d5c-42bb-9aba-f1aebe58279d",
   "metadata": {},
   "source": [
    "### Loading"
   ]
  },
  {
   "cell_type": "code",
   "execution_count": 16,
   "id": "48fa531a-5785-41b1-91f2-49aafdc296da",
   "metadata": {},
   "outputs": [],
   "source": [
    "load_step =[{'mech_bc_dict':{'dot_F':[1e-3,0,0, 0,'x',0,  0,0,'x'],\n",
    "                            'P':['x','x','x', 'x',0,'x',  'x','x',0]},\n",
    "            'discretization':{'t': 10.,'N': 40},\n",
    "            'additional': {'f_out': 4}\n",
    "           },{'mech_bc_dict':{'dot_F':[1e-3,0,0, 0,'x',0,  0,0,'x'],\n",
    "                              'P':['x','x','x', 'x',0,'x',  'x','x',0]},\n",
    "            'discretization':{'t': 60.,'N': 60},\n",
    "            'additional': {'f_out': 4}\n",
    "           }]"
   ]
  },
  {
   "cell_type": "code",
   "execution_count": 17,
   "id": "47aba5c8-9371-459d-979b-8ae3c012b981",
   "metadata": {},
   "outputs": [],
   "source": [
    "solver = job.list_solvers()[0]"
   ]
  },
  {
   "cell_type": "code",
   "execution_count": 18,
   "id": "664ddbd9-a2c8-423e-a1ef-7fb3e1cb5d40",
   "metadata": {},
   "outputs": [],
   "source": [
    "job.loading = pr.continuum.damask.Loading(solver=solver, load_steps=load_step)"
   ]
  },
  {
   "cell_type": "markdown",
   "id": "2bfb7e7f-659e-493e-8696-42e2073912fa",
   "metadata": {},
   "source": [
    "## Runing the job"
   ]
  },
  {
   "cell_type": "code",
   "execution_count": 19,
   "id": "03f5d0df-92b0-4fed-b9fa-996bff478bc1",
   "metadata": {},
   "outputs": [
    {
     "name": "stdout",
     "output_type": "stream",
     "text": [
      "The job damask_job was saved and received the ID: 7913\n"
     ]
    }
   ],
   "source": [
    "job.run()"
   ]
  },
  {
   "cell_type": "code",
   "execution_count": 20,
   "id": "b40ba0b4-12bb-4fa6-9e58-934afbc2781a",
   "metadata": {},
   "outputs": [
    {
     "data": {
      "text/html": [
       "<div>\n",
       "<style scoped>\n",
       "    .dataframe tbody tr th:only-of-type {\n",
       "        vertical-align: middle;\n",
       "    }\n",
       "\n",
       "    .dataframe tbody tr th {\n",
       "        vertical-align: top;\n",
       "    }\n",
       "\n",
       "    .dataframe thead th {\n",
       "        text-align: right;\n",
       "    }\n",
       "</style>\n",
       "<table border=\"1\" class=\"dataframe\">\n",
       "  <thead>\n",
       "    <tr style=\"text-align: right;\">\n",
       "      <th></th>\n",
       "      <th>id</th>\n",
       "      <th>status</th>\n",
       "      <th>chemicalformula</th>\n",
       "      <th>job</th>\n",
       "      <th>subjob</th>\n",
       "      <th>projectpath</th>\n",
       "      <th>project</th>\n",
       "      <th>timestart</th>\n",
       "      <th>timestop</th>\n",
       "      <th>totalcputime</th>\n",
       "      <th>computer</th>\n",
       "      <th>hamilton</th>\n",
       "      <th>hamversion</th>\n",
       "      <th>parentid</th>\n",
       "      <th>masterid</th>\n",
       "    </tr>\n",
       "  </thead>\n",
       "  <tbody>\n",
       "    <tr>\n",
       "      <th>0</th>\n",
       "      <td>7913</td>\n",
       "      <td>finished</td>\n",
       "      <td>None</td>\n",
       "      <td>damask_job</td>\n",
       "      <td>/damask_job</td>\n",
       "      <td>None</td>\n",
       "      <td>/home/jovyan/dev/pyiron_continuum/notebooks/damask_proj/</td>\n",
       "      <td>2024-03-15 10:31:46.260242</td>\n",
       "      <td>2024-03-15 10:34:37.538081</td>\n",
       "      <td>171.0</td>\n",
       "      <td>pyiron@dc188985fde9#1</td>\n",
       "      <td>DAMASK</td>\n",
       "      <td>0.4</td>\n",
       "      <td>None</td>\n",
       "      <td>None</td>\n",
       "    </tr>\n",
       "  </tbody>\n",
       "</table>\n",
       "</div>"
      ],
      "text/plain": [
       "     id    status chemicalformula         job       subjob projectpath  \\\n",
       "0  7913  finished            None  damask_job  /damask_job        None   \n",
       "\n",
       "                                                    project  \\\n",
       "0  /home/jovyan/dev/pyiron_continuum/notebooks/damask_proj/   \n",
       "\n",
       "                   timestart                   timestop  totalcputime  \\\n",
       "0 2024-03-15 10:31:46.260242 2024-03-15 10:34:37.538081         171.0   \n",
       "\n",
       "                computer hamilton hamversion parentid masterid  \n",
       "0  pyiron@dc188985fde9#1   DAMASK        0.4     None     None  "
      ]
     },
     "execution_count": 20,
     "metadata": {},
     "output_type": "execute_result"
    }
   ],
   "source": [
    "pr.job_table()"
   ]
  },
  {
   "cell_type": "markdown",
   "id": "841da73c-cc70-4131-b27c-ed6918c0c8d9",
   "metadata": {},
   "source": [
    "## Post-processing"
   ]
  },
  {
   "cell_type": "code",
   "execution_count": 21,
   "id": "58488412-85a1-468c-a150-75dae0aeb5cf",
   "metadata": {},
   "outputs": [
    {
     "data": {
      "text/plain": [
       "(<Figure size 640x480 with 1 Axes>,\n",
       " <Axes: xlabel='$\\\\varepsilon_z$$_z$', ylabel='$\\\\sigma_z$$_z$(Pa)'>)"
      ]
     },
     "execution_count": 21,
     "metadata": {},
     "output_type": "execute_result"
    }
   ],
   "source": [
    "job.plot_stress_strain(component='zz')"
   ]
  },
  {
   "cell_type": "code",
   "execution_count": 22,
   "id": "d8a821fb-34f6-4f04-9f40-12b04477b12b",
   "metadata": {},
   "outputs": [
    {
     "data": {
      "text/plain": [
       "(<Figure size 640x480 with 1 Axes>,\n",
       " <Axes: xlabel='$\\\\varepsilon_{vM}$', ylabel='$\\\\sigma_{vM}$ (Pa)'>)"
      ]
     },
     "execution_count": 22,
     "metadata": {},
     "output_type": "execute_result"
    }
   ],
   "source": [
    "job.plot_stress_strain(von_mises=True)"
   ]
  },
  {
   "cell_type": "code",
   "execution_count": 23,
   "id": "89e9f3aa-d673-4c39-af25-9366edabbb45",
   "metadata": {},
   "outputs": [
    {
     "data": {
      "text/plain": [
       "\u001b[2mCreated by DAMASK_grid v3.0.0-beta\n",
       "        on 2024-03-15 10:31:48+0000\n",
       " executing \"DAMASK_grid -m material.yaml -l loading.yaml -g damask.vti\"\u001b[0m\n",
       "\n",
       "increment_80 (50.0 s)\n",
       "  phase\n",
       "    Aluminum\n",
       "      mechanical\n",
       "        F / 1: deformation gradient\n",
       "        F_e / 1: elastic deformation gradient\n",
       "        F_p / 1: plastic deformation gradient\n",
       "        L_p / 1/s: plastic velocity gradient\n",
       "        O / 1: crystal orientation as quaternion q_0 (q_1 q_2 q_3)\n",
       "        P / Pa: first Piola-Kirchhoff stress\n",
       "        epsilon_V^0.0(F) / 1: Seth-Hill strain tensor of order 0.0 based on left stretch tensor of F (deformation gradient)\n",
       "        epsilon_V^0.0(F)_vM / 1: Mises equivalent strain of epsilon_V^0.0(F) (Seth-Hill strain tensor of order 0.0 based on left stretch tensor of F (deformation gradient))\n",
       "        sigma / Pa: Cauchy stress calculated from P (first Piola-Kirchhoff stress) and F (deformation gradient)\n",
       "        sigma_vM / Pa: Mises equivalent stress of sigma (Cauchy stress calculated from P (first Piola-Kirchhoff stress) and F (deformation gradient))\n",
       "        xi_sl / Pa: resistance against plastic slip\n",
       "  homogenization\n",
       "    SX\n",
       "      mechanical"
      ]
     },
     "execution_count": 23,
     "metadata": {},
     "output_type": "execute_result"
    }
   ],
   "source": [
    "job.output.damask.view(increments=80)"
   ]
  },
  {
   "cell_type": "code",
   "execution_count": 24,
   "id": "3d310ed3-c1c6-4f5a-a236-a923b91ca0e4",
   "metadata": {},
   "outputs": [
    {
     "data": {
      "text/plain": [
       "array([[[-1.67174125e-05, -1.52645342e-07,  3.62882996e-06],\n",
       "        [-1.52645342e-07, -1.30775929e-05,  3.19132237e-09],\n",
       "        [ 3.62882996e-06,  3.19132237e-09, -1.58627305e-05]],\n",
       "\n",
       "       [[ 6.52193609e+07, -4.28821123e+05, -4.47655459e+05],\n",
       "        [-4.28821123e+05, -5.31950972e+03, -2.45632202e+05],\n",
       "        [-4.47655459e+05, -2.45632202e+05, -5.25303410e+03]],\n",
       "\n",
       "       [[ 7.50622033e+07, -8.78135552e+05,  4.65835541e+05],\n",
       "        [-8.78135552e+05, -3.04408934e+03,  1.68759835e+05],\n",
       "        [ 4.65835541e+05,  1.68759835e+05, -3.06071830e+03]],\n",
       "\n",
       "       [[ 7.67040421e+07, -1.35906001e+06,  9.09751650e+05],\n",
       "        [-1.35906001e+06, -5.00373428e+03,  1.53773373e+05],\n",
       "        [ 9.09751650e+05,  1.53773373e+05, -3.63232678e+03]],\n",
       "\n",
       "       [[ 7.73014247e+07, -1.57103752e+06,  9.42891145e+05],\n",
       "        [-1.57103752e+06,  1.44812082e+03, -4.37948596e+04],\n",
       "        [ 9.42891145e+05, -4.37948596e+04, -2.84004383e+03]],\n",
       "\n",
       "       [[ 7.76345980e+07, -1.71580765e+06,  8.47314073e+05],\n",
       "        [-1.71580765e+06, -2.36854375e+03, -2.66082476e+05],\n",
       "        [ 8.47314073e+05, -2.66082476e+05, -2.37698906e+03]],\n",
       "\n",
       "       [[ 7.78771826e+07, -1.82828493e+06,  7.29247067e+05],\n",
       "        [-1.82828493e+06, -2.11046652e+03, -4.64400914e+05],\n",
       "        [ 7.29247067e+05, -4.64400914e+05, -4.83294632e+03]],\n",
       "\n",
       "       [[ 7.80785867e+07, -1.91736018e+06,  6.19604368e+05],\n",
       "        [-1.91736018e+06, -3.51835999e+03, -6.28957585e+05],\n",
       "        [ 6.19604368e+05, -6.28957585e+05, -7.16562189e+03]],\n",
       "\n",
       "       [[ 7.82662717e+07, -1.98792505e+06,  5.26154027e+05],\n",
       "        [-1.98792505e+06,  2.91891271e+03, -7.61324482e+05],\n",
       "        [ 5.26154027e+05, -7.61324482e+05,  3.12251222e+03]],\n",
       "\n",
       "       [[ 7.84365269e+07, -2.04340635e+06,  4.49411689e+05],\n",
       "        [-2.04340635e+06,  4.03851112e+03, -8.65368410e+05],\n",
       "        [ 4.49411689e+05, -8.65368410e+05,  8.48880522e+03]],\n",
       "\n",
       "       [[ 7.85933501e+07, -2.08665421e+06,  3.86960676e+05],\n",
       "        [-2.08665421e+06,  2.86400896e+03, -9.47216119e+05],\n",
       "        [ 3.86960676e+05, -9.47216119e+05,  5.97988193e+03]],\n",
       "\n",
       "       [[ 7.91815819e+07, -2.17464816e+06,  2.45947236e+05],\n",
       "        [-2.17464816e+06,  8.27306006e+03, -1.12511531e+06],\n",
       "        [ 2.45947236e+05, -1.12511531e+06,  6.28658935e+03]],\n",
       "\n",
       "       [[ 7.97353837e+07, -2.18760207e+06,  2.10648788e+05],\n",
       "        [-2.18760207e+06,  9.58625460e+03, -1.18023038e+06],\n",
       "        [ 2.10648788e+05, -1.18023038e+06,  7.30339746e+03]],\n",
       "\n",
       "       [[ 8.02685881e+07, -2.16344385e+06,  2.29260669e+05],\n",
       "        [-2.16344385e+06,  8.63403437e+03, -1.17159670e+06],\n",
       "        [ 2.29260669e+05, -1.17159670e+06,  6.63676122e+03]],\n",
       "\n",
       "       [[ 8.07884318e+07, -2.12056736e+06,  2.73927256e+05],\n",
       "        [-2.12056736e+06,  8.15493262e+03, -1.12985505e+06],\n",
       "        [ 2.73927256e+05, -1.12985505e+06,  6.30819584e+03]],\n",
       "\n",
       "       [[ 8.12966267e+07, -2.06856752e+06,  3.28326312e+05],\n",
       "        [-2.06856752e+06,  7.82517001e+03, -1.07190004e+06],\n",
       "        [ 3.28326312e+05, -1.07190004e+06,  6.09380637e+03]],\n",
       "\n",
       "       [[ 8.17939226e+07, -2.01254806e+06,  3.84700689e+05],\n",
       "        [-2.01254806e+06,  7.52169181e+03, -1.00653385e+06],\n",
       "        [ 3.84700689e+05, -1.00653385e+06,  5.89737642e+03]],\n",
       "\n",
       "       [[ 8.22807783e+07, -1.95505700e+06,  4.40418357e+05],\n",
       "        [-1.95505700e+06,  7.24135344e+03, -9.37929396e+05],\n",
       "        [ 4.40418357e+05, -9.37929396e+05,  5.72163159e+03]],\n",
       "\n",
       "       [[ 8.27576618e+07, -1.89754359e+06,  4.94293288e+05],\n",
       "        [-1.89754359e+06,  6.99090080e+03, -8.68416924e+05],\n",
       "        [ 4.94293288e+05, -8.68416924e+05,  5.56484514e+03]],\n",
       "\n",
       "       [[ 8.32249554e+07, -1.84100273e+06,  5.45682407e+05],\n",
       "        [-1.84100273e+06,  6.74453595e+03, -7.99320609e+05],\n",
       "        [ 5.45682407e+05, -7.99320609e+05,  5.40489711e+03]],\n",
       "\n",
       "       [[ 8.36829687e+07, -1.78597496e+06,  5.94414216e+05],\n",
       "        [-1.78597496e+06,  6.49205587e+03, -7.31291259e+05],\n",
       "        [ 5.94414216e+05, -7.31291259e+05,  5.23054637e+03]],\n",
       "\n",
       "       [[ 8.41138500e+07, -1.73255883e+06,  6.41891491e+05],\n",
       "        [-1.73255883e+06, -1.58503493e+04, -6.65074141e+05],\n",
       "        [ 6.41891491e+05, -6.65074141e+05, -1.22702456e+04]],\n",
       "\n",
       "       [[ 8.45543252e+07, -1.68132842e+06,  6.86475614e+05],\n",
       "        [-1.68132842e+06, -1.58372071e+04, -6.00829925e+05],\n",
       "        [ 6.86475614e+05, -6.00829925e+05, -1.19038269e+04]],\n",
       "\n",
       "       [[ 8.49867353e+07, -1.63232701e+06,  7.28061180e+05],\n",
       "        [-1.63232701e+06, -1.55070751e+04, -5.39457073e+05],\n",
       "        [ 7.28061180e+05, -5.39457073e+05, -1.16587515e+04]],\n",
       "\n",
       "       [[ 8.54109181e+07, -1.58518840e+06,  7.67413708e+05],\n",
       "        [-1.58518840e+06, -1.52466424e+04, -4.81291842e+05],\n",
       "        [ 7.67413708e+05, -4.81291842e+05, -1.14786441e+04]],\n",
       "\n",
       "       [[ 8.58272578e+07, -1.53935014e+06,  8.05021051e+05],\n",
       "        [-1.53935014e+06, -1.50047937e+04, -4.26215112e+05],\n",
       "        [ 8.05021051e+05, -4.26215112e+05, -1.13171553e+04]]])"
      ]
     },
     "execution_count": 24,
     "metadata": {},
     "output_type": "execute_result"
    }
   ],
   "source": [
    "job.output.stress"
   ]
  }
 ],
 "metadata": {
  "kernelspec": {
   "display_name": "pyiron",
   "language": "python",
   "name": "pyiron"
  },
  "language_info": {
   "codemirror_mode": {
    "name": "ipython",
    "version": 3
   },
   "file_extension": ".py",
   "mimetype": "text/x-python",
   "name": "python",
   "nbconvert_exporter": "python",
   "pygments_lexer": "ipython3",
   "version": "3.11.8"
  }
 },
 "nbformat": 4,
 "nbformat_minor": 5
}
