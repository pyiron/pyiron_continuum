{
 "cells": [
  {
   "cell_type": "markdown",
   "id": "d0c61026-3a4c-4e5e-9d61-fdfafca74244",
   "metadata": {},
   "source": [
    "# DAMASK tutorial\n",
    "- creating necessary inputs for damask\n",
    "- runing the damask jobs\n",
    "\n",
    "here more option is given to the user to select from damask python package itself."
   ]
  },
  {
   "cell_type": "markdown",
   "id": "ef3b0f8f-f536-445e-b5a5-80127c731dc5",
   "metadata": {},
   "source": [
    "## Importing libraries and creatign Project"
   ]
  },
  {
   "cell_type": "code",
   "execution_count": 1,
   "id": "eb2b9de9-0c2a-48ca-a63e-046abe4f56cf",
   "metadata": {},
   "outputs": [],
   "source": [
    "from pyiron_continuum import Project\n",
    "%matplotlib inline"
   ]
  },
  {
   "cell_type": "code",
   "execution_count": 2,
   "id": "1ce13de4-6314-4150-9939-13668098164c",
   "metadata": {},
   "outputs": [],
   "source": [
    "pr = Project(\"damask_proj\")"
   ]
  },
  {
   "cell_type": "code",
   "execution_count": 3,
   "id": "360189ad-8345-4efa-a5c4-cc381b110a50",
   "metadata": {},
   "outputs": [
    {
     "data": {
      "application/vnd.jupyter.widget-view+json": {
       "model_id": "35df039b4cce4cd0bd64516a6a492193",
       "version_major": 2,
       "version_minor": 0
      },
      "text/plain": [
       "0it [00:00, ?it/s]"
      ]
     },
     "metadata": {},
     "output_type": "display_data"
    }
   ],
   "source": [
    "pr.remove_jobs(silently=True) # remove the old or existing folder"
   ]
  },
  {
   "cell_type": "markdown",
   "id": "f9938eb9-7ab3-4440-84dc-e0c2419984e7",
   "metadata": {},
   "source": [
    "## Creating the Damask job"
   ]
  },
  {
   "cell_type": "code",
   "execution_count": 4,
   "id": "34539f6b-0e53-4f49-a7b2-b42e6cc74f09",
   "metadata": {},
   "outputs": [],
   "source": [
    "job = pr.create.job.DAMASK(\"damask_job\")"
   ]
  },
  {
   "cell_type": "markdown",
   "id": "1dfa818a-b6e3-4abd-8a00-39a3ffd2424c",
   "metadata": {},
   "source": [
    "## Creating the necessary inputs"
   ]
  },
  {
   "cell_type": "code",
   "execution_count": 5,
   "id": "6512f434-10fe-49d8-82da-555001502ea4",
   "metadata": {},
   "outputs": [],
   "source": [
    "grains=8;grids=16 # defines the number of grains and grids"
   ]
  },
  {
   "cell_type": "markdown",
   "id": "af0167a1-2c9d-49c0-8d68-ffa248d00de9",
   "metadata": {},
   "source": [
    "### Homogenization"
   ]
  },
  {
   "cell_type": "code",
   "execution_count": 6,
   "id": "bcf4da2a-6253-4e73-a6d3-5e434b7de1fe",
   "metadata": {},
   "outputs": [
    {
     "name": "stderr",
     "output_type": "stream",
     "text": [
      "/home/jovyan/dev/pyiron_continuum/pyiron_continuum/project.py:84: UserWarning: Setting homogenization via project creator is deprecated. Use job.set_homogenization instead\n",
      "  warnings.warn(\n"
     ]
    }
   ],
   "source": [
    "homogenization = pr.create.DAMASK.homogenization(method='SX', \n",
    "                                                 parameters={'N_constituents': 1,\n",
    "                                                             \"mechanical\": {\"type\": \"pass\"}})"
   ]
  },
  {
   "cell_type": "code",
   "execution_count": 7,
   "id": "2a96e114-7cea-49dd-959c-50e63498e47c",
   "metadata": {},
   "outputs": [],
   "source": [
    "homogenization = pr.continuum.damask.Homogenization(method='SX', \n",
    "                                                     parameters={'N_constituents': 1,\n",
    "                                                                 \"mechanical\": {\"type\": \"pass\"}})"
   ]
  },
  {
   "cell_type": "markdown",
   "id": "b1af7a42-951f-4d0f-bb56-5d6ea18b92e5",
   "metadata": {},
   "source": [
    "### Elasticity"
   ]
  },
  {
   "cell_type": "code",
   "execution_count": 8,
   "id": "8e8a1801-467a-4260-b14e-433265f08fa9",
   "metadata": {},
   "outputs": [],
   "source": [
    "elasticity = pr.continuum.damask.Elasticity(type= 'Hooke', C_11= 106.75e9,\n",
    "                                   C_12= 60.41e9, C_44=28.34e9)"
   ]
  },
  {
   "cell_type": "markdown",
   "id": "71b5659e-ade4-4bfb-a80c-79d77f3366bf",
   "metadata": {},
   "source": [
    "### Plasticity"
   ]
  },
  {
   "cell_type": "code",
   "execution_count": 9,
   "id": "24b6b8a1-7e0a-4836-b230-e29fbfbc370f",
   "metadata": {},
   "outputs": [],
   "source": [
    "plasticity = pr.continuum.damask.Plasticity(type='phenopowerlaw',\n",
    "                                            N_sl=[12],a_sl=[2.25],\n",
    "                                            atol_xi=1.0,dot_gamma_0_sl=[0.001],\n",
    "                                            h_0_sl_sl=[75.0e6],\n",
    "                                            h_sl_sl=[1, 1, 1.4, 1.4, 1.4, 1.4, 1.4],\n",
    "                                            n_sl=[20],\n",
    "                                            output=['xi_sl'],\n",
    "                                            xi_0_sl=[31.0e6],\n",
    "                                            xi_inf_sl=[63.0e6]\n",
    "                                           )  "
   ]
  },
  {
   "cell_type": "markdown",
   "id": "c4599715-e2e7-43aa-ab86-c0a26fe862a7",
   "metadata": {},
   "source": [
    "### Phase"
   ]
  },
  {
   "cell_type": "code",
   "execution_count": 10,
   "id": "7d018837-f07e-4f01-8436-683e12257489",
   "metadata": {},
   "outputs": [],
   "source": [
    "phase = pr.continuum.damask.Phase(composition='Aluminum', lattice= 'cF',\n",
    "                         output_list=['F', 'P', 'F_e', 'F_p', 'L_p', 'O'],\n",
    "                         elasticity=elasticity, plasticity=plasticity)"
   ]
  },
  {
   "cell_type": "markdown",
   "id": "ce4d182d-85ee-40f1-946e-eaa1005a7e03",
   "metadata": {},
   "source": [
    "### Rotation"
   ]
  },
  {
   "cell_type": "code",
   "execution_count": 11,
   "id": "d93eda97-b7ce-4572-8ce3-b8d34672e274",
   "metadata": {},
   "outputs": [],
   "source": [
    "rotation = pr.continuum.damask.Rotation(shape=grains)"
   ]
  },
  {
   "cell_type": "markdown",
   "id": "e39e9e82-c289-4322-ba9e-f03c3580e03e",
   "metadata": {},
   "source": [
    "### Material"
   ]
  },
  {
   "cell_type": "code",
   "execution_count": 12,
   "id": "dfb6237e-1dbf-47ba-9f50-e580456e9760",
   "metadata": {},
   "outputs": [],
   "source": [
    "material = pr.continuum.damask.Material([rotation],['Aluminum'], phase, homogenization)"
   ]
  },
  {
   "cell_type": "code",
   "execution_count": 13,
   "id": "d633c7d0-c47f-4d2d-aaa4-22c9d980d136",
   "metadata": {},
   "outputs": [
    {
     "name": "stderr",
     "output_type": "stream",
     "text": [
      "/home/jovyan/dev/pyiron_continuum/pyiron_continuum/damask/damaskjob.py:165: UserWarning: Setting material via project creator is deprecated. Use job.set_material instead\n",
      "  warnings.warn(\n"
     ]
    }
   ],
   "source": [
    "job.material = material"
   ]
  },
  {
   "cell_type": "markdown",
   "id": "583ae5d3-d057-41b7-ad15-249564316cec",
   "metadata": {},
   "source": [
    "### Grid"
   ]
  },
  {
   "cell_type": "code",
   "execution_count": 14,
   "id": "f2cde993-9ccc-4c04-9fa0-0e7ad1832483",
   "metadata": {},
   "outputs": [],
   "source": [
    "grid = pr.continuum.damask.Grid.via_voronoi_tessellation(box_size=1.0e-5, spatial_discretization=grids, num_grains=grains)"
   ]
  },
  {
   "cell_type": "code",
   "execution_count": 15,
   "id": "4642dc1d-2b9b-4ccc-bf2b-e66054ec11eb",
   "metadata": {},
   "outputs": [
    {
     "name": "stderr",
     "output_type": "stream",
     "text": [
      "/home/jovyan/dev/pyiron_continuum/pyiron_continuum/damask/damaskjob.py:213: UserWarning: Setting grid via project creator is deprecated. Use job.set_grid instead\n",
      "  warnings.warn(\n"
     ]
    }
   ],
   "source": [
    "job.grid = grid"
   ]
  },
  {
   "cell_type": "markdown",
   "id": "0f2fda22-7d5c-42bb-9aba-f1aebe58279d",
   "metadata": {},
   "source": [
    "### Loading"
   ]
  },
  {
   "cell_type": "code",
   "execution_count": 16,
   "id": "48fa531a-5785-41b1-91f2-49aafdc296da",
   "metadata": {},
   "outputs": [],
   "source": [
    "load_step =[{'mech_bc_dict':{'dot_F':[1e-3,0,0, 0,'x',0,  0,0,'x'],\n",
    "                            'P':['x','x','x', 'x',0,'x',  'x','x',0]},\n",
    "            'discretization':{'t': 10.,'N': 40},\n",
    "            'additional': {'f_out': 4}\n",
    "           },{'mech_bc_dict':{'dot_F':[1e-3,0,0, 0,'x',0,  0,0,'x'],\n",
    "                              'P':['x','x','x', 'x',0,'x',  'x','x',0]},\n",
    "            'discretization':{'t': 60.,'N': 60},\n",
    "            'additional': {'f_out': 4}\n",
    "           }]"
   ]
  },
  {
   "cell_type": "code",
   "execution_count": 17,
   "id": "47aba5c8-9371-459d-979b-8ae3c012b981",
   "metadata": {},
   "outputs": [],
   "source": [
    "solver = job.list_solvers()[0]"
   ]
  },
  {
   "cell_type": "code",
   "execution_count": 18,
   "id": "664ddbd9-a2c8-423e-a1ef-7fb3e1cb5d40",
   "metadata": {},
   "outputs": [
    {
     "name": "stderr",
     "output_type": "stream",
     "text": [
      "/home/jovyan/dev/pyiron_continuum/pyiron_continuum/damask/damaskjob.py:224: UserWarning: Setting loading via project creator is deprecated. Use job.set_loading instead\n",
      "  warnings.warn(\n"
     ]
    }
   ],
   "source": [
    "job.loading = pr.continuum.damask.Loading(solver=solver, load_steps=load_step)"
   ]
  },
  {
   "cell_type": "markdown",
   "id": "2bfb7e7f-659e-493e-8696-42e2073912fa",
   "metadata": {},
   "source": [
    "## Runing the job"
   ]
  },
  {
   "cell_type": "code",
   "execution_count": 19,
   "id": "03f5d0df-92b0-4fed-b9fa-996bff478bc1",
   "metadata": {},
   "outputs": [
    {
     "name": "stdout",
     "output_type": "stream",
     "text": [
      "The job damask_job was saved and received the ID: 7923\n"
     ]
    }
   ],
   "source": [
    "job.run()"
   ]
  },
  {
   "cell_type": "code",
   "execution_count": 20,
   "id": "b40ba0b4-12bb-4fa6-9e58-934afbc2781a",
   "metadata": {},
   "outputs": [
    {
     "data": {
      "text/html": [
       "<div>\n",
       "<style scoped>\n",
       "    .dataframe tbody tr th:only-of-type {\n",
       "        vertical-align: middle;\n",
       "    }\n",
       "\n",
       "    .dataframe tbody tr th {\n",
       "        vertical-align: top;\n",
       "    }\n",
       "\n",
       "    .dataframe thead th {\n",
       "        text-align: right;\n",
       "    }\n",
       "</style>\n",
       "<table border=\"1\" class=\"dataframe\">\n",
       "  <thead>\n",
       "    <tr style=\"text-align: right;\">\n",
       "      <th></th>\n",
       "      <th>id</th>\n",
       "      <th>status</th>\n",
       "      <th>chemicalformula</th>\n",
       "      <th>job</th>\n",
       "      <th>subjob</th>\n",
       "      <th>projectpath</th>\n",
       "      <th>project</th>\n",
       "      <th>timestart</th>\n",
       "      <th>timestop</th>\n",
       "      <th>totalcputime</th>\n",
       "      <th>computer</th>\n",
       "      <th>hamilton</th>\n",
       "      <th>hamversion</th>\n",
       "      <th>parentid</th>\n",
       "      <th>masterid</th>\n",
       "    </tr>\n",
       "  </thead>\n",
       "  <tbody>\n",
       "    <tr>\n",
       "      <th>0</th>\n",
       "      <td>7923</td>\n",
       "      <td>finished</td>\n",
       "      <td>None</td>\n",
       "      <td>damask_job</td>\n",
       "      <td>/damask_job</td>\n",
       "      <td>None</td>\n",
       "      <td>/home/jovyan/dev/pyiron_continuum/notebooks/damask_proj/</td>\n",
       "      <td>2024-04-18 09:15:04.249266</td>\n",
       "      <td>2024-04-18 09:17:43.378586</td>\n",
       "      <td>159.0</td>\n",
       "      <td>pyiron@b95581055f92#1</td>\n",
       "      <td>DAMASK</td>\n",
       "      <td>0.4</td>\n",
       "      <td>None</td>\n",
       "      <td>None</td>\n",
       "    </tr>\n",
       "  </tbody>\n",
       "</table>\n",
       "</div>"
      ],
      "text/plain": [
       "     id    status chemicalformula         job       subjob projectpath  \\\n",
       "0  7923  finished            None  damask_job  /damask_job        None   \n",
       "\n",
       "                                                    project  \\\n",
       "0  /home/jovyan/dev/pyiron_continuum/notebooks/damask_proj/   \n",
       "\n",
       "                   timestart                   timestop  totalcputime  \\\n",
       "0 2024-04-18 09:15:04.249266 2024-04-18 09:17:43.378586         159.0   \n",
       "\n",
       "                computer hamilton hamversion parentid masterid  \n",
       "0  pyiron@b95581055f92#1   DAMASK        0.4     None     None  "
      ]
     },
     "execution_count": 20,
     "metadata": {},
     "output_type": "execute_result"
    }
   ],
   "source": [
    "pr.job_table()"
   ]
  },
  {
   "cell_type": "markdown",
   "id": "841da73c-cc70-4131-b27c-ed6918c0c8d9",
   "metadata": {},
   "source": [
    "## Post-processing"
   ]
  },
  {
   "cell_type": "code",
   "execution_count": 21,
   "id": "58488412-85a1-468c-a150-75dae0aeb5cf",
   "metadata": {},
   "outputs": [
    {
     "data": {
      "text/plain": [
       "(<Figure size 640x480 with 1 Axes>,\n",
       " <Axes: xlabel='$\\\\varepsilon_z$$_z$', ylabel='$\\\\sigma_z$$_z$(Pa)'>)"
      ]
     },
     "execution_count": 21,
     "metadata": {},
     "output_type": "execute_result"
    },
    {
     "data": {
      "image/png": "[encoded data removed]",
      "text/plain": [
       "<Figure size 640x480 with 1 Axes>"
      ]
     },
     "metadata": {},
     "output_type": "display_data"
    }
   ],
   "source": [
    "job.plot_stress_strain(component='zz')"
   ]
  },
  {
   "cell_type": "code",
   "execution_count": 22,
   "id": "d8a821fb-34f6-4f04-9f40-12b04477b12b",
   "metadata": {},
   "outputs": [
    {
     "data": {
      "text/plain": [
       "(<Figure size 640x480 with 1 Axes>,\n",
       " <Axes: xlabel='$\\\\varepsilon_{vM}$', ylabel='$\\\\sigma_{vM}$ (Pa)'>)"
      ]
     },
     "execution_count": 22,
     "metadata": {},
     "output_type": "execute_result"
    },
    {
     "data": {
      "image/png": "[encoded data removed]",
      "text/plain": [
       "<Figure size 640x480 with 1 Axes>"
      ]
     },
     "metadata": {},
     "output_type": "display_data"
    }
   ],
   "source": [
    "job.plot_stress_strain(von_mises=True)"
   ]
  },
  {
   "cell_type": "code",
   "execution_count": 23,
   "id": "89e9f3aa-d673-4c39-af25-9366edabbb45",
   "metadata": {},
   "outputs": [
    {
     "data": {
      "text/plain": [
       "\u001b[2mCreated by DAMASK_grid v3.0.0-beta\n",
       "        on 2024-04-18 09:15:05+0000\n",
       " executing \"DAMASK_grid -m material.yaml -l loading.yaml -g damask.vti\"\u001b[0m\n",
       "\n",
       "increment_80 (50.0 s)\n",
       "  phase\n",
       "    Aluminum\n",
       "      mechanical\n",
       "        F / 1: deformation gradient\n",
       "        F_e / 1: elastic deformation gradient\n",
       "        F_p / 1: plastic deformation gradient\n",
       "        L_p / 1/s: plastic velocity gradient\n",
       "        O / 1: crystal orientation as quaternion q_0 (q_1 q_2 q_3)\n",
       "        P / Pa: first Piola-Kirchhoff stress\n",
       "        epsilon_V^0.0(F) / 1: Seth-Hill strain tensor of order 0.0 based on left stretch tensor of F (deformation gradient)\n",
       "        epsilon_V^0.0(F)_vM / 1: Mises equivalent strain of epsilon_V^0.0(F) (Seth-Hill strain tensor of order 0.0 based on left stretch tensor of F (deformation gradient))\n",
       "        sigma / Pa: Cauchy stress calculated from P (first Piola-Kirchhoff stress) and F (deformation gradient)\n",
       "        sigma_vM / Pa: Mises equivalent stress of sigma (Cauchy stress calculated from P (first Piola-Kirchhoff stress) and F (deformation gradient))\n",
       "        xi_sl / Pa: resistance against plastic slip\n",
       "  homogenization\n",
       "    SX\n",
       "      mechanical"
      ]
     },
     "execution_count": 23,
     "metadata": {},
     "output_type": "execute_result"
    }
   ],
   "source": [
    "job.output.damask.view(increments=80)"
   ]
  },
  {
   "cell_type": "code",
   "execution_count": 24,
   "id": "3d310ed3-c1c6-4f5a-a236-a923b91ca0e4",
   "metadata": {},
   "outputs": [
    {
     "data": {
      "text/plain": [
       "array([[[-1.82931870e-05,  4.03373194e-07, -2.20768485e-06],\n",
       "        [ 4.03373194e-07, -1.40240419e-05, -7.79412085e-07],\n",
       "        [-2.20768485e-06, -7.79412085e-07, -1.62488592e-05]],\n",
       "\n",
       "       [[ 6.58222607e+07,  6.78748067e+05,  3.66173297e+05],\n",
       "        [ 6.78748067e+05, -3.10055312e+03, -7.10455918e+04],\n",
       "        [ 3.66173297e+05, -7.10455918e+04, -2.87274565e+03]],\n",
       "\n",
       "       [[ 7.45706064e+07,  2.84348488e+06,  2.57836492e+06],\n",
       "        [ 2.84348488e+06,  2.07167689e+03,  6.16685036e+05],\n",
       "        [ 2.57836492e+06,  6.16685036e+05,  1.34639759e+01]],\n",
       "\n",
       "       [[ 7.69354386e+07,  4.93930538e+06,  3.59133722e+06],\n",
       "        [ 4.93930538e+06,  1.49018700e+03,  6.57470260e+05],\n",
       "        [ 3.59133722e+06,  6.57470260e+05, -1.60051911e+03]],\n",
       "\n",
       "       [[ 7.79095963e+07,  6.10733133e+06,  3.99400027e+06],\n",
       "        [ 6.10733133e+06, -3.80823874e+03,  4.86144588e+05],\n",
       "        [ 3.99400027e+06,  4.86144588e+05,  9.26111540e+02]],\n",
       "\n",
       "       [[ 7.83702642e+07,  6.64108653e+06,  4.16845621e+06],\n",
       "        [ 6.64108653e+06,  1.57678507e+03,  3.78692872e+05],\n",
       "        [ 4.16845621e+06,  3.78692872e+05, -5.80100886e+03]],\n",
       "\n",
       "       [[ 7.86604759e+07,  6.88346059e+06,  4.25734886e+06],\n",
       "        [ 6.88346059e+06, -4.10352745e+02,  3.24471533e+05],\n",
       "        [ 4.25734886e+06,  3.24471533e+05, -5.19676791e+03]],\n",
       "\n",
       "       [[ 7.88871541e+07,  7.00404538e+06,  4.30986906e+06],\n",
       "        [ 7.00404538e+06, -7.21533117e+02,  2.96491862e+05],\n",
       "        [ 4.30986906e+06,  2.96491862e+05,  5.41735015e+03]],\n",
       "\n",
       "       [[ 7.90719659e+07,  7.07160585e+06,  4.34433875e+06],\n",
       "        [ 7.07160585e+06, -2.29501015e+03,  2.81592193e+05],\n",
       "        [ 4.34433875e+06,  2.81592193e+05,  2.93078419e+02]],\n",
       "\n",
       "       [[ 7.92425632e+07,  7.11347460e+06,  4.36865447e+06],\n",
       "        [ 7.11347460e+06, -3.15995421e+03,  2.74262113e+05],\n",
       "        [ 4.36865447e+06,  2.74262113e+05, -3.86110404e+02]],\n",
       "\n",
       "       [[ 7.94045948e+07,  7.14308634e+06,  4.38701445e+06],\n",
       "        [ 7.14308634e+06,  1.40828315e+03,  2.72527952e+05],\n",
       "        [ 4.38701445e+06,  2.72527952e+05,  1.96167341e+03]],\n",
       "\n",
       "       [[ 7.99976752e+07,  7.22477350e+06,  4.42681669e+06],\n",
       "        [ 7.22477350e+06,  4.85988284e+03,  2.96120440e+05],\n",
       "        [ 4.42681669e+06,  2.96120440e+05,  3.69544273e+03]],\n",
       "\n",
       "       [[ 8.05589742e+07,  7.30107989e+06,  4.45302893e+06],\n",
       "        [ 7.30107989e+06,  6.12142434e+03,  3.49447200e+05],\n",
       "        [ 4.45302893e+06,  3.49447200e+05,  4.90753465e+03]],\n",
       "\n",
       "       [[ 8.11025250e+07,  7.37962204e+06,  4.47017331e+06],\n",
       "        [ 7.37962204e+06,  5.19144051e+03,  4.16583992e+05],\n",
       "        [ 4.47017331e+06,  4.16583992e+05,  4.16840418e+03]],\n",
       "\n",
       "       [[ 8.16349979e+07,  7.45886284e+06,  4.48043631e+06],\n",
       "        [ 7.45886284e+06,  5.55834898e+03,  4.90854647e+05],\n",
       "        [ 4.48043631e+06,  4.90854647e+05,  4.46652612e+03]],\n",
       "\n",
       "       [[ 8.21583126e+07,  7.53682968e+06,  4.48415610e+06],\n",
       "        [ 7.53682968e+06,  5.59706090e+03,  5.67954184e+05],\n",
       "        [ 4.48415610e+06,  5.67954184e+05,  4.59449474e+03]],\n",
       "\n",
       "       [[ 8.26725345e+07,  7.61237857e+06,  4.48172365e+06],\n",
       "        [ 7.61237857e+06,  5.09831214e+03,  6.45016839e+05],\n",
       "        [ 4.48172365e+06,  6.45016839e+05,  4.21863960e+03]],\n",
       "\n",
       "       [[ 8.31786880e+07,  7.68482504e+06,  4.47401530e+06],\n",
       "        [ 7.68482504e+06,  4.66763234e+03,  7.21054842e+05],\n",
       "        [ 4.47401530e+06,  7.21054842e+05,  3.88443285e+03]],\n",
       "\n",
       "       [[ 8.36773217e+07,  7.75409747e+06,  4.46182250e+06],\n",
       "        [ 7.75409747e+06,  4.27807700e+03,  7.95586101e+05],\n",
       "        [ 4.46182250e+06,  7.95586101e+05,  3.57168967e+03]],\n",
       "\n",
       "       [[ 8.41689142e+07,  7.82051624e+06,  4.44593547e+06],\n",
       "        [ 7.82051624e+06,  3.92335512e+03,  8.68482408e+05],\n",
       "        [ 4.44593547e+06,  8.68482408e+05,  3.27869422e+03]],\n",
       "\n",
       "       [[ 8.46391939e+07,  7.88452984e+06,  4.42736282e+06],\n",
       "        [ 7.88452984e+06, -1.49076493e+04,  9.39743791e+05],\n",
       "        [ 4.42736282e+06,  9.39743791e+05, -1.26677966e+04]],\n",
       "\n",
       "       [[ 8.51176054e+07,  7.94685408e+06,  4.40652470e+06],\n",
       "        [ 7.94685408e+06, -1.53321403e+04,  1.00980829e+06],\n",
       "        [ 4.40652470e+06,  1.00980829e+06, -1.26947952e+04]],\n",
       "\n",
       "       [[ 8.55892904e+07,  8.00773448e+06,  4.38411088e+06],\n",
       "        [ 8.00773448e+06, -1.67522059e+04,  1.07893472e+06],\n",
       "        [ 4.38411088e+06,  1.07893472e+06, -1.39202914e+04]],\n",
       "\n",
       "       [[ 8.60565171e+07,  8.06757849e+06,  4.36033682e+06],\n",
       "        [ 8.06757849e+06, -1.65212390e+04,  1.14700933e+06],\n",
       "        [ 4.36033682e+06,  1.14700933e+06, -1.37573750e+04]],\n",
       "\n",
       "       [[ 8.65180947e+07,  8.12621895e+06,  4.33518565e+06],\n",
       "        [ 8.12621895e+06, -1.62218986e+04,  1.21417039e+06],\n",
       "        [ 4.33518565e+06,  1.21417039e+06, -1.35257650e+04]],\n",
       "\n",
       "       [[ 8.69741099e+07,  8.18353901e+06,  4.30831115e+06],\n",
       "        [ 8.18353901e+06, -1.59456541e+04,  1.28045286e+06],\n",
       "        [ 4.30831115e+06,  1.28045286e+06, -1.33154943e+04]]])"
      ]
     },
     "execution_count": 24,
     "metadata": {},
     "output_type": "execute_result"
    }
   ],
   "source": [
    "job.output.stress"
   ]
  }
 ],
 "metadata": {
  "kernelspec": {
   "display_name": "pyiron",
   "language": "python",
   "name": "pyiron"
  },
  "language_info": {
   "codemirror_mode": {
    "name": "ipython",
    "version": 3
   },
   "file_extension": ".py",
   "mimetype": "text/x-python",
   "name": "python",
   "nbconvert_exporter": "python",
   "pygments_lexer": "ipython3",
   "version": "3.11.8"
  }
 },
 "nbformat": 4,
 "nbformat_minor": 5
}
