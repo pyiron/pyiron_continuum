{
 "cells": [
  {
   "cell_type": "markdown",
   "id": "d0c61026-3a4c-4e5e-9d61-fdfafca74244",
   "metadata": {},
   "source": [
    "# DAMASK tutorial\n",
    "- creating necessary inputs for damask\n",
    "- runing the damask jobs\n",
    "\n",
    "here more option is given to the user to select from damask python package itself."
   ]
  },
  {
   "cell_type": "markdown",
   "id": "ef3b0f8f-f536-445e-b5a5-80127c731dc5",
   "metadata": {},
   "source": [
    "## Importing libraries and creatign Project"
   ]
  },
  {
   "cell_type": "code",
   "execution_count": 1,
   "id": "eb2b9de9-0c2a-48ca-a63e-046abe4f56cf",
   "metadata": {},
   "outputs": [],
   "source": [
    "from pyiron_continuum import Project\n",
    "from damask import Rotation"
   ]
  },
  {
   "cell_type": "code",
   "execution_count": 2,
   "id": "1ce13de4-6314-4150-9939-13668098164c",
   "metadata": {},
   "outputs": [],
   "source": [
    "pr = Project(\"damask_proj\")"
   ]
  },
  {
   "cell_type": "code",
   "execution_count": 3,
   "id": "360189ad-8345-4efa-a5c4-cc381b110a50",
   "metadata": {},
   "outputs": [
    {
     "data": {
      "application/vnd.jupyter.widget-view+json": {
       "model_id": "8d87d0437fa24c3a9507f00673456dc0",
       "version_major": 2,
       "version_minor": 0
      },
      "text/plain": [
       "  0%|          | 0/1 [00:00<?, ?it/s]"
      ]
     },
     "metadata": {},
     "output_type": "display_data"
    }
   ],
   "source": [
    "pr.remove_jobs(silently=True) # remove the old or existing folder"
   ]
  },
  {
   "cell_type": "markdown",
   "id": "f9938eb9-7ab3-4440-84dc-e0c2419984e7",
   "metadata": {},
   "source": [
    "## Creating the Damask job"
   ]
  },
  {
   "cell_type": "code",
   "execution_count": 4,
   "id": "34539f6b-0e53-4f49-a7b2-b42e6cc74f09",
   "metadata": {},
   "outputs": [],
   "source": [
    "job = pr.create.job.DAMASK(\"damask_job\")"
   ]
  },
  {
   "cell_type": "markdown",
   "id": "1dfa818a-b6e3-4abd-8a00-39a3ffd2424c",
   "metadata": {},
   "source": [
    "## Creating the necessary inputs"
   ]
  },
  {
   "cell_type": "code",
   "execution_count": 5,
   "id": "6512f434-10fe-49d8-82da-555001502ea4",
   "metadata": {},
   "outputs": [],
   "source": [
    "grains=8;grids=16 # defines the number of grains and grids"
   ]
  },
  {
   "cell_type": "markdown",
   "id": "af0167a1-2c9d-49c0-8d68-ffa248d00de9",
   "metadata": {},
   "source": [
    "### Homogenization"
   ]
  },
  {
   "cell_type": "code",
   "execution_count": 6,
   "id": "bcf4da2a-6253-4e73-a6d3-5e434b7de1fe",
   "metadata": {},
   "outputs": [],
   "source": [
    "homogenization = pr.create.DAMASK.homogenization(method='SX', \n",
    "                                                 parameters={'N_constituents': 1,\n",
    "                                                             \"mechanical\": {\"type\": \"pass\"}})"
   ]
  },
  {
   "cell_type": "code",
   "execution_count": 7,
   "id": "2a96e114-7cea-49dd-959c-50e63498e47c",
   "metadata": {},
   "outputs": [],
   "source": [
    "homogenization = pr.continuum.damask.Homogenization(method='SX', \n",
    "                                                     parameters={'N_constituents': 1,\n",
    "                                                                 \"mechanical\": {\"type\": \"pass\"}})"
   ]
  },
  {
   "cell_type": "markdown",
   "id": "b1af7a42-951f-4d0f-bb56-5d6ea18b92e5",
   "metadata": {},
   "source": [
    "### Elasticity"
   ]
  },
  {
   "cell_type": "code",
   "execution_count": 8,
   "id": "8e8a1801-467a-4260-b14e-433265f08fa9",
   "metadata": {},
   "outputs": [],
   "source": [
    "elasticity = pr.continuum.damask.Elasticity(type= 'Hooke', C_11= 106.75e9,\n",
    "                                   C_12= 60.41e9, C_44=28.34e9)"
   ]
  },
  {
   "cell_type": "markdown",
   "id": "71b5659e-ade4-4bfb-a80c-79d77f3366bf",
   "metadata": {},
   "source": [
    "### Plasticity"
   ]
  },
  {
   "cell_type": "code",
   "execution_count": 9,
   "id": "24b6b8a1-7e0a-4836-b230-e29fbfbc370f",
   "metadata": {},
   "outputs": [],
   "source": [
    "plasticity = pr.continuum.damask.Plasticity(type='phenopowerlaw',\n",
    "                                            N_sl=[12],a_sl=[2.25],\n",
    "                                            atol_xi=1.0,dot_gamma_0_sl=[0.001],\n",
    "                                            h_0_sl_sl=[75.0e6],\n",
    "                                            h_sl_sl=[1, 1, 1.4, 1.4, 1.4, 1.4, 1.4],\n",
    "                                            n_sl=[20],\n",
    "                                            output=['xi_sl'],\n",
    "                                            xi_0_sl=[31.0e6],\n",
    "                                            xi_inf_sl=[63.0e6]\n",
    "                                           )  "
   ]
  },
  {
   "cell_type": "markdown",
   "id": "c4599715-e2e7-43aa-ab86-c0a26fe862a7",
   "metadata": {},
   "source": [
    "### Phase"
   ]
  },
  {
   "cell_type": "code",
   "execution_count": 10,
   "id": "7d018837-f07e-4f01-8436-683e12257489",
   "metadata": {},
   "outputs": [],
   "source": [
    "phase = pr.continuum.damask.Phase(composition='Aluminum', lattice= 'cF',\n",
    "                         output_list=['F', 'P', 'F_e', 'F_p', 'L_p', 'O'],\n",
    "                         elasticity=elasticity, plasticity=plasticity)"
   ]
  },
  {
   "cell_type": "markdown",
   "id": "ce4d182d-85ee-40f1-946e-eaa1005a7e03",
   "metadata": {},
   "source": [
    "### Rotation"
   ]
  },
  {
   "cell_type": "code",
   "execution_count": 11,
   "id": "d93eda97-b7ce-4572-8ce3-b8d34672e274",
   "metadata": {},
   "outputs": [],
   "source": [
    "rotation = pr.continuum.damask.Rotation(Rotation.from_random, grains)"
   ]
  },
  {
   "cell_type": "markdown",
   "id": "e39e9e82-c289-4322-ba9e-f03c3580e03e",
   "metadata": {},
   "source": [
    "### Material"
   ]
  },
  {
   "cell_type": "code",
   "execution_count": 12,
   "id": "dfb6237e-1dbf-47ba-9f50-e580456e9760",
   "metadata": {},
   "outputs": [],
   "source": [
    "material = pr.continuum.damask.Material([rotation],['Aluminum'], phase, homogenization)"
   ]
  },
  {
   "cell_type": "code",
   "execution_count": 13,
   "id": "d633c7d0-c47f-4d2d-aaa4-22c9d980d136",
   "metadata": {},
   "outputs": [],
   "source": [
    "job.material = material"
   ]
  },
  {
   "cell_type": "markdown",
   "id": "583ae5d3-d057-41b7-ad15-249564316cec",
   "metadata": {},
   "source": [
    "### Grid"
   ]
  },
  {
   "cell_type": "code",
   "execution_count": 14,
   "id": "f2cde993-9ccc-4c04-9fa0-0e7ad1832483",
   "metadata": {},
   "outputs": [],
   "source": [
    "grid = pr.continuum.damask.Grid.via_voronoi_tessellation(spatial_discretization=grids, num_grains=grains, box_size=1.0e-5)"
   ]
  },
  {
   "cell_type": "code",
   "execution_count": 15,
   "id": "4642dc1d-2b9b-4ccc-bf2b-e66054ec11eb",
   "metadata": {},
   "outputs": [],
   "source": [
    "job.grid = grid"
   ]
  },
  {
   "cell_type": "markdown",
   "id": "0f2fda22-7d5c-42bb-9aba-f1aebe58279d",
   "metadata": {},
   "source": [
    "### Loading"
   ]
  },
  {
   "cell_type": "code",
   "execution_count": 16,
   "id": "48fa531a-5785-41b1-91f2-49aafdc296da",
   "metadata": {},
   "outputs": [],
   "source": [
    "load_step =[{'mech_bc_dict':{'dot_F':[1e-3,0,0, 0,'x',0,  0,0,'x'],\n",
    "                            'P':['x','x','x', 'x',0,'x',  'x','x',0]},\n",
    "            'discretization':{'t': 10.,'N': 40},\n",
    "            'additional': {'f_out': 4}\n",
    "           },{'mech_bc_dict':{'dot_F':[1e-3,0,0, 0,'x',0,  0,0,'x'],\n",
    "                              'P':['x','x','x', 'x',0,'x',  'x','x',0]},\n",
    "            'discretization':{'t': 60.,'N': 60},\n",
    "            'additional': {'f_out': 4}\n",
    "           }]"
   ]
  },
  {
   "cell_type": "code",
   "execution_count": 17,
   "id": "47aba5c8-9371-459d-979b-8ae3c012b981",
   "metadata": {},
   "outputs": [],
   "source": [
    "solver = job.list_solvers()[0]"
   ]
  },
  {
   "cell_type": "code",
   "execution_count": 18,
   "id": "664ddbd9-a2c8-423e-a1ef-7fb3e1cb5d40",
   "metadata": {},
   "outputs": [],
   "source": [
    "job.loading = pr.continuum.damask.Loading(solver=solver, load_steps=load_step)"
   ]
  },
  {
   "cell_type": "markdown",
   "id": "2bfb7e7f-659e-493e-8696-42e2073912fa",
   "metadata": {},
   "source": [
    "## Runing the job"
   ]
  },
  {
   "cell_type": "code",
   "execution_count": 19,
   "id": "03f5d0df-92b0-4fed-b9fa-996bff478bc1",
   "metadata": {},
   "outputs": [
    {
     "name": "stdout",
     "output_type": "stream",
     "text": [
      "The job damask_job was saved and received the ID: 10\n"
     ]
    },
    {
     "name": "stderr",
     "output_type": "stream",
     "text": [
      " ██████████████████████████████████████████████████ 100% ETA 0:00:00\n",
      " ██████████████████████████████████████████████████ 100% ETA 0:00:00\n",
      " ██████████████████████████████████████████████████ 100% ETA 0:00:00\n",
      " ██████████████████████████████████████████████████ 100% ETA 0:00:00\n",
      " ██████████████████████████████████████████████████ 100% ETA 0:00:00\n",
      " ██████████████████████████████████████████████████ 100% ETA 0:00:00\n",
      " ██████████████████████████████████████████████████ 100% ETA 0:00:00\n",
      " ██████████████████████████████████████████████████ 100% ETA 0:00:00\n",
      " ██████████████████████████████████████████████████ 100% ETA 0:00:00\n",
      " ██████████████████████████████████████████████████ 100% ETA 0:00:00\n",
      " ██████████████████████████████████████████████████ 100% ETA 0:00:00\n",
      " ██████████████████████████████████████████████████ 100% ETA 0:00:00\n"
     ]
    }
   ],
   "source": [
    "job.run()"
   ]
  },
  {
   "cell_type": "code",
   "execution_count": 20,
   "id": "b40ba0b4-12bb-4fa6-9e58-934afbc2781a",
   "metadata": {},
   "outputs": [
    {
     "data": {
      "text/html": [
       "<div>\n",
       "<style scoped>\n",
       "    .dataframe tbody tr th:only-of-type {\n",
       "        vertical-align: middle;\n",
       "    }\n",
       "\n",
       "    .dataframe tbody tr th {\n",
       "        vertical-align: top;\n",
       "    }\n",
       "\n",
       "    .dataframe thead th {\n",
       "        text-align: right;\n",
       "    }\n",
       "</style>\n",
       "<table border=\"1\" class=\"dataframe\">\n",
       "  <thead>\n",
       "    <tr style=\"text-align: right;\">\n",
       "      <th></th>\n",
       "      <th>id</th>\n",
       "      <th>status</th>\n",
       "      <th>chemicalformula</th>\n",
       "      <th>job</th>\n",
       "      <th>subjob</th>\n",
       "      <th>projectpath</th>\n",
       "      <th>project</th>\n",
       "      <th>timestart</th>\n",
       "      <th>timestop</th>\n",
       "      <th>totalcputime</th>\n",
       "      <th>computer</th>\n",
       "      <th>hamilton</th>\n",
       "      <th>hamversion</th>\n",
       "      <th>parentid</th>\n",
       "      <th>masterid</th>\n",
       "    </tr>\n",
       "  </thead>\n",
       "  <tbody>\n",
       "    <tr>\n",
       "      <th>0</th>\n",
       "      <td>10</td>\n",
       "      <td>finished</td>\n",
       "      <td>None</td>\n",
       "      <td>damask_job</td>\n",
       "      <td>/damask_job</td>\n",
       "      <td>None</td>\n",
       "      <td>/home/ybai/Projects/GitHub/pyiron_continuum/notebooks/damask_proj/</td>\n",
       "      <td>2024-01-16 10:16:29.997185</td>\n",
       "      <td>2024-01-16 10:17:23.511850</td>\n",
       "      <td>53.0</td>\n",
       "      <td>pyiron@MAPC162L#1</td>\n",
       "      <td>DAMASK</td>\n",
       "      <td>0.4</td>\n",
       "      <td>None</td>\n",
       "      <td>None</td>\n",
       "    </tr>\n",
       "  </tbody>\n",
       "</table>\n",
       "</div>"
      ],
      "text/plain": [
       "   id    status chemicalformula         job       subjob projectpath  \\\n",
       "0  10  finished            None  damask_job  /damask_job        None   \n",
       "\n",
       "                                                              project  \\\n",
       "0  /home/ybai/Projects/GitHub/pyiron_continuum/notebooks/damask_proj/   \n",
       "\n",
       "                   timestart                   timestop  totalcputime  \\\n",
       "0 2024-01-16 10:16:29.997185 2024-01-16 10:17:23.511850          53.0   \n",
       "\n",
       "            computer hamilton hamversion parentid masterid  \n",
       "0  pyiron@MAPC162L#1   DAMASK        0.4     None     None  "
      ]
     },
     "execution_count": 20,
     "metadata": {},
     "output_type": "execute_result"
    }
   ],
   "source": [
    "pr.job_table()"
   ]
  },
  {
   "cell_type": "markdown",
   "id": "841da73c-cc70-4131-b27c-ed6918c0c8d9",
   "metadata": {},
   "source": [
    "## Post-processing"
   ]
  },
  {
   "cell_type": "code",
   "execution_count": 21,
   "id": "58488412-85a1-468c-a150-75dae0aeb5cf",
   "metadata": {},
   "outputs": [
    {
     "data": {
      "text/plain": [
       "(<Figure size 640x480 with 1 Axes>,\n",
       " <Axes: xlabel='$\\\\varepsilon_z$$_z$', ylabel='$\\\\sigma_z$$_z$(Pa)'>)"
      ]
     },
     "execution_count": 21,
     "metadata": {},
     "output_type": "execute_result"
    },
    {
     "data": {
      "image/png": "[encoded data removed]",
      "text/plain": [
       "<Figure size 640x480 with 1 Axes>"
      ]
     },
     "metadata": {},
     "output_type": "display_data"
    }
   ],
   "source": [
    "job.plot_stress_strain(component='zz')"
   ]
  },
  {
   "cell_type": "code",
   "execution_count": 22,
   "id": "d8a821fb-34f6-4f04-9f40-12b04477b12b",
   "metadata": {},
   "outputs": [
    {
     "data": {
      "text/plain": [
       "(<Figure size 640x480 with 1 Axes>,\n",
       " <Axes: xlabel='$\\\\varepsilon_{vM}$', ylabel='$\\\\sigma_{vM}$ (Pa)'>)"
      ]
     },
     "execution_count": 22,
     "metadata": {},
     "output_type": "execute_result"
    },
    {
     "data": {
      "image/png": "[encoded data removed]",
      "text/plain": [
       "<Figure size 640x480 with 1 Axes>"
      ]
     },
     "metadata": {},
     "output_type": "display_data"
    }
   ],
   "source": [
    "job.plot_stress_strain(von_mises=True)"
   ]
  },
  {
   "cell_type": "code",
   "execution_count": 23,
   "id": "89e9f3aa-d673-4c39-af25-9366edabbb45",
   "metadata": {},
   "outputs": [
    {
     "data": {
      "text/plain": [
       "\u001b[2mCreated by DAMASK_grid v3.0.0-alpha8\n",
       "        on 2024-01-16 10:16:31+0100\n",
       " executing \"DAMASK_grid -l loading.yaml -g damask.vti -m material.yaml\"\u001b[0m\n",
       "\n",
       "increment_80 (50.0 s)\n",
       "  phase\n",
       "    Aluminum\n",
       "      mechanical\n",
       "        F / 1: deformation gradient\n",
       "        F_e / 1: elastic deformation gradient\n",
       "        F_p / 1: plastic deformation gradient\n",
       "        L_p / 1/s: plastic velocity gradient\n",
       "        O / 1: crystal orientation as quaternion q_0 (q_1 q_2 q_3)\n",
       "        P / Pa: first Piola-Kirchhoff stress\n",
       "        epsilon_V^0.0(F) / 1: Seth-Hill strain tensor of order 0.0 based on left stretch tensor of F (deformation gradient)\n",
       "        epsilon_V^0.0(F)_vM / 1: Mises equivalent strain of epsilon_V^0.0(F) (Seth-Hill strain tensor of order 0.0 based on left stretch tensor of F (deformation gradient))\n",
       "        sigma / Pa: Cauchy stress calculated from P (first Piola-Kirchhoff stress) and F (deformation gradient)\n",
       "        sigma_vM / Pa: Mises equivalent stress of sigma (Cauchy stress calculated from P (first Piola-Kirchhoff stress) and F (deformation gradient))\n",
       "        xi_sl / Pa: resistance against plastic slip\n",
       "  homogenization\n",
       "    SX\n",
       "      mechanical"
      ]
     },
     "execution_count": 23,
     "metadata": {},
     "output_type": "execute_result"
    }
   ],
   "source": [
    "job.output.damask.view(increments=80)"
   ]
  },
  {
   "cell_type": "code",
   "execution_count": 24,
   "id": "3d310ed3-c1c6-4f5a-a236-a923b91ca0e4",
   "metadata": {},
   "outputs": [
    {
     "data": {
      "text/plain": [
       "array([[[ 8.34806519e-06,  3.95697978e-06, -3.34574221e-06],\n",
       "        [ 3.95697978e-06,  1.59723348e-05, -4.38864553e-06],\n",
       "        [-3.34574221e-06, -4.38864553e-06,  1.39569683e-05]],\n",
       "\n",
       "       [[ 6.58986152e+07, -4.42783420e+05, -5.35313928e+04],\n",
       "        [-4.42783420e+05, -5.81627091e+03,  5.95605326e+05],\n",
       "        [-5.35313928e+04,  5.95605326e+05, -4.12769075e+03]],\n",
       "\n",
       "       [[ 7.58144790e+07, -1.98317547e+06,  3.92217407e+05],\n",
       "        [-1.98317547e+06,  3.17529143e+02,  3.02267242e+06],\n",
       "        [ 3.92217407e+05,  3.02267242e+06,  3.64299012e+03]],\n",
       "\n",
       "       [[ 7.80559477e+07, -2.63389288e+06,  6.57664706e+05],\n",
       "        [-2.63389288e+06, -4.32161576e+03,  4.32237200e+06],\n",
       "        [ 6.57664706e+05,  4.32237200e+06, -3.22872378e+03]],\n",
       "\n",
       "       [[ 7.89506367e+07, -2.86932040e+06,  6.92843180e+05],\n",
       "        [-2.86932040e+06,  1.17882096e+03,  4.91778547e+06],\n",
       "        [ 6.92843180e+05,  4.91778547e+06, -3.76042068e+03]],\n",
       "\n",
       "       [[ 7.94028109e+07, -2.99382704e+06,  6.55460785e+05],\n",
       "        [-2.99382704e+06, -4.97263251e+03,  5.20863652e+06],\n",
       "        [ 6.55460785e+05,  5.20863652e+06,  1.11178670e+03]],\n",
       "\n",
       "       [[ 7.97004721e+07, -3.07367049e+06,  6.04949027e+05],\n",
       "        [-3.07367049e+06, -4.61798872e+03,  5.36540474e+06],\n",
       "        [ 6.04949027e+05,  5.36540474e+06, -1.40950267e+02]],\n",
       "\n",
       "       [[ 7.99305266e+07, -3.12859115e+06,  5.57104119e+05],\n",
       "        [-3.12859115e+06, -4.93997769e+03,  5.45777700e+06],\n",
       "        [ 5.57104119e+05,  5.45777700e+06, -1.93055681e+03]],\n",
       "\n",
       "       [[ 8.01266845e+07, -3.16804521e+06,  5.14642244e+05],\n",
       "        [-3.16804521e+06, -5.01392107e+03,  5.51521906e+06],\n",
       "        [ 5.14642244e+05,  5.51521906e+06, -3.87740049e+03]],\n",
       "\n",
       "       [[ 8.03112000e+07, -3.19728402e+06,  4.80289585e+05],\n",
       "        [-3.19728402e+06,  3.82457460e+03,  5.55164408e+06],\n",
       "        [ 4.80289585e+05,  5.55164408e+06,  1.52010995e+03]],\n",
       "\n",
       "       [[ 8.04781765e+07, -3.21932278e+06,  4.54114045e+05],\n",
       "        [-3.21932278e+06,  3.86842347e+03,  5.57605787e+06],\n",
       "        [ 4.54114045e+05,  5.57605787e+06,  4.72569266e+03]],\n",
       "\n",
       "       [[ 8.11007888e+07, -3.26927679e+06,  4.15156473e+05],\n",
       "        [-3.26927679e+06,  4.99186378e+03,  5.62586382e+06],\n",
       "        [ 4.15156473e+05,  5.62586382e+06,  6.98374702e+03]],\n",
       "\n",
       "       [[ 8.16897723e+07, -3.29372418e+06,  4.30926326e+05],\n",
       "        [-3.29372418e+06,  5.97425020e+03,  5.65485682e+06],\n",
       "        [ 4.30926326e+05,  5.65485682e+06,  8.33216033e+03]],\n",
       "\n",
       "       [[ 8.22586097e+07, -3.30869405e+06,  4.70668785e+05],\n",
       "        [-3.30869405e+06,  5.31869434e+03,  5.67889029e+06],\n",
       "        [ 4.70668785e+05,  5.67889029e+06,  7.38213833e+03]],\n",
       "\n",
       "       [[ 8.28137529e+07, -3.31970910e+06,  5.21209673e+05],\n",
       "        [-3.31970910e+06,  4.83468628e+03,  5.70177516e+06],\n",
       "        [ 5.21209673e+05,  5.70177516e+06,  6.74575391e+03]],\n",
       "\n",
       "       [[ 8.33570966e+07, -3.32882541e+06,  5.76404024e+05],\n",
       "        [-3.32882541e+06,  4.45019266e+03,  5.72454309e+06],\n",
       "        [ 5.76404024e+05,  5.72454309e+06,  6.23290044e+03]],\n",
       "\n",
       "       [[ 8.38897515e+07, -3.33654069e+06,  6.33256619e+05],\n",
       "        [-3.33654069e+06,  4.12905543e+03,  5.74743389e+06],\n",
       "        [ 6.33256619e+05,  5.74743389e+06,  5.78739158e+03]],\n",
       "\n",
       "       [[ 8.44124064e+07, -3.34261337e+06,  6.89935827e+05],\n",
       "        [-3.34261337e+06,  3.84305216e+03,  5.77042167e+06],\n",
       "        [ 6.89935827e+05,  5.77042167e+06,  5.39379690e+03]],\n",
       "\n",
       "       [[ 8.49115688e+07, -3.34670131e+06,  7.45081849e+05],\n",
       "        [-3.34670131e+06, -1.03607349e+04,  5.79344897e+06],\n",
       "        [ 7.45081849e+05,  5.79344897e+06, -1.37573866e+04]],\n",
       "\n",
       "       [[ 8.54287399e+07, -3.34851056e+06,  7.99205503e+05],\n",
       "        [-3.34851056e+06,  3.05275965e+03,  5.81576465e+06],\n",
       "        [ 7.99205503e+05,  5.81576465e+06,  5.07849598e+03]],\n",
       "\n",
       "       [[ 8.59242025e+07, -3.34872570e+06,  8.51330398e+05],\n",
       "        [-3.34872570e+06,  3.19745911e+03,  5.83769390e+06],\n",
       "        [ 8.51330398e+05,  5.83769390e+06,  5.12378383e+03]],\n",
       "\n",
       "       [[ 8.64110592e+07, -3.34764483e+06,  9.01301605e+05],\n",
       "        [-3.34764483e+06,  2.96938625e+03,  5.85920321e+06],\n",
       "        [ 9.01301605e+05,  5.85920321e+06,  4.78471269e+03]],\n",
       "\n",
       "       [[ 8.68897819e+07, -3.34541312e+06,  9.48853819e+05],\n",
       "        [-3.34541312e+06,  2.75154515e+03,  5.88033223e+06],\n",
       "        [ 9.48853819e+05,  5.88033223e+06,  4.46791389e+03]],\n",
       "\n",
       "       [[ 8.73606696e+07, -3.34207429e+06,  9.93793065e+05],\n",
       "        [-3.34207429e+06,  2.54220235e+03,  5.90107473e+06],\n",
       "        [ 9.93793065e+05,  5.90107473e+06,  4.17148458e+03]],\n",
       "\n",
       "       [[ 8.78240008e+07, -3.33754529e+06,  1.03597814e+06],\n",
       "        [-3.33754529e+06,  2.33302036e+03,  5.92136982e+06],\n",
       "        [ 1.03597814e+06,  5.92136982e+06,  3.87826969e+03]],\n",
       "\n",
       "       [[ 8.82800570e+07, -3.33171832e+06,  1.07543764e+06],\n",
       "        [-3.33171832e+06,  2.11741505e+03,  5.94106854e+06],\n",
       "        [ 1.07543764e+06,  5.94106854e+06,  3.57372440e+03]]])"
      ]
     },
     "execution_count": 24,
     "metadata": {},
     "output_type": "execute_result"
    }
   ],
   "source": [
    "job.output.stress"
   ]
  }
 ],
 "metadata": {
  "kernelspec": {
   "display_name": "Python 3 (ipykernel)",
   "language": "python",
   "name": "python3"
  },
  "language_info": {
   "codemirror_mode": {
    "name": "ipython",
    "version": 3
   },
   "file_extension": ".py",
   "mimetype": "text/x-python",
   "name": "python",
   "nbconvert_exporter": "python",
   "pygments_lexer": "ipython3",
   "version": "3.11.6"
  }
 },
 "nbformat": 4,
 "nbformat_minor": 5
}
