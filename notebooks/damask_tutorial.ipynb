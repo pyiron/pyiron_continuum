{
 "cells": [
  {
   "cell_type": "markdown",
   "id": "d0c61026-3a4c-4e5e-9d61-fdfafca74244",
   "metadata": {},
   "source": [
    "# DAMASK tutorial\n",
    "- creating necessary inputs for damask\n",
    "- runing the damask jobs\n",
    "\n",
    "here more option is given to the user to select from damask python package itself."
   ]
  },
  {
   "cell_type": "markdown",
   "id": "ef3b0f8f-f536-445e-b5a5-80127c731dc5",
   "metadata": {},
   "source": [
    "## Importing libraries and creatign Project"
   ]
  },
  {
   "cell_type": "code",
   "execution_count": 1,
   "id": "eb2b9de9-0c2a-48ca-a63e-046abe4f56cf",
   "metadata": {},
   "outputs": [],
   "source": [
    "from pyiron_continuum import Project\n",
    "%matplotlib inline"
   ]
  },
  {
   "cell_type": "code",
   "execution_count": 2,
   "id": "1ce13de4-6314-4150-9939-13668098164c",
   "metadata": {},
   "outputs": [],
   "source": [
    "pr = Project(\"damask_proj\")"
   ]
  },
  {
   "cell_type": "code",
   "execution_count": 3,
   "id": "360189ad-8345-4efa-a5c4-cc381b110a50",
   "metadata": {},
   "outputs": [
    {
     "data": {
      "application/vnd.jupyter.widget-view+json": {
       "model_id": "50fad662f24b4491acabe256d32cbec1",
       "version_major": 2,
       "version_minor": 0
      },
      "text/plain": [
       "  0%|          | 0/1 [00:00<?, ?it/s]"
      ]
     },
     "metadata": {},
     "output_type": "display_data"
    }
   ],
   "source": [
    "pr.remove_jobs(silently=True) # remove the old or existing folder"
   ]
  },
  {
   "cell_type": "markdown",
   "id": "f9938eb9-7ab3-4440-84dc-e0c2419984e7",
   "metadata": {},
   "source": [
    "## Creating the Damask job"
   ]
  },
  {
   "cell_type": "code",
   "execution_count": 4,
   "id": "34539f6b-0e53-4f49-a7b2-b42e6cc74f09",
   "metadata": {},
   "outputs": [],
   "source": [
    "job = pr.create.job.DAMASK(\"damask_job\")"
   ]
  },
  {
   "cell_type": "markdown",
   "id": "1dfa818a-b6e3-4abd-8a00-39a3ffd2424c",
   "metadata": {},
   "source": [
    "## Creating the necessary inputs"
   ]
  },
  {
   "cell_type": "code",
   "execution_count": 5,
   "id": "6512f434-10fe-49d8-82da-555001502ea4",
   "metadata": {},
   "outputs": [],
   "source": [
    "grains=8;grids=16 # defines the number of grains and grids"
   ]
  },
  {
   "cell_type": "markdown",
   "id": "af0167a1-2c9d-49c0-8d68-ffa248d00de9",
   "metadata": {},
   "source": [
    "### Homogenization"
   ]
  },
  {
   "cell_type": "code",
   "execution_count": 6,
   "id": "bcf4da2a-6253-4e73-a6d3-5e434b7de1fe",
   "metadata": {},
   "outputs": [
    {
     "name": "stderr",
     "output_type": "stream",
     "text": [
      "/home/jovyan/dev/pyiron_continuum/pyiron_continuum/project.py:87: UserWarning: Setting homogenization via project creator is deprecated. Use job.set_homogenization instead\n",
      "  warnings.warn(\n"
     ]
    }
   ],
   "source": [
    "homogenization = pr.create.DAMASK.homogenization(method='SX', \n",
    "                                                 parameters={'N_constituents': 1,\n",
    "                                                             \"mechanical\": {\"type\": \"pass\"}})"
   ]
  },
  {
   "cell_type": "code",
   "execution_count": 7,
   "id": "2a96e114-7cea-49dd-959c-50e63498e47c",
   "metadata": {},
   "outputs": [],
   "source": [
    "homogenization = pr.continuum.damask.Homogenization(method='SX', \n",
    "                                                     parameters={'N_constituents': 1,\n",
    "                                                                 \"mechanical\": {\"type\": \"pass\"}})"
   ]
  },
  {
   "cell_type": "markdown",
   "id": "b1af7a42-951f-4d0f-bb56-5d6ea18b92e5",
   "metadata": {},
   "source": [
    "### Elasticity"
   ]
  },
  {
   "cell_type": "code",
   "execution_count": 8,
   "id": "8e8a1801-467a-4260-b14e-433265f08fa9",
   "metadata": {},
   "outputs": [],
   "source": [
    "elasticity = pr.continuum.damask.Elasticity(type= 'Hooke', C_11= 106.75e9,\n",
    "                                   C_12= 60.41e9, C_44=28.34e9)"
   ]
  },
  {
   "cell_type": "markdown",
   "id": "71b5659e-ade4-4bfb-a80c-79d77f3366bf",
   "metadata": {},
   "source": [
    "### Plasticity"
   ]
  },
  {
   "cell_type": "code",
   "execution_count": 9,
   "id": "24b6b8a1-7e0a-4836-b230-e29fbfbc370f",
   "metadata": {},
   "outputs": [],
   "source": [
    "plasticity = pr.continuum.damask.Plasticity(type='phenopowerlaw',\n",
    "                                            N_sl=[12],a_sl=[2.25],\n",
    "                                            atol_xi=1.0,dot_gamma_0_sl=[0.001],\n",
    "                                            h_0_sl_sl=[75.0e6],\n",
    "                                            h_sl_sl=[1, 1, 1.4, 1.4, 1.4, 1.4, 1.4],\n",
    "                                            n_sl=[20],\n",
    "                                            output=['xi_sl'],\n",
    "                                            xi_0_sl=[31.0e6],\n",
    "                                            xi_inf_sl=[63.0e6]\n",
    "                                           )  "
   ]
  },
  {
   "cell_type": "markdown",
   "id": "c4599715-e2e7-43aa-ab86-c0a26fe862a7",
   "metadata": {},
   "source": [
    "### Phase"
   ]
  },
  {
   "cell_type": "code",
   "execution_count": 10,
   "id": "7d018837-f07e-4f01-8436-683e12257489",
   "metadata": {},
   "outputs": [],
   "source": [
    "phase = pr.continuum.damask.Phase(composition='Aluminum', lattice= 'cF',\n",
    "                         output_list=['F', 'P', 'F_e', 'F_p', 'L_p', 'O'],\n",
    "                         elasticity=elasticity, plasticity=plasticity)"
   ]
  },
  {
   "cell_type": "markdown",
   "id": "ce4d182d-85ee-40f1-946e-eaa1005a7e03",
   "metadata": {},
   "source": [
    "### Rotation"
   ]
  },
  {
   "cell_type": "code",
   "execution_count": 11,
   "id": "d93eda97-b7ce-4572-8ce3-b8d34672e274",
   "metadata": {},
   "outputs": [],
   "source": [
    "rotation = pr.continuum.damask.Rotation(shape=grains)"
   ]
  },
  {
   "cell_type": "markdown",
   "id": "e39e9e82-c289-4322-ba9e-f03c3580e03e",
   "metadata": {},
   "source": [
    "### Material"
   ]
  },
  {
   "cell_type": "code",
   "execution_count": 12,
   "id": "dfb6237e-1dbf-47ba-9f50-e580456e9760",
   "metadata": {},
   "outputs": [],
   "source": [
    "material = pr.continuum.damask.Material([rotation],['Aluminum'], phase, homogenization)"
   ]
  },
  {
   "cell_type": "code",
   "execution_count": 13,
   "id": "d633c7d0-c47f-4d2d-aaa4-22c9d980d136",
   "metadata": {},
   "outputs": [
    {
     "name": "stderr",
     "output_type": "stream",
     "text": [
      "/home/jovyan/dev/pyiron_continuum/pyiron_continuum/damask/damaskjob.py:174: UserWarning: Setting material via project creator is deprecated. Use job.set_material instead\n",
      "  warnings.warn(\n"
     ]
    }
   ],
   "source": [
    "job.material = material"
   ]
  },
  {
   "cell_type": "markdown",
   "id": "583ae5d3-d057-41b7-ad15-249564316cec",
   "metadata": {},
   "source": [
    "### Grid"
   ]
  },
  {
   "cell_type": "code",
   "execution_count": 14,
   "id": "f2cde993-9ccc-4c04-9fa0-0e7ad1832483",
   "metadata": {},
   "outputs": [],
   "source": [
    "grid = pr.continuum.damask.Grid.via_voronoi_tessellation(box_size=1.0e-5, spatial_discretization=grids, num_grains=grains)"
   ]
  },
  {
   "cell_type": "code",
   "execution_count": 15,
   "id": "4642dc1d-2b9b-4ccc-bf2b-e66054ec11eb",
   "metadata": {},
   "outputs": [
    {
     "name": "stderr",
     "output_type": "stream",
     "text": [
      "/home/jovyan/dev/pyiron_continuum/pyiron_continuum/damask/damaskjob.py:222: UserWarning: Setting grid via project creator is deprecated. Use job.set_grid instead\n",
      "  warnings.warn(\n"
     ]
    }
   ],
   "source": [
    "job.grid = grid"
   ]
  },
  {
   "cell_type": "markdown",
   "id": "0f2fda22-7d5c-42bb-9aba-f1aebe58279d",
   "metadata": {},
   "source": [
    "### Loading"
   ]
  },
  {
   "cell_type": "code",
   "execution_count": 16,
   "id": "48fa531a-5785-41b1-91f2-49aafdc296da",
   "metadata": {},
   "outputs": [],
   "source": [
    "load_step =[{'mech_bc_dict':{'dot_F':[1e-3,0,0, 0,'x',0,  0,0,'x'],\n",
    "                            'P':['x','x','x', 'x',0,'x',  'x','x',0]},\n",
    "            'discretization':{'t': 10.,'N': 40},\n",
    "            'additional': {'f_out': 4}\n",
    "           },{'mech_bc_dict':{'dot_F':[1e-3,0,0, 0,'x',0,  0,0,'x'],\n",
    "                              'P':['x','x','x', 'x',0,'x',  'x','x',0]},\n",
    "            'discretization':{'t': 60.,'N': 60},\n",
    "            'additional': {'f_out': 4}\n",
    "           }]"
   ]
  },
  {
   "cell_type": "code",
   "execution_count": 17,
   "id": "47aba5c8-9371-459d-979b-8ae3c012b981",
   "metadata": {},
   "outputs": [],
   "source": [
    "solver = job.list_solvers()[0]"
   ]
  },
  {
   "cell_type": "code",
   "execution_count": 18,
   "id": "664ddbd9-a2c8-423e-a1ef-7fb3e1cb5d40",
   "metadata": {},
   "outputs": [
    {
     "name": "stderr",
     "output_type": "stream",
     "text": [
      "/home/jovyan/dev/pyiron_continuum/pyiron_continuum/damask/damaskjob.py:233: UserWarning: Setting loading via project creator is deprecated. Use job.set_loading instead\n",
      "  warnings.warn(\n"
     ]
    }
   ],
   "source": [
    "job.loading = pr.continuum.damask.Loading(solver=solver, load_steps=load_step)"
   ]
  },
  {
   "cell_type": "markdown",
   "id": "2bfb7e7f-659e-493e-8696-42e2073912fa",
   "metadata": {},
   "source": [
    "## Runing the job"
   ]
  },
  {
   "cell_type": "code",
   "execution_count": 19,
   "id": "03f5d0df-92b0-4fed-b9fa-996bff478bc1",
   "metadata": {},
   "outputs": [
    {
     "name": "stdout",
     "output_type": "stream",
     "text": [
      "The job damask_job was saved and received the ID: 7934\n"
     ]
    }
   ],
   "source": [
    "job.run()"
   ]
  },
  {
   "cell_type": "code",
   "execution_count": 20,
   "id": "b40ba0b4-12bb-4fa6-9e58-934afbc2781a",
   "metadata": {},
   "outputs": [
    {
     "data": {
      "text/html": [
       "<div>\n",
       "<style scoped>\n",
       "    .dataframe tbody tr th:only-of-type {\n",
       "        vertical-align: middle;\n",
       "    }\n",
       "\n",
       "    .dataframe tbody tr th {\n",
       "        vertical-align: top;\n",
       "    }\n",
       "\n",
       "    .dataframe thead th {\n",
       "        text-align: right;\n",
       "    }\n",
       "</style>\n",
       "<table border=\"1\" class=\"dataframe\">\n",
       "  <thead>\n",
       "    <tr style=\"text-align: right;\">\n",
       "      <th></th>\n",
       "      <th>id</th>\n",
       "      <th>status</th>\n",
       "      <th>chemicalformula</th>\n",
       "      <th>job</th>\n",
       "      <th>subjob</th>\n",
       "      <th>projectpath</th>\n",
       "      <th>project</th>\n",
       "      <th>timestart</th>\n",
       "      <th>timestop</th>\n",
       "      <th>totalcputime</th>\n",
       "      <th>computer</th>\n",
       "      <th>hamilton</th>\n",
       "      <th>hamversion</th>\n",
       "      <th>parentid</th>\n",
       "      <th>masterid</th>\n",
       "    </tr>\n",
       "  </thead>\n",
       "  <tbody>\n",
       "    <tr>\n",
       "      <th>0</th>\n",
       "      <td>7934</td>\n",
       "      <td>finished</td>\n",
       "      <td>None</td>\n",
       "      <td>damask_job</td>\n",
       "      <td>/damask_job</td>\n",
       "      <td>None</td>\n",
       "      <td>/home/jovyan/dev/pyiron_continuum/notebooks/damask_proj/</td>\n",
       "      <td>2024-05-15 21:21:29.700887</td>\n",
       "      <td>2024-05-15 21:23:37.321152</td>\n",
       "      <td>127.0</td>\n",
       "      <td>pyiron@f89e278dea52#1</td>\n",
       "      <td>DAMASK</td>\n",
       "      <td>0.4</td>\n",
       "      <td>None</td>\n",
       "      <td>None</td>\n",
       "    </tr>\n",
       "  </tbody>\n",
       "</table>\n",
       "</div>"
      ],
      "text/plain": [
       "     id    status chemicalformula         job       subjob projectpath  \\\n",
       "0  7934  finished            None  damask_job  /damask_job        None   \n",
       "\n",
       "                                                    project  \\\n",
       "0  /home/jovyan/dev/pyiron_continuum/notebooks/damask_proj/   \n",
       "\n",
       "                   timestart                   timestop  totalcputime  \\\n",
       "0 2024-05-15 21:21:29.700887 2024-05-15 21:23:37.321152         127.0   \n",
       "\n",
       "                computer hamilton hamversion parentid masterid  \n",
       "0  pyiron@f89e278dea52#1   DAMASK        0.4     None     None  "
      ]
     },
     "execution_count": 20,
     "metadata": {},
     "output_type": "execute_result"
    }
   ],
   "source": [
    "pr.job_table()"
   ]
  },
  {
   "cell_type": "markdown",
   "id": "841da73c-cc70-4131-b27c-ed6918c0c8d9",
   "metadata": {},
   "source": [
    "## Post-processing"
   ]
  },
  {
   "cell_type": "code",
   "execution_count": 21,
   "id": "58488412-85a1-468c-a150-75dae0aeb5cf",
   "metadata": {},
   "outputs": [
    {
     "data": {
      "text/plain": [
       "(<Figure size 640x480 with 1 Axes>,\n",
       " <Axes: xlabel='$\\\\varepsilon_z$$_z$', ylabel='$\\\\sigma_z$$_z$(Pa)'>)"
      ]
     },
     "execution_count": 21,
     "metadata": {},
     "output_type": "execute_result"
    },
    {
     "data": {
      "image/png": "[encoded data removed]",
      "text/plain": [
       "<Figure size 640x480 with 1 Axes>"
      ]
     },
     "metadata": {},
     "output_type": "display_data"
    }
   ],
   "source": [
    "job.plot_stress_strain(component='zz')"
   ]
  },
  {
   "cell_type": "code",
   "execution_count": 22,
   "id": "d8a821fb-34f6-4f04-9f40-12b04477b12b",
   "metadata": {},
   "outputs": [
    {
     "data": {
      "text/plain": [
       "(<Figure size 640x480 with 1 Axes>,\n",
       " <Axes: xlabel='$\\\\varepsilon_{vM}$', ylabel='$\\\\sigma_{vM}$ (Pa)'>)"
      ]
     },
     "execution_count": 22,
     "metadata": {},
     "output_type": "execute_result"
    },
    {
     "data": {
      "image/png": "[encoded data removed]",
      "text/plain": [
       "<Figure size 640x480 with 1 Axes>"
      ]
     },
     "metadata": {},
     "output_type": "display_data"
    }
   ],
   "source": [
    "job.plot_stress_strain(von_mises=True)"
   ]
  },
  {
   "cell_type": "code",
   "execution_count": 23,
   "id": "3d310ed3-c1c6-4f5a-a236-a923b91ca0e4",
   "metadata": {},
   "outputs": [
    {
     "data": {
      "text/plain": [
       "array([[[ 3.32726354e-05,  1.11962962e-06, -1.75669088e-06],\n",
       "        [ 1.11962962e-06,  2.80835434e-05,  2.02871581e-06],\n",
       "        [-1.75669088e-06,  2.02871581e-06,  2.53669958e-05]],\n",
       "\n",
       "       [[ 6.50816317e+07,  4.38585366e+05, -6.69326107e+05],\n",
       "        [ 4.38585366e+05, -5.42153838e+03,  5.95099833e+05],\n",
       "        [-6.69326107e+05,  5.95099833e+05, -5.74540368e+03]],\n",
       "\n",
       "       [[ 7.66210405e+07, -1.10274845e+06, -3.75889116e+06],\n",
       "        [-1.10274845e+06, -5.02670971e+02,  2.54342082e+06],\n",
       "        [-3.75889116e+06,  2.54342082e+06, -1.67157960e+03]],\n",
       "\n",
       "       [[ 7.82915619e+07, -1.57424726e+06, -5.03613233e+06],\n",
       "        [-1.57424726e+06, -5.19449577e+03,  3.55866574e+06],\n",
       "        [-5.03613233e+06,  3.55866574e+06, -3.83973578e+03]],\n",
       "\n",
       "       [[ 7.88776074e+07, -1.72079576e+06, -5.28610400e+06],\n",
       "        [-1.72079576e+06,  5.12177850e+02,  3.97405757e+06],\n",
       "        [-5.28610400e+06,  3.97405757e+06, -3.13389504e+03]],\n",
       "\n",
       "       [[ 7.91879987e+07, -1.76328178e+06, -5.32469005e+06],\n",
       "        [-1.76328178e+06, -4.68551271e+03,  4.15230898e+06],\n",
       "        [-5.32469005e+06,  4.15230898e+06, -2.10577668e+03]],\n",
       "\n",
       "       [[ 7.94079902e+07, -1.76858119e+06, -5.32416867e+06],\n",
       "        [-1.76858119e+06, -4.71626972e+03,  4.24312940e+06],\n",
       "        [-5.32416867e+06,  4.24312940e+06, -4.05310326e+03]],\n",
       "\n",
       "       [[ 7.96007196e+07, -1.76098078e+06, -5.31656706e+06],\n",
       "        [-1.76098078e+06,  5.68719359e+03,  4.29608677e+06],\n",
       "        [-5.31656706e+06,  4.29608677e+06,  7.13414279e+03]],\n",
       "\n",
       "       [[ 7.97645514e+07, -1.75050215e+06, -5.31004607e+06],\n",
       "        [-1.75050215e+06,  9.74882452e+02,  4.33177183e+06],\n",
       "        [-5.31004607e+06,  4.33177183e+06,  3.07226399e+03]],\n",
       "\n",
       "       [[ 7.99209504e+07, -1.74048624e+06, -5.30593456e+06],\n",
       "        [-1.74048624e+06,  1.55822750e+03,  4.35782038e+06],\n",
       "        [-5.30593456e+06,  4.35782038e+06,  3.04837810e+03]],\n",
       "\n",
       "       [[ 8.00798089e+07, -1.73271983e+06, -5.30557050e+06],\n",
       "        [-1.73271983e+06,  6.67011432e+03,  4.37862735e+06],\n",
       "        [-5.30557050e+06,  4.37862735e+06,  9.24301818e+03]],\n",
       "\n",
       "       [[ 8.06596493e+07, -1.72121602e+06, -5.32232989e+06],\n",
       "        [-1.72121602e+06,  8.56211277e+03,  4.43049508e+06],\n",
       "        [-5.32232989e+06,  4.43049508e+06,  6.73147476e+03]],\n",
       "\n",
       "       [[ 8.12170856e+07, -1.72159063e+06, -5.35975445e+06],\n",
       "        [-1.72159063e+06,  7.33375829e+03,  4.46525313e+06],\n",
       "        [-5.35975445e+06,  4.46525313e+06,  5.72210150e+03]],\n",
       "\n",
       "       [[ 8.17595815e+07, -1.72660910e+06, -5.40315597e+06],\n",
       "        [-1.72660910e+06,  6.71754549e+03,  4.49247616e+06],\n",
       "        [-5.40315597e+06,  4.49247616e+06,  5.22253052e+03]],\n",
       "\n",
       "       [[ 8.22733859e+07, -1.73239705e+06, -5.44768536e+06],\n",
       "        [-1.73239705e+06, -1.32594607e+04,  4.51574091e+06],\n",
       "        [-5.44768536e+06,  4.51574091e+06, -8.94747736e+03]],\n",
       "\n",
       "       [[ 8.27909406e+07, -1.73937533e+06, -5.49083289e+06],\n",
       "        [-1.73937533e+06, -1.29253956e+04,  4.53584505e+06],\n",
       "        [-5.49083289e+06,  4.53584505e+06, -8.49481848e+03]],\n",
       "\n",
       "       [[ 8.32967920e+07, -1.74643949e+06, -5.53194106e+06],\n",
       "        [-1.74643949e+06, -1.28709472e+04,  4.55348923e+06],\n",
       "        [-5.53194106e+06,  4.55348923e+06, -8.53792580e+03]],\n",
       "\n",
       "       [[ 8.37915814e+07, -1.75317540e+06, -5.57064157e+06],\n",
       "        [-1.75317540e+06, -1.27687124e+04,  4.56874770e+06],\n",
       "        [-5.57064157e+06,  4.56874770e+06, -8.51289531e+03]],\n",
       "\n",
       "       [[ 8.42757239e+07, -1.75937213e+06, -5.60675311e+06],\n",
       "        [-1.75937213e+06, -1.27218975e+04,  4.58167130e+06],\n",
       "        [-5.60675311e+06,  4.58167130e+06, -8.53981689e+03]],\n",
       "\n",
       "       [[ 8.47497464e+07, -1.76494594e+06, -5.64007762e+06],\n",
       "        [-1.76494594e+06, -1.27034175e+04,  4.59227638e+06],\n",
       "        [-5.64007762e+06,  4.59227638e+06, -8.59151631e+03]],\n",
       "\n",
       "       [[ 8.52124273e+07, -1.76968968e+06, -5.67025838e+06],\n",
       "        [-1.76968968e+06, -1.45868533e+04,  4.60052253e+06],\n",
       "        [-5.67025838e+06,  4.60052253e+06, -1.04512410e+04]],\n",
       "\n",
       "       [[ 8.56834996e+07, -1.77477067e+06, -5.69713230e+06],\n",
       "        [-1.77477067e+06,  5.45925399e+03,  4.60657743e+06],\n",
       "        [-5.69713230e+06,  4.60657743e+06,  4.37380683e+03]],\n",
       "\n",
       "       [[ 8.61147299e+07, -1.77753031e+06, -5.72086989e+06],\n",
       "        [-1.77753031e+06, -1.42996855e+04,  4.61051478e+06],\n",
       "        [-5.72086989e+06,  4.61051478e+06, -9.88454829e+03]],\n",
       "\n",
       "       [[ 8.65524753e+07, -1.78037186e+06, -5.74141728e+06],\n",
       "        [-1.78037186e+06, -1.47836000e+04,  4.61238198e+06],\n",
       "        [-5.74141728e+06,  4.61238198e+06, -1.04253274e+04]],\n",
       "\n",
       "       [[ 8.69827327e+07, -1.78255708e+06, -5.75917664e+06],\n",
       "        [-1.78255708e+06, -1.47836017e+04,  4.61237379e+06],\n",
       "        [-5.75917664e+06,  4.61237379e+06, -1.04602427e+04]],\n",
       "\n",
       "       [[ 8.74053393e+07, -1.78405157e+06, -5.77447937e+06],\n",
       "        [-1.78405157e+06, -1.47731802e+04,  4.61060717e+06],\n",
       "        [-5.77447937e+06,  4.61060717e+06, -1.04761809e+04]]])"
      ]
     },
     "execution_count": 23,
     "metadata": {},
     "output_type": "execute_result"
    }
   ],
   "source": [
    "job.output.stress"
   ]
  }
 ],
 "metadata": {
  "kernelspec": {
   "display_name": "Python 3 (ipykernel)",
   "language": "python",
   "name": "python3"
  },
  "language_info": {
   "codemirror_mode": {
    "name": "ipython",
    "version": 3
   },
   "file_extension": ".py",
   "mimetype": "text/x-python",
   "name": "python",
   "nbconvert_exporter": "python",
   "pygments_lexer": "ipython3",
   "version": "3.11.9"
  }
 },
 "nbformat": 4,
 "nbformat_minor": 5
}
