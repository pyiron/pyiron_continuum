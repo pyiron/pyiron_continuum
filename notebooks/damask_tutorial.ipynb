{
 "cells": [
  {
   "cell_type": "markdown",
   "id": "d0c61026-3a4c-4e5e-9d61-fdfafca74244",
   "metadata": {},
   "source": [
    "# DAMASK tutorial\n",
    "- creating necessary inputs for damask\n",
    "- runing the damask jobs\n",
    "\n",
    "here more option is given to the user to select from damask python package itself."
   ]
  },
  {
   "cell_type": "markdown",
   "id": "ef3b0f8f-f536-445e-b5a5-80127c731dc5",
   "metadata": {},
   "source": [
    "## Importing libraries and creatign Project"
   ]
  },
  {
   "cell_type": "code",
   "execution_count": 1,
   "id": "eb2b9de9-0c2a-48ca-a63e-046abe4f56cf",
   "metadata": {},
   "outputs": [],
   "source": [
    "from pyiron_continuum import Project\n",
    "from damask import Rotation"
   ]
  },
  {
   "cell_type": "code",
   "execution_count": 2,
   "id": "1ce13de4-6314-4150-9939-13668098164c",
   "metadata": {},
   "outputs": [],
   "source": [
    "pr = Project(\"damask_proj\")"
   ]
  },
  {
   "cell_type": "code",
   "execution_count": 3,
   "id": "360189ad-8345-4efa-a5c4-cc381b110a50",
   "metadata": {},
   "outputs": [],
   "source": [
    "pr.remove_jobs_silently(recursive=True)"
   ]
  },
  {
   "cell_type": "markdown",
   "id": "f9938eb9-7ab3-4440-84dc-e0c2419984e7",
   "metadata": {},
   "source": [
    "## Creating the Damask job"
   ]
  },
  {
   "cell_type": "code",
   "execution_count": 4,
   "id": "34539f6b-0e53-4f49-a7b2-b42e6cc74f09",
   "metadata": {},
   "outputs": [],
   "source": [
    "job = pr.create.job.DAMASK(\"damask_job\")"
   ]
  },
  {
   "cell_type": "markdown",
   "id": "1dfa818a-b6e3-4abd-8a00-39a3ffd2424c",
   "metadata": {},
   "source": [
    "## Creating the necessary inputs"
   ]
  },
  {
   "cell_type": "markdown",
   "id": "af0167a1-2c9d-49c0-8d68-ffa248d00de9",
   "metadata": {},
   "source": [
    "### Homogenization"
   ]
  },
  {
   "cell_type": "code",
   "execution_count": 5,
   "id": "bcf4da2a-6253-4e73-a6d3-5e434b7de1fe",
   "metadata": {},
   "outputs": [],
   "source": [
    "homogenization = pr.create.DAMASK.homogenization(method='SX', \n",
    "                                                 parameters={'N_constituents': 1,\n",
    "                                                             \"mechanical\": {\"type\": \"pass\"}})"
   ]
  },
  {
   "cell_type": "code",
   "execution_count": 6,
   "id": "2a96e114-7cea-49dd-959c-50e63498e47c",
   "metadata": {},
   "outputs": [],
   "source": [
    "homogenization = pr.continuum.damask.Homogenization(method='SX', \n",
    "                                                     parameters={'N_constituents': 1,\n",
    "                                                                 \"mechanical\": {\"type\": \"pass\"}})"
   ]
  },
  {
   "cell_type": "markdown",
   "id": "b1af7a42-951f-4d0f-bb56-5d6ea18b92e5",
   "metadata": {},
   "source": [
    "### Elasticity"
   ]
  },
  {
   "cell_type": "code",
   "execution_count": 7,
   "id": "8e8a1801-467a-4260-b14e-433265f08fa9",
   "metadata": {},
   "outputs": [],
   "source": [
    "elasticity = pr.continuum.damask.Elasticity(type= 'Hooke', C_11= 106.75e9,\n",
    "                                   C_12= 60.41e9, C_44=28.34e9)"
   ]
  },
  {
   "cell_type": "markdown",
   "id": "71b5659e-ade4-4bfb-a80c-79d77f3366bf",
   "metadata": {},
   "source": [
    "### Plasticity"
   ]
  },
  {
   "cell_type": "code",
   "execution_count": 8,
   "id": "24b6b8a1-7e0a-4836-b230-e29fbfbc370f",
   "metadata": {},
   "outputs": [],
   "source": [
    "plasticity = pr.continuum.damask.Plasticity(N_sl=[12], a_sl=2.25, \n",
    "                                   atol_xi=1.0, dot_gamma_0_sl=0.001,\n",
    "                                   h_0_sl_sl=75e6, h_sl_sl=[1, 1, 1.4, 1.4, 1.4, 1.4],\n",
    "                                   n_sl=20, output=['xi_sl'], type='phenopowerlaw',\n",
    "                                   xi_0_sl=[31e6], xi_inf_sl=[63e6])           "
   ]
  },
  {
   "cell_type": "markdown",
   "id": "c4599715-e2e7-43aa-ab86-c0a26fe862a7",
   "metadata": {},
   "source": [
    "### Phase"
   ]
  },
  {
   "cell_type": "code",
   "execution_count": 9,
   "id": "7d018837-f07e-4f01-8436-683e12257489",
   "metadata": {},
   "outputs": [],
   "source": [
    "phase = pr.continuum.damask.Phase(composition='Aluminum', lattice= 'cF',\n",
    "                         output_list=['F', 'P', 'F_e', 'F_p', 'L_p', 'O'],\n",
    "                         elasticity=elasticity, plasticity=plasticity)"
   ]
  },
  {
   "cell_type": "markdown",
   "id": "ce4d182d-85ee-40f1-946e-eaa1005a7e03",
   "metadata": {},
   "source": [
    "### Rotation"
   ]
  },
  {
   "cell_type": "code",
   "execution_count": 10,
   "id": "d93eda97-b7ce-4572-8ce3-b8d34672e274",
   "metadata": {},
   "outputs": [],
   "source": [
    "rotation = pr.continuum.damask.Rotation(Rotation.from_random, 4)"
   ]
  },
  {
   "cell_type": "markdown",
   "id": "e39e9e82-c289-4322-ba9e-f03c3580e03e",
   "metadata": {},
   "source": [
    "### Material"
   ]
  },
  {
   "cell_type": "code",
   "execution_count": 11,
   "id": "dfb6237e-1dbf-47ba-9f50-e580456e9760",
   "metadata": {},
   "outputs": [],
   "source": [
    "material = pr.continuum.damask.Material([rotation],['Aluminum'], phase, homogenization)"
   ]
  },
  {
   "cell_type": "code",
   "execution_count": 12,
   "id": "d633c7d0-c47f-4d2d-aaa4-22c9d980d136",
   "metadata": {},
   "outputs": [],
   "source": [
    "job.material = material"
   ]
  },
  {
   "cell_type": "markdown",
   "id": "583ae5d3-d057-41b7-ad15-249564316cec",
   "metadata": {},
   "source": [
    "### Grid"
   ]
  },
  {
   "cell_type": "code",
   "execution_count": 13,
   "id": "f2cde993-9ccc-4c04-9fa0-0e7ad1832483",
   "metadata": {},
   "outputs": [],
   "source": [
    "grid = pr.continuum.damask.Grid.via_voronoi_tessellation(box_size=1., grid_dim=16, num_grains=4)"
   ]
  },
  {
   "cell_type": "code",
   "execution_count": 14,
   "id": "4642dc1d-2b9b-4ccc-bf2b-e66054ec11eb",
   "metadata": {},
   "outputs": [],
   "source": [
    "job.grid = grid"
   ]
  },
  {
   "cell_type": "markdown",
   "id": "0f2fda22-7d5c-42bb-9aba-f1aebe58279d",
   "metadata": {},
   "source": [
    "### Loading"
   ]
  },
  {
   "cell_type": "code",
   "execution_count": 15,
   "id": "48fa531a-5785-41b1-91f2-49aafdc296da",
   "metadata": {},
   "outputs": [],
   "source": [
    "load_step =[{'mech_bc_dict':{'dot_F':[5e-3,0,0, 0,'x',0,  0,0,'x'],\n",
    "                            'P':['x','x','x', 'x',0,'x',  'x','x',0]},\n",
    "            'discretization':{'t': 10.,'N': 40},\n",
    "            'additional': {'f_out': 4}\n",
    "           },{'mech_bc_dict':{'dot_F':[5e-3,0,0, 0,'x',0,  0,0,'x'],\n",
    "                              'P':['x','x','x', 'x',0,'x',  'x','x',0]},\n",
    "            'discretization':{'t': 60.,'N': 60},\n",
    "            'additional': {'f_out': 4}\n",
    "           }]"
   ]
  },
  {
   "cell_type": "code",
   "execution_count": 16,
   "id": "47aba5c8-9371-459d-979b-8ae3c012b981",
   "metadata": {},
   "outputs": [],
   "source": [
    "solver = job.list_solvers()[0]"
   ]
  },
  {
   "cell_type": "code",
   "execution_count": 17,
   "id": "664ddbd9-a2c8-423e-a1ef-7fb3e1cb5d40",
   "metadata": {},
   "outputs": [],
   "source": [
    "job.loading = pr.continuum.damask.Loading(solver=solver, load_steps=load_step)"
   ]
  },
  {
   "cell_type": "markdown",
   "id": "2bfb7e7f-659e-493e-8696-42e2073912fa",
   "metadata": {},
   "source": [
    "## Runing the job"
   ]
  },
  {
   "cell_type": "code",
   "execution_count": 18,
   "id": "03f5d0df-92b0-4fed-b9fa-996bff478bc1",
   "metadata": {},
   "outputs": [
    {
     "name": "stdout",
     "output_type": "stream",
     "text": [
      "The job damask_job was saved and received the ID: 1\n"
     ]
    },
    {
     "name": "stderr",
     "output_type": "stream",
     "text": [
      " ██████████████████████████████████████████████████ 100% ETA 0:00:00\n",
      " ██████████████████████████████████████████████████ 100% ETA 0:00:00\n",
      " ██████████████████████████████████████████████████ 100% ETA 0:00:00\n",
      " ██████████████████████████████████████████████████ 100% ETA 0:00:00\n",
      " ██████████████████████████████████████████████████ 100% ETA 0:00:00\n",
      " ██████████████████████████████████████████████████ 100% ETA 0:00:00\n",
      " ██████████████████████████████████████████████████ 100% ETA 0:00:00\n",
      " ██████████████████████████████████████████████████ 100% ETA 0:00:00\n",
      " ██████████████████████████████████████████████████ 100% ETA 0:00:00\n",
      " ██████████████████████████████████████████████████ 100% ETA 0:00:00\n",
      " ██████████████████████████████████████████████████ 100% ETA 0:00:00\n",
      " ██████████████████████████████████████████████████ 100% ETA 0:00:00\n"
     ]
    }
   ],
   "source": [
    "job.run()"
   ]
  },
  {
   "cell_type": "code",
   "execution_count": 24,
   "id": "b40ba0b4-12bb-4fa6-9e58-934afbc2781a",
   "metadata": {},
   "outputs": [
    {
     "data": {
      "text/html": [
       "<div>\n",
       "<style scoped>\n",
       "    .dataframe tbody tr th:only-of-type {\n",
       "        vertical-align: middle;\n",
       "    }\n",
       "\n",
       "    .dataframe tbody tr th {\n",
       "        vertical-align: top;\n",
       "    }\n",
       "\n",
       "    .dataframe thead th {\n",
       "        text-align: right;\n",
       "    }\n",
       "</style>\n",
       "<table border=\"1\" class=\"dataframe\">\n",
       "  <thead>\n",
       "    <tr style=\"text-align: right;\">\n",
       "      <th></th>\n",
       "      <th>id</th>\n",
       "      <th>status</th>\n",
       "      <th>chemicalformula</th>\n",
       "      <th>job</th>\n",
       "      <th>subjob</th>\n",
       "      <th>projectpath</th>\n",
       "      <th>project</th>\n",
       "      <th>timestart</th>\n",
       "      <th>timestop</th>\n",
       "      <th>totalcputime</th>\n",
       "      <th>computer</th>\n",
       "      <th>hamilton</th>\n",
       "      <th>hamversion</th>\n",
       "      <th>parentid</th>\n",
       "      <th>masterid</th>\n",
       "    </tr>\n",
       "  </thead>\n",
       "  <tbody>\n",
       "    <tr>\n",
       "      <th>0</th>\n",
       "      <td>1</td>\n",
       "      <td>finished</td>\n",
       "      <td>None</td>\n",
       "      <td>damask_job</td>\n",
       "      <td>/damask_job</td>\n",
       "      <td>/home/muhammad/</td>\n",
       "      <td>workspace/tmp/damask_tests/damask_proj/</td>\n",
       "      <td>2021-10-15 00:26:13.780089</td>\n",
       "      <td>2021-10-15 00:26:50.715075</td>\n",
       "      <td>36.0</td>\n",
       "      <td>pyiron@cmleo14#1</td>\n",
       "      <td>DAMASK</td>\n",
       "      <td>0.4</td>\n",
       "      <td>None</td>\n",
       "      <td>None</td>\n",
       "    </tr>\n",
       "  </tbody>\n",
       "</table>\n",
       "</div>"
      ],
      "text/plain": [
       "   id    status chemicalformula         job       subjob      projectpath  \\\n",
       "0   1  finished            None  damask_job  /damask_job  /home/muhammad/   \n",
       "\n",
       "                                   project                  timestart  \\\n",
       "0  workspace/tmp/damask_tests/damask_proj/ 2021-10-15 00:26:13.780089   \n",
       "\n",
       "                    timestop  totalcputime          computer hamilton  \\\n",
       "0 2021-10-15 00:26:50.715075          36.0  pyiron@cmleo14#1   DAMASK   \n",
       "\n",
       "  hamversion parentid masterid  \n",
       "0        0.4     None     None  "
      ]
     },
     "execution_count": 24,
     "metadata": {},
     "output_type": "execute_result"
    }
   ],
   "source": [
    "pr.job_table()"
   ]
  },
  {
   "cell_type": "markdown",
   "id": "841da73c-cc70-4131-b27c-ed6918c0c8d9",
   "metadata": {},
   "source": [
    "## Post-processing"
   ]
  },
  {
   "cell_type": "code",
   "execution_count": 23,
   "id": "58488412-85a1-468c-a150-75dae0aeb5cf",
   "metadata": {},
   "outputs": [
    {
     "data": {
      "text/plain": [
       "(<Figure size 432x288 with 1 Axes>,\n",
       " <AxesSubplot:xlabel='$\\\\varepsilon_x$$_x$', ylabel='$\\\\sigma_x$$_x$(Pa)'>)"
      ]
     },
     "execution_count": 23,
     "metadata": {},
     "output_type": "execute_result"
    },
    {
     "data": {
      "image/png": "[encoded data removed]",
      "text/plain": [
       "<Figure size 432x288 with 1 Axes>"
      ]
     },
     "metadata": {
      "needs_background": "light"
     },
     "output_type": "display_data"
    }
   ],
   "source": [
    "job.plot_stress_strain(component='xx')"
   ]
  },
  {
   "cell_type": "code",
   "execution_count": 25,
   "id": "d8a821fb-34f6-4f04-9f40-12b04477b12b",
   "metadata": {},
   "outputs": [
    {
     "data": {
      "text/plain": [
       "(<Figure size 432x288 with 1 Axes>,\n",
       " <AxesSubplot:xlabel='$\\\\varepsilon_{vM}$', ylabel='$\\\\sigma_{vM}$ (Pa)'>)"
      ]
     },
     "execution_count": 25,
     "metadata": {},
     "output_type": "execute_result"
    },
    {
     "data": {
      "image/png": "[encoded data removed]",
      "text/plain": [
       "<Figure size 432x288 with 1 Axes>"
      ]
     },
     "metadata": {
      "needs_background": "light"
     },
     "output_type": "display_data"
    }
   ],
   "source": [
    "job.plot_stress_strain(von_mises=True)"
   ]
  },
  {
   "cell_type": "code",
   "execution_count": 26,
   "id": "89e9f3aa-d673-4c39-af25-9366edabbb45",
   "metadata": {},
   "outputs": [
    {
     "data": {
      "text/plain": [
       "\n",
       "increment_80 (30.0s)\n",
       "  phase\n",
       "    Aluminum\n",
       "      mechanical\n",
       "        F / 1: deformation gradient\n",
       "        F_e / 1: elastic deformation gradient\n",
       "        F_p / 1: plastic deformation gradient\n",
       "        L_p / 1/s: plastic velocity gradient\n",
       "        O / q_0 (q_1 q_2 q_3): crystal orientation as quaternion\n",
       "        P / Pa: first Piola-Kirchhoff stress\n",
       "        avg_sigma / Pa: average stress (formula: np.average(#sigma#, axis=0))\n",
       "        avg_sigma_vM / Pa: average stress VM (formula: np.average(#sigma_vM#))\n",
       "        avg_strain / : average strain (formula: np.average(#epsilon_V^0.0(F)#, axis=0))\n",
       "        avg_strain_vM / : average strain vM (formula: np.average(#epsilon_V^0.0(F)_vM#))\n",
       "        epsilon_V^0.0(F) / 1: strain tensor of F (deformation gradient)\n",
       "        epsilon_V^0.0(F)_vM / 1: Mises equivalent strain of epsilon_V^0.0(F) (strain tensor of F (deformation gradient))\n",
       "        sigma / Pa: Cauchy stress calculated from P (first Piola-Kirchhoff stress) and F (deformation gradient)\n",
       "        sigma_vM / Pa: Mises equivalent stress of sigma (Cauchy stress calculated from P (first Piola-Kirchhoff stress) and F (deformation gradient))\n",
       "  homogenization\n",
       "    SX\n",
       "      mechanical"
      ]
     },
     "execution_count": 26,
     "metadata": {},
     "output_type": "execute_result"
    }
   ],
   "source": [
    "job.output.damask.view(what='increment',datasets=80)"
   ]
  },
  {
   "cell_type": "code",
   "execution_count": 37,
   "id": "3d310ed3-c1c6-4f5a-a236-a923b91ca0e4",
   "metadata": {},
   "outputs": [
    {
     "data": {
      "text/plain": [
       "array([[[-1.83227344e-05, -1.85017066e-06,  5.70622893e-07],\n",
       "        [-1.85017066e-06, -1.76968750e-05, -4.07720712e-07],\n",
       "        [ 5.70622893e-07, -4.07720712e-07, -1.92359970e-05]],\n",
       "\n",
       "       [[ 6.68250486e+08, -2.12290591e+07,  3.17746073e+06],\n",
       "        [-2.12290591e+07,  4.95394276e+03,  1.30489205e+06],\n",
       "        [ 3.17746073e+06,  1.30489205e+06,  4.71038656e+03]],\n",
       "\n",
       "       [[ 1.36642747e+09, -4.28231889e+07,  6.40881159e+06],\n",
       "        [-4.28231889e+07,  4.56023707e+02,  2.59743153e+06],\n",
       "        [ 6.40881159e+06,  2.59743153e+06,  2.44624365e+02]],\n",
       "\n",
       "       [[ 2.09555617e+09, -6.47894798e+07,  9.69509021e+06],\n",
       "        [-6.47894798e+07, -2.96070170e+03,  3.87803954e+06],\n",
       "        [ 9.69509021e+06,  3.87803954e+06, -3.24880856e+03]],\n",
       "\n",
       "       [[ 2.85669656e+09, -8.71354972e+07,  1.30373755e+07],\n",
       "        [-8.71354972e+07, -7.67468689e+03,  5.14717246e+06],\n",
       "        [ 1.30373755e+07,  5.14717246e+06, -8.15260231e+03]],\n",
       "\n",
       "       [[ 3.65095700e+09, -1.09869080e+08,  1.64367940e+07],\n",
       "        [-1.09869080e+08, -1.36147376e+04,  6.40525659e+06],\n",
       "        [ 1.64367940e+07,  6.40525659e+06, -1.44265071e+04]],\n",
       "\n",
       "       [[ 4.47949510e+09, -1.32998382e+08,  1.98945187e+07],\n",
       "        [-1.32998382e+08, -2.06780148e+04,  7.65269658e+06],\n",
       "        [ 1.98945187e+07,  7.65269658e+06, -2.19989674e+04]],\n",
       "\n",
       "       [[ 5.34352053e+09, -1.56531881e+08,  2.34117714e+07],\n",
       "        [-1.56531881e+08, -2.87673136e+04,  8.88987701e+06],\n",
       "        [ 2.34117714e+07,  8.88987701e+06, -3.08009405e+04]],\n",
       "\n",
       "       [[ 6.24429799e+09, -1.80478399e+08,  2.69898249e+07],\n",
       "        [-1.80478399e+08, -3.77918497e+04,  1.01171637e+07],\n",
       "        [ 2.69898249e+07,  1.01171637e+07, -4.07668669e+04]],\n",
       "\n",
       "       [[ 7.18315044e+09, -2.04847118e+08,  3.06300046e+07],\n",
       "        [-2.04847118e+08, -4.76666803e+04,  1.13349048e+07],\n",
       "        [ 3.06300046e+07,  1.13349048e+07, -5.18344010e+04]],\n",
       "\n",
       "       [[ 8.16146253e+09, -2.29647591e+08,  3.43336915e+07],\n",
       "        [-2.29647591e+08, -5.83121147e+04,  1.25434322e+07],\n",
       "        [ 3.43336915e+07,  1.25434322e+07, -6.39440992e+04]],\n",
       "\n",
       "       [[ 8.16147032e+09, -2.29648247e+08,  3.43334202e+07],\n",
       "        [-2.29648247e+08, -6.38700114e+04,  1.25435961e+07],\n",
       "        [ 3.43334202e+07,  1.25435961e+07, -6.88631277e+04]],\n",
       "\n",
       "       [[ 8.16146550e+09, -2.29647964e+08,  3.43337746e+07],\n",
       "        [-2.29647964e+08, -6.52691178e+04,  1.25434848e+07],\n",
       "        [ 3.43337746e+07,  1.25434848e+07, -7.04816348e+04]],\n",
       "\n",
       "       [[ 8.16146421e+09, -2.29647961e+08,  3.43337583e+07],\n",
       "        [-2.29647961e+08, -6.57718927e+04,  1.25434786e+07],\n",
       "        [ 3.43337583e+07,  1.25434786e+07, -7.10125346e+04]],\n",
       "\n",
       "       [[ 8.16146403e+09, -2.29647959e+08,  3.43337585e+07],\n",
       "        [-2.29647959e+08, -6.58480106e+04,  1.25434778e+07],\n",
       "        [ 3.43337585e+07,  1.25434778e+07, -7.10878148e+04]],\n",
       "\n",
       "       [[ 8.16146400e+09, -2.29647958e+08,  3.43337585e+07],\n",
       "        [-2.29647958e+08, -6.58585523e+04,  1.25434778e+07],\n",
       "        [ 3.43337585e+07,  1.25434778e+07, -7.10983422e+04]],\n",
       "\n",
       "       [[ 6.43222434e+09, -1.85401778e+08,  2.77249909e+07],\n",
       "        [-1.85401778e+08,  4.29856605e+03,  1.03662769e+07],\n",
       "        [ 2.77249909e+07,  1.03662769e+07,  6.07620010e+03]],\n",
       "\n",
       "       [[ 4.75113927e+09, -1.40460424e+08,  2.10099213e+07],\n",
       "        [-1.40460424e+08, -3.56171122e+04,  8.04878980e+06],\n",
       "        [ 2.10099213e+07,  8.04878980e+06, -3.75129085e+04]],\n",
       "\n",
       "       [[ 3.11866117e+09, -9.46990135e+07,  1.41686285e+07],\n",
       "        [-9.46990135e+07, -3.77575031e+04,  5.56966347e+06],\n",
       "        [ 1.41686285e+07,  5.56966347e+06, -3.99558267e+04]],\n",
       "\n",
       "       [[ 1.53480915e+09, -4.79496370e+07,  7.17602785e+06],\n",
       "        [-4.79496370e+07, -3.39367734e+04,  2.89970576e+06],\n",
       "        [ 7.17602785e+06,  2.89970576e+06, -3.63219377e+04]],\n",
       "\n",
       "       [[ 1.16167249e-05, -1.86967105e-06,  2.17990217e-07],\n",
       "        [-1.86967105e-06,  1.33631737e-05, -2.42160728e-05],\n",
       "        [ 2.17990217e-07, -2.42160728e-05,  1.24554971e-05]]])"
      ]
     },
     "execution_count": 37,
     "metadata": {},
     "output_type": "execute_result"
    }
   ],
   "source": [
    "job.output.stress"
   ]
  },
  {
   "cell_type": "code",
   "execution_count": null,
   "id": "0caaf84a-4829-4e1f-a764-afbb8f342134",
   "metadata": {},
   "outputs": [],
   "source": []
  }
 ],
 "metadata": {
  "kernelspec": {
   "display_name": "Python 3 (ipykernel)",
   "language": "python",
   "name": "python3"
  },
  "language_info": {
   "codemirror_mode": {
    "name": "ipython",
    "version": 3
   },
   "file_extension": ".py",
   "mimetype": "text/x-python",
   "name": "python",
   "nbconvert_exporter": "python",
   "pygments_lexer": "ipython3",
   "version": "3.9.7"
  }
 },
 "nbformat": 4,
 "nbformat_minor": 5
}
