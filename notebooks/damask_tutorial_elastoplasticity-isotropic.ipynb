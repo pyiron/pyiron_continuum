{
 "cells": [
  {
   "cell_type": "markdown",
   "id": "530d4134-08d9-4cf6-8e40-05cb2b106957",
   "metadata": {},
   "source": [
    "# DAMASK tutorial\n",
    "\n",
    "- creating necessary inputs for damask\n",
    "- defining the elastoplastic model(isotropic hardening) for tensile test\n",
    "- runing the damask jobs\n",
    "\n",
    "here more option is given to the user to select from damask python package itself.\n",
    "\n",
    "Author: Yang Bai\n",
    "\n",
    "Date  : 23.02.2022\n",
    "\n",
    "Update: 01.08.2022"
   ]
  },
  {
   "cell_type": "markdown",
   "id": "413799b5-58a8-47d3-bfd1-d081c1f2c4ec",
   "metadata": {},
   "source": [
    "## Importing libraries and creatign Project"
   ]
  },
  {
   "cell_type": "code",
   "execution_count": 1,
   "id": "12795c73-ee40-4a15-8e52-60edc207fbf1",
   "metadata": {},
   "outputs": [],
   "source": [
    "from pyiron_continuum import Project\n",
    "from damask import Rotation # this will be used in material configuration"
   ]
  },
  {
   "cell_type": "markdown",
   "id": "de196129-3f7b-4b70-863b-3a762f116877",
   "metadata": {},
   "source": [
    "### create a 'project' to manage all the configurations for a tensile test"
   ]
  },
  {
   "cell_type": "code",
   "execution_count": 2,
   "id": "435b1538-9181-4223-a475-aa338c8b09da",
   "metadata": {},
   "outputs": [
    {
     "data": {
      "application/vnd.jupyter.widget-view+json": {
       "model_id": "9f860068da5c477bb9541250b70b1845",
       "version_major": 2,
       "version_minor": 0
      },
      "text/plain": [
       "  0%|          | 0/1 [00:00<?, ?it/s]"
      ]
     },
     "metadata": {},
     "output_type": "display_data"
    }
   ],
   "source": [
    "pr = Project('isotropic')\n",
    "pr.remove_jobs(silently=True) # automatically delete the existing project folder"
   ]
  },
  {
   "cell_type": "markdown",
   "id": "e2c7dc7e-c88b-483b-9a82-e149dbe6f435",
   "metadata": {},
   "source": [
    "### Creating the Damask job"
   ]
  },
  {
   "cell_type": "code",
   "execution_count": 3,
   "id": "d7080422-6e97-48d7-8b76-f97f20eb32c8",
   "metadata": {},
   "outputs": [],
   "source": [
    "job = pr.create.job.DAMASK('damask_job')"
   ]
  },
  {
   "cell_type": "markdown",
   "id": "f30c5306-836f-4f96-93a0-4104e4a6afeb",
   "metadata": {},
   "source": [
    "#### for a damask job, one needs:\n",
    "- geometry information(i.e., the mesh)\n",
    "- material configuration(material.yaml)\n",
    "- boundary conditions(i.e., loading.yaml)"
   ]
  },
  {
   "cell_type": "markdown",
   "id": "cb7d3a58-e559-4a60-8777-76292837a8e1",
   "metadata": {},
   "source": [
    "### For material configuration\n",
    "#### for elastoplastic material"
   ]
  },
  {
   "cell_type": "code",
   "execution_count": 4,
   "id": "4d5b9320-b0ff-4b28-ba2a-9dea93e67f55",
   "metadata": {},
   "outputs": [],
   "source": [
    "elasticity = pr.continuum.damask.Elasticity(type= 'Hooke', C_11= 106.75e9,\n",
    "                                   C_12= 60.41e9, C_44=28.34e9)\n",
    "plasticity = pr.continuum.damask.Plasticity(type='isotropic',dot_gamma_0=0.001,\n",
    "                                            n=20.,xi_0=0.4e+6,\n",
    "                                            xi_inf=0.6e+6,a=2.,\n",
    "                                            h_0=2.e+6, # hardening modulus\n",
    "                                            M=1.,h=1.,\n",
    "                                            dilatation=True,output=['xi'])\n",
    "# for the details of isotropic model, one is referred to https://doi.org/10.1016/j.scriptamat.2017.09.047"
   ]
  },
  {
   "cell_type": "markdown",
   "id": "4a214949-102d-4343-90be-1b0a4b8f0818",
   "metadata": {},
   "source": [
    "#### for material configuration, you need\n",
    "- phase\n",
    "- roation\n",
    "- homogenization"
   ]
  },
  {
   "cell_type": "code",
   "execution_count": 5,
   "id": "46f5a2f0-4082-473e-953a-c5a0cb48a613",
   "metadata": {},
   "outputs": [],
   "source": [
    "grains = 4\n",
    "grids = 16\n",
    "\n",
    "phase = pr.continuum.damask.Phase(composition='Aluminum', lattice= 'cF',\n",
    "                         output_list=['F', 'P', 'F_e', 'F_p', 'L_p', 'O'],\n",
    "                         elasticity=elasticity,plasticity=plasticity)\n",
    "rotation = pr.continuum.damask.Rotation(Rotation.from_random, grains)\n",
    "\n",
    "homogenization = pr.continuum.damask.Homogenization(method='SX', \n",
    "                                                     parameters={'N_constituents': 1,\n",
    "                                                                 \"mechanical\": {\"type\": \"pass\"}})\n",
    "\n",
    "# now you can define your material.yaml configuration\n",
    "material = pr.continuum.damask.Material([rotation],['Aluminum'], phase, homogenization)\n",
    "\n",
    "# now you can save your material to your job\n",
    "job.material = material"
   ]
  },
  {
   "cell_type": "markdown",
   "id": "b485772d-5c31-44df-a8b5-0faefaaafa5e",
   "metadata": {},
   "source": [
    "## For geometry information"
   ]
  },
  {
   "cell_type": "code",
   "execution_count": 6,
   "id": "7c804ec6-476e-4f9c-bfc0-95e2d3a282f0",
   "metadata": {},
   "outputs": [],
   "source": [
    "grid = pr.continuum.damask.Grid.via_voronoi_tessellation(box_size=1.0e-5, grid_dim=grids, num_grains=grains)\n",
    "\n",
    "# save the geometry information to your job\n",
    "job.grid = grid "
   ]
  },
  {
   "cell_type": "markdown",
   "id": "e1243eb3-a38d-4f36-a363-4e878d4d2cea",
   "metadata": {},
   "source": [
    "## For boundary conditions (loading)"
   ]
  },
  {
   "cell_type": "code",
   "execution_count": 7,
   "id": "e45ef751-39aa-4cc4-8835-47ef256620d8",
   "metadata": {},
   "outputs": [],
   "source": [
    "load_step =[{'mech_bc_dict':{'dot_F':[5e-5,0,0, 0,'x',0,  0,0,'x'],\n",
    "                            'P':['x','x','x', 'x',0,'x',  'x','x',0]},\n",
    "            'discretization':{'t': 10.,'N': 200},\n",
    "            'additional': {'f_out': 5}\n",
    "           }]\n",
    "solver = job.list_solvers()[0] # choose the mechanis solver\n",
    "job.loading = pr.continuum.damask.Loading(solver=solver, load_steps=load_step)"
   ]
  },
  {
   "cell_type": "code",
   "execution_count": 8,
   "id": "8dd97049-00a3-4e11-8077-8f18a958ee49",
   "metadata": {},
   "outputs": [
    {
     "name": "stdout",
     "output_type": "stream",
     "text": [
      "The job damask_job was saved and received the ID: 16\n"
     ]
    },
    {
     "name": "stderr",
     "output_type": "stream",
     "text": [
      " ██████████████████████████████████████████████████ 100% ETA 0:00:00\n",
      " ██████████████████████████████████████████████████ 100% ETA 0:00:00\n",
      " ██████████████████████████████████████████████████ 100% ETA 0:00:00\n",
      " ██████████████████████████████████████████████████ 100% ETA 0:00:00\n",
      " ██████████████████████████████████████████████████ 100% ETA 0:00:00\n",
      " ██████████████████████████████████████████████████ 100% ETA 0:00:00\n",
      " ██████████████████████████████████████████████████ 100% ETA 0:00:00\n",
      " ██████████████████████████████████████████████████ 100% ETA 0:00:00\n",
      " ██████████████████████████████████████████████████ 100% ETA 0:00:00\n",
      " ██████████████████████████████████████████████████ 100% ETA 0:00:00\n",
      " ██████████████████████████████████████████████████ 100% ETA 0:00:00\n",
      " ██████████████████████████████████████████████████ 100% ETA 0:00:00\n"
     ]
    }
   ],
   "source": [
    "job.run() # running your job, if you want the parallelization you can modify your 'pyiron/damask/bin/run_damask_3.0.0.sh file'"
   ]
  },
  {
   "cell_type": "code",
   "execution_count": 9,
   "id": "c63b08ec-9259-45bf-ae16-da2792f8c5da",
   "metadata": {},
   "outputs": [
    {
     "data": {
      "text/plain": [
       "(<Figure size 432x288 with 1 Axes>,\n",
       " <AxesSubplot:xlabel='$\\\\varepsilon_x$$_x$', ylabel='$\\\\sigma_x$$_x$(Pa)'>)"
      ]
     },
     "execution_count": 9,
     "metadata": {},
     "output_type": "execute_result"
    },
    {
     "data": {
      "image/png": "[encoded data removed]",
      "text/plain": [
       "<Figure size 432x288 with 1 Axes>"
      ]
     },
     "metadata": {
      "needs_background": "light"
     },
     "output_type": "display_data"
    }
   ],
   "source": [
    "# plot the strain_xx vs stress_xx profile\n",
    "job.plot_stress_strain(component='xx')"
   ]
  },
  {
   "cell_type": "code",
   "execution_count": 10,
   "id": "55ce390e-4d54-4a59-8940-cf74896054dd",
   "metadata": {},
   "outputs": [
    {
     "data": {
      "text/plain": [
       "(<Figure size 432x288 with 1 Axes>,\n",
       " <AxesSubplot:xlabel='$\\\\varepsilon_{vM}$', ylabel='$\\\\sigma_{vM}$ (Pa)'>)"
      ]
     },
     "execution_count": 10,
     "metadata": {},
     "output_type": "execute_result"
    },
    {
     "data": {
      "image/png": "[encoded data removed]",
      "text/plain": [
       "<Figure size 432x288 with 1 Axes>"
      ]
     },
     "metadata": {
      "needs_background": "light"
     },
     "output_type": "display_data"
    }
   ],
   "source": [
    "# plot the vonMises-strain vs vonMises-stress profile\n",
    "job.plot_stress_strain(von_mises=True)"
   ]
  },
  {
   "cell_type": "code",
   "execution_count": 11,
   "id": "ff450c7a-3151-450c-9a11-be6b12c5f523",
   "metadata": {},
   "outputs": [],
   "source": [
    "# job.writeresults2vtk() # you can also save all the field quantities to vtk files"
   ]
  }
 ],
 "metadata": {
  "kernelspec": {
   "display_name": "Python 3 (ipykernel)",
   "language": "python",
   "name": "python3"
  },
  "language_info": {
   "codemirror_mode": {
    "name": "ipython",
    "version": 3
   },
   "file_extension": ".py",
   "mimetype": "text/x-python",
   "name": "python",
   "nbconvert_exporter": "python",
   "pygments_lexer": "ipython3",
   "version": "3.10.6"
  }
 },
 "nbformat": 4,
 "nbformat_minor": 5
}
