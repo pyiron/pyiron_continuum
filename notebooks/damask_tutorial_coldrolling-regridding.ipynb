{
 "cells": [
  {
   "cell_type": "markdown",
   "id": "530d4134-08d9-4cf6-8e40-05cb2b106957",
   "metadata": {},
   "source": [
    "# DAMASK tutorial for cold rolling test with regridding\n",
    "\n",
    "- creating necessary inputs for damask\n",
    "- defining the elastoplastic model (with powerlaw) for tensile test\n",
    "- runing the damask jobs\n",
    "- do the regridding\n",
    "\n",
    "here more option is given to the user to select from damask python package itself.\n",
    "\n",
    "Author: Yang Bai\n",
    "\n",
    "Date  : 06.09.2022"
   ]
  },
  {
   "cell_type": "markdown",
   "id": "413799b5-58a8-47d3-bfd1-d081c1f2c4ec",
   "metadata": {},
   "source": [
    "## Importing libraries and creatign Project"
   ]
  },
  {
   "cell_type": "code",
   "execution_count": 1,
   "id": "12795c73-ee40-4a15-8e52-60edc207fbf1",
   "metadata": {},
   "outputs": [],
   "source": [
    "from pyiron_continuum import Project\n",
    "from damask import Rotation # this will be used in material configuration"
   ]
  },
  {
   "cell_type": "markdown",
   "id": "de196129-3f7b-4b70-863b-3a762f116877",
   "metadata": {},
   "source": [
    "### create a 'project' to manage all the configurations for a tensile test"
   ]
  },
  {
   "cell_type": "code",
   "execution_count": 2,
   "id": "435b1538-9181-4223-a475-aa338c8b09da",
   "metadata": {},
   "outputs": [],
   "source": [
    "pr = Project('stresscurve')\n",
    "pr.remove_jobs(silently=True) # automatically delete the existing project folder"
   ]
  },
  {
   "cell_type": "markdown",
   "id": "e2c7dc7e-c88b-483b-9a82-e149dbe6f435",
   "metadata": {},
   "source": [
    "### Creating the Damask job"
   ]
  },
  {
   "cell_type": "code",
   "execution_count": 3,
   "id": "d7080422-6e97-48d7-8b76-f97f20eb32c8",
   "metadata": {},
   "outputs": [],
   "source": [
    "job = pr.create.job.ROLLING('damask_job')"
   ]
  },
  {
   "cell_type": "markdown",
   "id": "f30c5306-836f-4f96-93a0-4104e4a6afeb",
   "metadata": {},
   "source": [
    "#### for a damask job, one needs:\n",
    "- geometry information(i.e., the mesh)\n",
    "- material configuration(material.yaml)\n",
    "- boundary conditions(i.e., loading.yaml)"
   ]
  },
  {
   "cell_type": "markdown",
   "id": "cb7d3a58-e559-4a60-8777-76292837a8e1",
   "metadata": {},
   "source": [
    "### For material configuration\n",
    "#### for elastoplastic material"
   ]
  },
  {
   "cell_type": "code",
   "execution_count": 4,
   "id": "4d5b9320-b0ff-4b28-ba2a-9dea93e67f55",
   "metadata": {},
   "outputs": [],
   "source": [
    "elasticity = pr.continuum.damask.Elasticity(type= 'Hooke', C_11= 106.75e9,\n",
    "                                   C_12= 60.41e9, C_44=28.34e9)\n",
    "\n",
    "# for plastic deformation, we use the power law\n",
    "plasticity = pr.continuum.damask.Plasticity(type='phenopowerlaw',\n",
    "                                            N_sl=[12], a_sl=2.25,\n",
    "                                            atol_xi=1.0, dot_gamma_0_sl=0.001,\n",
    "                                            h_0_sl_sl=75e6, h_sl_sl=[1, 1, 1.4, 1.4, 1.4, 1.4, 1.4],\n",
    "                                            n_sl=20, output=['xi_sl'],\n",
    "                                            xi_0_sl=[31e6], xi_inf_sl=[63e6])\n"
   ]
  },
  {
   "cell_type": "markdown",
   "id": "4a214949-102d-4343-90be-1b0a4b8f0818",
   "metadata": {},
   "source": [
    "#### for material configuration, you need\n",
    "- phase\n",
    "- roation\n",
    "- homogenization"
   ]
  },
  {
   "cell_type": "code",
   "execution_count": 5,
   "id": "46f5a2f0-4082-473e-953a-c5a0cb48a613",
   "metadata": {},
   "outputs": [],
   "source": [
    "grains, grids = 8,8 # for the number of grains and grids\n",
    "\n",
    "phase = pr.continuum.damask.Phase(composition='Aluminum', lattice= 'cF',\n",
    "                         output_list=['F', 'P', 'F_e', 'F_p', 'L_p', 'O'],\n",
    "                         elasticity=elasticity,plasticity=plasticity)\n",
    "rotation = pr.continuum.damask.Rotation(Rotation.from_random, grains)\n",
    "homogenization = pr.continuum.damask.Homogenization(method='SX', \n",
    "                                                     parameters={'N_constituents': 1,\n",
    "                                                                 \"mechanical\": {\"type\": \"pass\"}})\n",
    "# now you can define your material.yaml configuration\n",
    "material = pr.continuum.damask.Material([rotation],['Aluminum'], phase, homogenization)\n",
    "# now you can save your material to your job\n",
    "job.material = material"
   ]
  },
  {
   "cell_type": "markdown",
   "id": "b485772d-5c31-44df-a8b5-0faefaaafa5e",
   "metadata": {},
   "source": [
    "## For geometry information"
   ]
  },
  {
   "cell_type": "code",
   "execution_count": 6,
   "id": "7c804ec6-476e-4f9c-bfc0-95e2d3a282f0",
   "metadata": {},
   "outputs": [],
   "source": [
    "grid = pr.continuum.damask.Grid.via_voronoi_tessellation(box_size=1.0e-5, \n",
    "                                                         grid_dim=grids, \n",
    "                                                         num_grains=grains)\n",
    "# save the geometry information to your job\n",
    "job.grid = grid "
   ]
  },
  {
   "cell_type": "markdown",
   "id": "82dda0e8-4eb8-4eac-a964-819264100df5",
   "metadata": {},
   "source": [
    "## Configure the rolling test (boundary conditions)"
   ]
  },
  {
   "cell_type": "code",
   "execution_count": 7,
   "id": "c42f3bc5-1dc4-4a86-a051-ee1780799c66",
   "metadata": {},
   "outputs": [],
   "source": [
    "job.rolling_parameters(number_passes=1,# number of rolling procedure\n",
    "                       height_reduction=0.05,# compresseion height\n",
    "                       rolling_speed=2.0e-3,# rolling speed 1/s\n",
    "                       contact_length=1.0, # for the contact length\n",
    "                       increments=400,# time steps for each rolling\n",
    "                       regridding=False)"
   ]
  },
  {
   "cell_type": "markdown",
   "id": "3342a300-9be4-4867-8e0a-d0b221f3b0ca",
   "metadata": {},
   "source": [
    "## Do the rolling test"
   ]
  },
  {
   "cell_type": "code",
   "execution_count": 8,
   "id": "31e4a523-3c3d-44a2-8b8b-e12d25ab2c09",
   "metadata": {},
   "outputs": [
    {
     "name": "stdout",
     "output_type": "stream",
     "text": [
      "working direction is: /home/by/Projects/Github/pyiron_continuum/notebooks/stresscurve/damask_job_hdf5/damask_job\n",
      "Remove all the results ...\n",
      "--------------------------------------------------------------\n",
      "Do the rolling-1 test ...\n",
      "Run damask simulation from  /home/by/Projects/Github/pyiron_continuum/notebooks/stresscurve/damask_job_hdf5/damask_job\n",
      "solver: {mechanical: spectral_basic}\n",
      "\n",
      "loadstep:\n",
      "  - boundary_conditions:\n",
      "      mechanical:\n",
      "        P:\n",
      "          - [0, x, x]\n",
      "          - [x, x, x]\n",
      "          - [x, x, x]\n",
      "        dot_F:\n",
      "          - [x, 0, 0]\n",
      "          - [0, 0, 0]\n",
      "          - [0, 0, -0.002]\n",
      "    discretization: {t: 25.0, N: 400}\n",
      "    f_out: 5\n",
      "    f_restart: 5\n",
      "\n",
      "Using rolling-1.yaml as loading\n",
      "Damask command is: DAMASK_grid -g damask.vti -l rolling-1.yaml > rolling-1.log\n"
     ]
    },
    {
     "name": "stderr",
     "output_type": "stream",
     "text": [
      " ██████████████████████████████████████████████████ 100% ETA 0:00:00\n",
      " ██████████████████████████████████████████████████ 100% ETA 0:00:00\n",
      " ██████████████████████████████████████████████████ 100% ETA 0:00:00\n",
      " ██████████████████████████████████████████████████ 100% ETA 0:00:00\n",
      " ██████████████████████████████████████████████████ 100% ETA 0:00:00\n",
      " ██████████████████████████████████████████████████ 100% ETA 0:00:00\n",
      " ██████████████████████████████████████████████████ 100% ETA 0:00:00\n",
      " ██████████████████████████████████████████████████ 100% ETA 0:00:00\n",
      " ██████████████████████████████████████████████████ 100% ETA 0:00:00\n",
      " ██████████████████████████████████████████████████ 100% ETA 0:00:00\n",
      " ██████████████████████████████████████████████████ 100% ETA 0:00:00\n",
      " ██████████████████████████████████████████████████ 100% ETA 0:00:00\n"
     ]
    },
    {
     "data": {
      "image/png": "[encoded data removed]",
      "text/plain": [
       "<Figure size 432x288 with 1 Axes>"
      ]
     },
     "metadata": {
      "needs_background": "light"
     },
     "output_type": "display_data"
    }
   ],
   "source": [
    "job.run_rolling()# job.run()"
   ]
  },
  {
   "cell_type": "code",
   "execution_count": 9,
   "id": "c76b3e13-d5b0-4c6e-bd7c-70ae97446399",
   "metadata": {},
   "outputs": [],
   "source": [
    "# for result in job._rollresults:\n",
    "#     result.export_VTK()\n",
    "#     print('done! ')\n",
    "# visiualization for deformed/regridded RVE (instead of paraview)"
   ]
  },
  {
   "cell_type": "code",
   "execution_count": 10,
   "id": "06c4e792-0033-4bb1-b8be-68ff2265b43b",
   "metadata": {},
   "outputs": [
    {
     "name": "stdout",
     "output_type": "stream",
     "text": [
      "[array([1.10783367e-05, 4.47785047e+07, 7.33052364e+07, 8.12402835e+07,\n",
      "       8.54631507e+07, 8.77675509e+07, 8.92267831e+07, 9.02475979e+07,\n",
      "       9.10207781e+07, 9.16309663e+07, 9.21401527e+07, 9.25811311e+07,\n",
      "       9.29745027e+07, 9.33323095e+07, 9.36616990e+07, 9.39668372e+07,\n",
      "       9.42505400e+07, 9.45148692e+07, 9.47618461e+07, 9.49933914e+07,\n",
      "       9.52115531e+07, 9.54181905e+07, 9.56150459e+07, 9.58035210e+07,\n",
      "       9.59848364e+07, 9.61599245e+07, 9.63296006e+07, 9.64944888e+07,\n",
      "       9.66551499e+07, 9.68120223e+07, 9.69655060e+07, 9.71159231e+07,\n",
      "       9.72635713e+07, 9.74086971e+07, 9.75515336e+07, 9.76922722e+07,\n",
      "       9.78311029e+07, 9.79681721e+07, 9.81036387e+07, 9.82376125e+07,\n",
      "       9.83702286e+07, 9.85015669e+07, 9.86317439e+07, 9.87608159e+07,\n",
      "       9.88888842e+07, 9.90159871e+07, 9.91422128e+07, 9.92675846e+07,\n",
      "       9.93921784e+07, 9.95160028e+07, 9.96391206e+07, 9.97615232e+07,\n",
      "       9.98832586e+07, 1.00004298e+08, 1.00124675e+08, 1.00244341e+08,\n",
      "       1.00363321e+08, 1.00481556e+08, 1.00599073e+08, 1.00715805e+08,\n",
      "       1.00831783e+08, 1.00946931e+08, 1.01061290e+08, 1.01174784e+08,\n",
      "       1.01287479e+08, 1.01399328e+08, 1.01510435e+08, 1.01620794e+08,\n",
      "       1.01730527e+08, 1.01839651e+08, 1.01948281e+08, 1.02056437e+08,\n",
      "       1.02164216e+08, 1.02271634e+08, 1.02378770e+08, 1.02485637e+08,\n",
      "       1.02592299e+08, 1.02698766e+08, 1.02805089e+08, 1.02911280e+08,\n",
      "       1.03017375e+08])]\n",
      "[array([0.        , 0.00055999, 0.0011842 , 0.00192289, 0.002687  ,\n",
      "       0.00345783, 0.00423058, 0.0050035 , 0.00577648, 0.00654952,\n",
      "       0.0073228 , 0.00809647, 0.00887065, 0.00964539, 0.01042067,\n",
      "       0.0111965 , 0.01197284, 0.01274968, 0.01352701, 0.01430481,\n",
      "       0.01508308, 0.0158618 , 0.01664097, 0.01742059, 0.01820064,\n",
      "       0.01898112, 0.01976203, 0.02054337, 0.02132512, 0.02210729,\n",
      "       0.02288987, 0.02367285, 0.02445625, 0.02524004, 0.02602424,\n",
      "       0.02680884, 0.02759384, 0.02837923, 0.02916502, 0.02995121,\n",
      "       0.0307378 , 0.03152478, 0.03231217, 0.03309995, 0.03388813,\n",
      "       0.03467671, 0.03546569, 0.03625508, 0.03704487, 0.03783507,\n",
      "       0.03862568, 0.03941671, 0.04020816, 0.04100002, 0.04179231,\n",
      "       0.04258502, 0.04337816, 0.04417172, 0.04496572, 0.04576016,\n",
      "       0.04655503, 0.04735033, 0.04814607, 0.04894226, 0.04973888,\n",
      "       0.05053595, 0.05133347, 0.05213143, 0.05292985, 0.05372871,\n",
      "       0.05452802, 0.05532779, 0.05612801, 0.05692867, 0.0577298 ,\n",
      "       0.05853137, 0.05933339, 0.06013587, 0.0609388 , 0.06174219,\n",
      "       0.06254603])]\n"
     ]
    }
   ],
   "source": [
    "print(job._vonMises_stress)\n",
    "print(job._vonMises_strain)"
   ]
  }
 ],
 "metadata": {
  "kernelspec": {
   "display_name": "Python 3 (ipykernel)",
   "language": "python",
   "name": "python3"
  },
  "language_info": {
   "codemirror_mode": {
    "name": "ipython",
    "version": 3
   },
   "file_extension": ".py",
   "mimetype": "text/x-python",
   "name": "python",
   "nbconvert_exporter": "python",
   "pygments_lexer": "ipython3",
   "version": "3.10.5"
  }
 },
 "nbformat": 4,
 "nbformat_minor": 5
}
