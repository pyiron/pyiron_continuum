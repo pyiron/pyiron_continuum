{
 "cells": [
  {
   "cell_type": "markdown",
   "id": "530d4134-08d9-4cf6-8e40-05cb2b106957",
   "metadata": {},
   "source": [
    "# DAMASK tutorial\n",
    "\n",
    "- creating necessary inputs for damask\n",
    "- defining the elastoplastic model (with powerlaw) for tensile test\n",
    "- runing the damask jobs\n",
    "\n",
    "here more option is given to the user to select from damask python package itself."
   ]
  },
  {
   "cell_type": "markdown",
   "id": "413799b5-58a8-47d3-bfd1-d081c1f2c4ec",
   "metadata": {},
   "source": [
    "## Importing libraries and creatign Project"
   ]
  },
  {
   "cell_type": "code",
   "execution_count": 1,
   "id": "12795c73-ee40-4a15-8e52-60edc207fbf1",
   "metadata": {},
   "outputs": [],
   "source": [
    "from pyiron_continuum import Project\n",
    "%matplotlib inline"
   ]
  },
  {
   "cell_type": "markdown",
   "id": "de196129-3f7b-4b70-863b-3a762f116877",
   "metadata": {},
   "source": [
    "### create a 'project' to manage all the configurations for a tensile test"
   ]
  },
  {
   "cell_type": "code",
   "execution_count": 2,
   "id": "435b1538-9181-4223-a475-aa338c8b09da",
   "metadata": {},
   "outputs": [
    {
     "data": {
      "application/vnd.jupyter.widget-view+json": {
       "model_id": "79daf72a8b9849b1a2aad93cf130d690",
       "version_major": 2,
       "version_minor": 0
      },
      "text/plain": [
       "  0%|          | 0/4 [00:00<?, ?it/s]"
      ]
     },
     "metadata": {},
     "output_type": "display_data"
    }
   ],
   "source": [
    "pr = Project('RollingTest')\n",
    "pr.remove_jobs(silently=True, recursive=True) # automatically delete the existing project folder"
   ]
  },
  {
   "cell_type": "markdown",
   "id": "e2c7dc7e-c88b-483b-9a82-e149dbe6f435",
   "metadata": {},
   "source": [
    "### Creating the Damask job"
   ]
  },
  {
   "cell_type": "code",
   "execution_count": 3,
   "id": "d7080422-6e97-48d7-8b76-f97f20eb32c8",
   "metadata": {},
   "outputs": [],
   "source": [
    "job = pr.create.job.DAMASK(\"run_0\")"
   ]
  },
  {
   "cell_type": "markdown",
   "id": "f30c5306-836f-4f96-93a0-4104e4a6afeb",
   "metadata": {},
   "source": [
    "#### for a damask job, one needs:\n",
    "- geometry information(i.e., the mesh)\n",
    "- material configuration(material.yaml)\n",
    "- boundary conditions(i.e., loading.yaml)"
   ]
  },
  {
   "cell_type": "markdown",
   "id": "cb7d3a58-e559-4a60-8777-76292837a8e1",
   "metadata": {},
   "source": [
    "### For material configuration\n",
    "#### for elastoplastic material"
   ]
  },
  {
   "cell_type": "code",
   "execution_count": 4,
   "id": "4d5b9320-b0ff-4b28-ba2a-9dea93e67f55",
   "metadata": {},
   "outputs": [],
   "source": [
    "elasticity = pr.continuum.damask.Elasticity(type= 'Hooke', C_11= 106.75e9,\n",
    "                                   C_12= 60.41e9, C_44=28.34e9)\n",
    "plasticity = pr.continuum.damask.Plasticity(type='phenopowerlaw',\n",
    "                                            N_sl=[12],a_sl=[2.25],\n",
    "                                            atol_xi=1.0,dot_gamma_0_sl=[0.001],\n",
    "                                            h_0_sl_sl=[75.0e6],\n",
    "                                            h_sl_sl=[1, 1, 1.4, 1.4, 1.4, 1.4, 1.4],\n",
    "                                            n_sl=[20],\n",
    "                                            output=['xi_sl'],\n",
    "                                            xi_0_sl=[31.0e6],\n",
    "                                            xi_inf_sl=[63.0e6]\n",
    "                                           )\n"
   ]
  },
  {
   "cell_type": "markdown",
   "id": "4a214949-102d-4343-90be-1b0a4b8f0818",
   "metadata": {},
   "source": [
    "#### for material configuration, you need\n",
    "- phase\n",
    "- roation\n",
    "- homogenization"
   ]
  },
  {
   "cell_type": "code",
   "execution_count": 5,
   "id": "46f5a2f0-4082-473e-953a-c5a0cb48a613",
   "metadata": {},
   "outputs": [
    {
     "name": "stderr",
     "output_type": "stream",
     "text": [
      "/home/jovyan/dev/pyiron_continuum/pyiron_continuum/damask/damaskjob.py:178: UserWarning: Setting material via project creator is deprecated. Use job.set_material instead\n",
      "  warnings.warn(\n"
     ]
    }
   ],
   "source": [
    "grains = 4\n",
    "grids = 4\n",
    "\n",
    "phase = pr.continuum.damask.Phase(composition='Aluminum', lattice= 'cF',\n",
    "                         output_list=['F', 'P', 'F_e', 'F_p', 'L_p', 'O'],\n",
    "                         elasticity=elasticity,plasticity=plasticity)\n",
    "rotation = pr.continuum.damask.Rotation(shape=grains)\n",
    "\n",
    "homogenization = pr.continuum.damask.Homogenization(method='SX', \n",
    "                                                     parameters={'N_constituents': 1,\n",
    "                                                                 \"mechanical\": {\"type\": \"pass\"}})\n",
    "\n",
    "# now you can define your material.yaml configuration\n",
    "material = pr.continuum.damask.Material([rotation],['Aluminum'], phase, homogenization)\n",
    "\n",
    "# now you can save your material to your job\n",
    "job.material = material"
   ]
  },
  {
   "cell_type": "markdown",
   "id": "b485772d-5c31-44df-a8b5-0faefaaafa5e",
   "metadata": {},
   "source": [
    "## For geometry information"
   ]
  },
  {
   "cell_type": "code",
   "execution_count": 6,
   "id": "7c804ec6-476e-4f9c-bfc0-95e2d3a282f0",
   "metadata": {},
   "outputs": [
    {
     "name": "stderr",
     "output_type": "stream",
     "text": [
      "/home/jovyan/dev/pyiron_continuum/pyiron_continuum/damask/damaskjob.py:226: UserWarning: Setting grid via project creator is deprecated. Use job.set_grid instead\n",
      "  warnings.warn(\n"
     ]
    }
   ],
   "source": [
    "grid = pr.continuum.damask.Grid.via_voronoi_tessellation(box_size=1.0e-5, spatial_discretization=grids, num_grains=grains)\n",
    "\n",
    "# save the geometry information to your job\n",
    "job.grid = grid "
   ]
  },
  {
   "cell_type": "code",
   "execution_count": 7,
   "id": "88655796-dd51-4f26-9083-65a3160dfb9b",
   "metadata": {},
   "outputs": [],
   "source": [
    "def get_dot_F(reduction_speed):\n",
    "    return [\"x\", 0, 0, 0, 0, 0, 0, 0, -1.0 * reduction_speed]\n",
    "\n",
    "def get_load_step(reduction_speed, reduction_height, reduction_outputs):\n",
    "    reduction_time = reduction_height / reduction_speed\n",
    "    P = [0, \"x\", \"x\", \"x\", \"x\", \"x\", \"x\", \"x\", \"x\"]\n",
    "    return {\n",
    "        \"mech_bc_dict\": {\"P\": P, \"dot_F\": get_dot_F(reduction_speed)},\n",
    "        \"discretization\": {\"t\": reduction_time, \"N\": reduction_outputs},\n",
    "        \"additional\": {\"f_out\": 5, \"f_restart\": 5},\n",
    "    }"
   ]
  },
  {
   "cell_type": "markdown",
   "id": "e1243eb3-a38d-4f36-a363-4e878d4d2cea",
   "metadata": {},
   "source": [
    "# Define the 1st rolling test"
   ]
  },
  {
   "cell_type": "code",
   "execution_count": 8,
   "id": "e45ef751-39aa-4cc4-8835-47ef256620d8",
   "metadata": {},
   "outputs": [
    {
     "name": "stdout",
     "output_type": "stream",
     "text": [
      "The job run_0 was saved and received the ID: 7935\n"
     ]
    }
   ],
   "source": [
    "reduction_height = 0.05\n",
    "reduction_speed = 5.0e-2\n",
    "reduction_outputs = 250\n",
    "\n",
    "job.set_loading(solver=job.list_solvers()[0], load_steps=get_load_step(reduction_speed, reduction_height, reduction_outputs))\n",
    "job.run()"
   ]
  },
  {
   "cell_type": "code",
   "execution_count": 9,
   "id": "1c438ee0-4969-4a58-8f81-d39fa65966c3",
   "metadata": {},
   "outputs": [
    {
     "data": {
      "text/plain": [
       "(0.0, 170000000.0)"
      ]
     },
     "execution_count": 9,
     "metadata": {},
     "output_type": "execute_result"
    },
    {
     "data": {
      "image/png": "[encoded data removed]",
      "text/plain": [
       "<Figure size 640x480 with 1 Axes>"
      ]
     },
     "metadata": {},
     "output_type": "display_data"
    }
   ],
   "source": [
    "fig, ax = job.plot_stress_strain(von_mises=True)\n",
    "ax.set_xlim([0.0, 0.60])\n",
    "ax.set_ylim([0.0, 1.7e8])"
   ]
  },
  {
   "cell_type": "markdown",
   "id": "3eb94315-dda1-4b0a-8562-590f5c80cf3c",
   "metadata": {},
   "source": [
    "# Now, we can do the 2nd rolling test, with different parameters"
   ]
  },
  {
   "cell_type": "code",
   "execution_count": 10,
   "id": "e49caf77-26a2-4ab6-9e00-5de71a9b1549",
   "metadata": {},
   "outputs": [
    {
     "name": "stdout",
     "output_type": "stream",
     "text": [
      "The job run_1 was saved and received the ID: 7936\n"
     ]
    }
   ],
   "source": [
    "reduction_height = 0.1\n",
    "reduction_speed = 4.5e-2\n",
    "reduction_outputs = 300\n",
    "\n",
    "job = job.restart(job_name=\"run_1\")\n",
    "job.append_loading(load_steps=get_load_step(reduction_speed, reduction_height, reduction_outputs))\n",
    "job.input.regrid = True\n",
    "job.run()"
   ]
  },
  {
   "cell_type": "code",
   "execution_count": 11,
   "id": "0e0efc0d-3514-4ac8-b85f-a113364ab8e8",
   "metadata": {},
   "outputs": [
    {
     "data": {
      "text/plain": [
       "(0.0, 170000000.0)"
      ]
     },
     "execution_count": 11,
     "metadata": {},
     "output_type": "execute_result"
    },
    {
     "data": {
      "image/png": "[encoded data removed]",
      "text/plain": [
       "<Figure size 640x480 with 1 Axes>"
      ]
     },
     "metadata": {},
     "output_type": "display_data"
    }
   ],
   "source": [
    "fig, ax = job.plot_stress_strain(von_mises=True)\n",
    "ax.set_xlim([0.0, 0.60])\n",
    "ax.set_ylim([0.0, 1.7e8])"
   ]
  },
  {
   "cell_type": "markdown",
   "id": "f52f4a26-18f2-45e4-93fd-a700a65eee15",
   "metadata": {},
   "source": [
    "# Now, we do the 3rd rolling test with finer mesh (regridding)"
   ]
  },
  {
   "cell_type": "code",
   "execution_count": 12,
   "id": "ec393be7-7c07-49b7-b0d8-75c12a3d6951",
   "metadata": {},
   "outputs": [
    {
     "name": "stdout",
     "output_type": "stream",
     "text": [
      "The job run_2 was saved and received the ID: 7937\n"
     ]
    }
   ],
   "source": [
    "reduction_height = 0.1\n",
    "reduction_speed = 4.5e-2\n",
    "reduction_outputs = 350\n",
    "regrid_flag=True # enable the regridding\n",
    "\n",
    "# execute the rolling test\n",
    "job = job.restart(job_name=\"run_2\")\n",
    "job.append_loading(load_steps=get_load_step(reduction_speed, reduction_height, reduction_outputs))\n",
    "job.input.regrid = True\n",
    "job.run()"
   ]
  },
  {
   "cell_type": "code",
   "execution_count": 13,
   "id": "b1adf8b7-df03-47fd-b11d-80e46514921f",
   "metadata": {},
   "outputs": [
    {
     "data": {
      "text/plain": [
       "(0.0, 170000000.0)"
      ]
     },
     "execution_count": 13,
     "metadata": {},
     "output_type": "execute_result"
    },
    {
     "data": {
      "image/png": "[encoded data removed]",
      "text/plain": [
       "<Figure size 640x480 with 1 Axes>"
      ]
     },
     "metadata": {},
     "output_type": "display_data"
    }
   ],
   "source": [
    "fig, ax = job.plot_stress_strain(von_mises=True)\n",
    "ax.set_xlim([0.0, 0.60])\n",
    "ax.set_ylim([0.0, 1.7e8])"
   ]
  },
  {
   "cell_type": "markdown",
   "id": "a910570b-adb8-412d-98f8-9d3b99097d4c",
   "metadata": {},
   "source": [
    "# Now, we do the 4th rolling test with even finer mesh (regridding)"
   ]
  },
  {
   "cell_type": "code",
   "execution_count": null,
   "id": "7fb48054-d896-48a2-8418-b986031af002",
   "metadata": {},
   "outputs": [
    {
     "name": "stdout",
     "output_type": "stream",
     "text": [
      "The job run_3 was saved and received the ID: 7938\n"
     ]
    }
   ],
   "source": [
    "reduction_height = 0.12\n",
    "reduction_speed = 4.25e-2\n",
    "reduction_outputs = 300\n",
    "job = job.restart(job_name=\"run_3\")\n",
    "job.append_loading(load_steps=get_load_step(reduction_speed, reduction_height, reduction_outputs))\n",
    "job.input.regrid = True\n",
    "job.run()"
   ]
  },
  {
   "cell_type": "code",
   "execution_count": null,
   "id": "a76ce516-1fbe-4028-b4dc-ca77b9da83b3",
   "metadata": {},
   "outputs": [],
   "source": [
    "fig, ax = job.plot_stress_strain(von_mises=True)\n",
    "ax.set_xlim([0.0, 0.60])\n",
    "ax.set_ylim([0.0, 1.7e8])"
   ]
  },
  {
   "cell_type": "code",
   "execution_count": null,
   "id": "7169e143-5f89-498a-ae32-ced25bd315e5",
   "metadata": {},
   "outputs": [],
   "source": []
  }
 ],
 "metadata": {
  "kernelspec": {
   "display_name": "pyiron",
   "language": "python",
   "name": "pyiron"
  },
  "language_info": {
   "codemirror_mode": {
    "name": "ipython",
    "version": 3
   },
   "file_extension": ".py",
   "mimetype": "text/x-python",
   "name": "python",
   "nbconvert_exporter": "python",
   "pygments_lexer": "ipython3",
   "version": "3.11.9"
  }
 },
 "nbformat": 4,
 "nbformat_minor": 5
}
