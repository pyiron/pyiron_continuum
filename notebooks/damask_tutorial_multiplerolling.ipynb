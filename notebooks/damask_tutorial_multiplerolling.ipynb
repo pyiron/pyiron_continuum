{
 "cells": [
  {
   "cell_type": "markdown",
   "id": "530d4134-08d9-4cf6-8e40-05cb2b106957",
   "metadata": {},
   "source": [
    "# DAMASK tutorial\n",
    "\n",
    "- creating necessary inputs for damask\n",
    "- defining the elastoplastic model (with powerlaw) for tensile test\n",
    "- runing the damask jobs\n",
    "\n",
    "here more option is given to the user to select from damask python package itself.\n",
    "\n",
    "Author: Yang Bai\n",
    "\n",
    "Date  : 23.02.2022\n",
    "\n",
    "Update: 01.08.2022"
   ]
  },
  {
   "cell_type": "markdown",
   "id": "413799b5-58a8-47d3-bfd1-d081c1f2c4ec",
   "metadata": {},
   "source": [
    "## Importing libraries and creatign Project"
   ]
  },
  {
   "cell_type": "code",
   "execution_count": 1,
   "id": "12795c73-ee40-4a15-8e52-60edc207fbf1",
   "metadata": {},
   "outputs": [],
   "source": [
    "from pyiron_continuum import Project\n",
    "%matplotlib inline"
   ]
  },
  {
   "cell_type": "markdown",
   "id": "de196129-3f7b-4b70-863b-3a762f116877",
   "metadata": {},
   "source": [
    "### create a 'project' to manage all the configurations for a tensile test"
   ]
  },
  {
   "cell_type": "code",
   "execution_count": 2,
   "id": "435b1538-9181-4223-a475-aa338c8b09da",
   "metadata": {},
   "outputs": [
    {
     "data": {
      "application/vnd.jupyter.widget-view+json": {
       "model_id": "0726ca6740024b8ba453423c8bc1b671",
       "version_major": 2,
       "version_minor": 0
      },
      "text/plain": [
       "0it [00:00, ?it/s]"
      ]
     },
     "metadata": {},
     "output_type": "display_data"
    }
   ],
   "source": [
    "pr = Project('RollingTest')\n",
    "pr.remove_jobs(silently=True) # automatically delete the existing project folder"
   ]
  },
  {
   "cell_type": "markdown",
   "id": "e2c7dc7e-c88b-483b-9a82-e149dbe6f435",
   "metadata": {},
   "source": [
    "### Creating the Damask job"
   ]
  },
  {
   "cell_type": "code",
   "execution_count": 3,
   "id": "d7080422-6e97-48d7-8b76-f97f20eb32c8",
   "metadata": {},
   "outputs": [],
   "source": [
    "job = pr.create.job.ROLLING('damask_job')"
   ]
  },
  {
   "cell_type": "markdown",
   "id": "f30c5306-836f-4f96-93a0-4104e4a6afeb",
   "metadata": {},
   "source": [
    "#### for a damask job, one needs:\n",
    "- geometry information(i.e., the mesh)\n",
    "- material configuration(material.yaml)\n",
    "- boundary conditions(i.e., loading.yaml)"
   ]
  },
  {
   "cell_type": "markdown",
   "id": "cb7d3a58-e559-4a60-8777-76292837a8e1",
   "metadata": {},
   "source": [
    "### For material configuration\n",
    "#### for elastoplastic material"
   ]
  },
  {
   "cell_type": "code",
   "execution_count": 4,
   "id": "4d5b9320-b0ff-4b28-ba2a-9dea93e67f55",
   "metadata": {},
   "outputs": [],
   "source": [
    "elasticity = pr.continuum.damask.Elasticity(type= 'Hooke', C_11= 106.75e9,\n",
    "                                   C_12= 60.41e9, C_44=28.34e9)\n",
    "plasticity = pr.continuum.damask.Plasticity(type='phenopowerlaw',\n",
    "                                            N_sl=[12],a_sl=[2.25],\n",
    "                                            atol_xi=1.0,dot_gamma_0_sl=[0.001],\n",
    "                                            h_0_sl_sl=[75.0e6],\n",
    "                                            h_sl_sl=[1, 1, 1.4, 1.4, 1.4, 1.4, 1.4],\n",
    "                                            n_sl=[20],\n",
    "                                            output=['xi_sl'],\n",
    "                                            xi_0_sl=[31.0e6],\n",
    "                                            xi_inf_sl=[63.0e6]\n",
    "                                           )\n"
   ]
  },
  {
   "cell_type": "markdown",
   "id": "4a214949-102d-4343-90be-1b0a4b8f0818",
   "metadata": {},
   "source": [
    "#### for material configuration, you need\n",
    "- phase\n",
    "- roation\n",
    "- homogenization"
   ]
  },
  {
   "cell_type": "code",
   "execution_count": 5,
   "id": "46f5a2f0-4082-473e-953a-c5a0cb48a613",
   "metadata": {},
   "outputs": [
    {
     "name": "stderr",
     "output_type": "stream",
     "text": [
      "/home/jovyan/dev/pyiron_continuum/pyiron_continuum/damask/damaskjob.py:165: UserWarning: Setting material via project creator is deprecated. Use job.set_material instead\n",
      "  warnings.warn(\n"
     ]
    }
   ],
   "source": [
    "grains = 4\n",
    "grids = 4\n",
    "\n",
    "phase = pr.continuum.damask.Phase(composition='Aluminum', lattice= 'cF',\n",
    "                         output_list=['F', 'P', 'F_e', 'F_p', 'L_p', 'O'],\n",
    "                         elasticity=elasticity,plasticity=plasticity)\n",
    "rotation = pr.continuum.damask.Rotation(shape=grains)\n",
    "\n",
    "homogenization = pr.continuum.damask.Homogenization(method='SX', \n",
    "                                                     parameters={'N_constituents': 1,\n",
    "                                                                 \"mechanical\": {\"type\": \"pass\"}})\n",
    "\n",
    "# now you can define your material.yaml configuration\n",
    "material = pr.continuum.damask.Material([rotation],['Aluminum'], phase, homogenization)\n",
    "\n",
    "# now you can save your material to your job\n",
    "job.material = material"
   ]
  },
  {
   "cell_type": "markdown",
   "id": "b485772d-5c31-44df-a8b5-0faefaaafa5e",
   "metadata": {},
   "source": [
    "## For geometry information"
   ]
  },
  {
   "cell_type": "code",
   "execution_count": 6,
   "id": "7c804ec6-476e-4f9c-bfc0-95e2d3a282f0",
   "metadata": {},
   "outputs": [
    {
     "name": "stderr",
     "output_type": "stream",
     "text": [
      "/home/jovyan/dev/pyiron_continuum/pyiron_continuum/damask/damaskjob.py:213: UserWarning: Setting grid via project creator is deprecated. Use job.set_grid instead\n",
      "  warnings.warn(\n"
     ]
    }
   ],
   "source": [
    "grid = pr.continuum.damask.Grid.via_voronoi_tessellation(box_size=1.0e-5, spatial_discretization=grids, num_grains=grains)\n",
    "\n",
    "# save the geometry information to your job\n",
    "job.grid = grid "
   ]
  },
  {
   "cell_type": "markdown",
   "id": "e1243eb3-a38d-4f36-a363-4e878d4d2cea",
   "metadata": {},
   "source": [
    "# Define the 1st rolling test"
   ]
  },
  {
   "cell_type": "code",
   "execution_count": 7,
   "id": "e45ef751-39aa-4cc4-8835-47ef256620d8",
   "metadata": {},
   "outputs": [
    {
     "name": "stdout",
     "output_type": "stream",
     "text": [
      "working dir: /home/jovyan/dev/pyiron_continuum/notebooks/RollingTest/damask_job_hdf5/damask_job\n",
      "solver: {mechanical: spectral_basic}\n",
      "loadstep:\n",
      "- boundary_conditions:\n",
      "    mechanical:\n",
      "      P:\n",
      "      - [0, x, x]\n",
      "      - [x, x, x]\n",
      "      - [x, x, x]\n",
      "      dot_F:\n",
      "      - [x, 0, 0]\n",
      "      - [0, 0, 0]\n",
      "      - [0, 0, -0.05]\n",
      "  discretization: {t: 1.0, N: 250}\n",
      "  f_out: 5\n",
      "  f_restart: 5\n",
      "\n",
      "Start the first rolling test ...\n",
      "CMD= DAMASK_grid -g damask.vti -l load.yaml -m material.yaml > FirstRolling.log\n",
      "First rolling test is done !\n"
     ]
    }
   ],
   "source": [
    "reduction_height = 0.05\n",
    "reduction_speed = 5.0e-2\n",
    "reduction_outputs = 250\n",
    "regrid_flag=False\n",
    "damask_exe = '' # using default DAMASK_grid solver from PATH\n",
    "\n",
    "# execute the rolling test\n",
    "job.executeRolling(reduction_height,reduction_speed,reduction_outputs,regrid_flag,damask_exe)"
   ]
  },
  {
   "cell_type": "code",
   "execution_count": 8,
   "id": "1c438ee0-4969-4a58-8f81-d39fa65966c3",
   "metadata": {},
   "outputs": [
    {
     "data": {
      "image/png": "[encoded data removed]",
      "text/plain": [
       "<Figure size 640x480 with 1 Axes>"
      ]
     },
     "metadata": {},
     "output_type": "display_data"
    }
   ],
   "source": [
    "# show the result\n",
    "job.postProcess() # do the postprocess\n",
    "job.plotStressStrainCurve(0.0,0.60,0.0,1.7e8) # xmin,xmax, ymin,ymax"
   ]
  },
  {
   "cell_type": "markdown",
   "id": "3eb94315-dda1-4b0a-8562-590f5c80cf3c",
   "metadata": {},
   "source": [
    "# Now, we can do the 2nd rolling test, with different parameters"
   ]
  },
  {
   "cell_type": "code",
   "execution_count": 9,
   "id": "e49caf77-26a2-4ab6-9e00-5de71a9b1549",
   "metadata": {},
   "outputs": [
    {
     "name": "stdout",
     "output_type": "stream",
     "text": [
      "------------------------\n",
      "Start to regrid the geometry ...\n",
      "initial RVE size:\t [1.e-05 1.e-05 1.e-05]\n",
      "regridded RVE size:\t [1.05177137e-05 1.00000000e-05 9.50000000e-06]\n",
      "initial grid seeds:\t [4 4 4]\n",
      "regridded grid seeds:\t [4 4 4]\n",
      "finding the nearest neighbors...\n",
      "all the information are ready !\n",
      "save regrid geometry to damask_regridded_250.vti\n",
      "Start the rolling-2 test ...\n",
      "CMD= DAMASK_grid -g damask_regridded_250.vti -l load_rolling2.yaml -m material.yaml > Rolling-2.log\n",
      "Rolling-2 test is done !\n"
     ]
    }
   ],
   "source": [
    "reduction_height = 0.1\n",
    "reduction_speed = 4.5e-2\n",
    "reduction_outputs = 300\n",
    "regrid_flag=True\n",
    "\n",
    "# execute the rolling test\n",
    "job.executeRolling(reduction_height,reduction_speed,reduction_outputs,regrid_flag,damask_exe)"
   ]
  },
  {
   "cell_type": "code",
   "execution_count": 10,
   "id": "0e0efc0d-3514-4ac8-b85f-a113364ab8e8",
   "metadata": {},
   "outputs": [
    {
     "data": {
      "image/png": "[encoded data removed]",
      "text/plain": [
       "<Figure size 640x480 with 1 Axes>"
      ]
     },
     "metadata": {},
     "output_type": "display_data"
    }
   ],
   "source": [
    "# show the result\n",
    "job.postProcess() # do the postprocess\n",
    "job.plotStressStrainCurve(0.0,0.60,0.0,1.7e8) # xmin,xmax, ymin,ymax"
   ]
  },
  {
   "cell_type": "markdown",
   "id": "f52f4a26-18f2-45e4-93fd-a700a65eee15",
   "metadata": {},
   "source": [
    "# Now, we do the 3rd rolling test with finer mesh (regridding)"
   ]
  },
  {
   "cell_type": "code",
   "execution_count": 11,
   "id": "ec393be7-7c07-49b7-b0d8-75c12a3d6951",
   "metadata": {},
   "outputs": [
    {
     "name": "stdout",
     "output_type": "stream",
     "text": [
      "------------------------\n",
      "Start to regrid the geometry ...\n",
      "initial RVE size:\t [1.05177137e-05 1.00000000e-05 9.50000000e-06]\n",
      "regridded RVE size:\t [1.2362621e-05 1.0000000e-05 8.0750000e-06]\n",
      "initial grid seeds:\t [4 4 4]\n",
      "regridded grid seeds:\t [6 5 4]\n",
      "finding the nearest neighbors...\n",
      "all the information are ready !\n",
      "save regrid geometry to damask_regridded_250_regridded_550.vti\n",
      "Start the rolling-3 test ...\n",
      "CMD= DAMASK_grid -g damask_regridded_250_regridded_550.vti -l load_rolling3.yaml -m material.yaml > Rolling-3.log\n",
      "Rolling-3 test is done !\n"
     ]
    }
   ],
   "source": [
    "reduction_height = 0.1\n",
    "reduction_speed = 4.5e-2\n",
    "reduction_outputs = 350\n",
    "regrid_flag=True # enable the regridding\n",
    "\n",
    "# execute the rolling test\n",
    "job.executeRolling(reduction_height,reduction_speed,reduction_outputs,regrid_flag,damask_exe)"
   ]
  },
  {
   "cell_type": "code",
   "execution_count": 12,
   "id": "b1adf8b7-df03-47fd-b11d-80e46514921f",
   "metadata": {},
   "outputs": [
    {
     "data": {
      "image/png": "[encoded data removed]",
      "text/plain": [
       "<Figure size 640x480 with 1 Axes>"
      ]
     },
     "metadata": {},
     "output_type": "display_data"
    }
   ],
   "source": [
    "# show the result\n",
    "job.postProcess() # do the postprocess\n",
    "job.plotStressStrainCurve(0.0,0.60,0.0,1.7e8) # xmin,xmax, ymin,ymax"
   ]
  },
  {
   "cell_type": "markdown",
   "id": "a910570b-adb8-412d-98f8-9d3b99097d4c",
   "metadata": {},
   "source": [
    "# Now, we do the 4th rolling test with even finer mesh (regridding)"
   ]
  },
  {
   "cell_type": "code",
   "execution_count": 13,
   "id": "7fb48054-d896-48a2-8418-b986031af002",
   "metadata": {},
   "outputs": [
    {
     "name": "stdout",
     "output_type": "stream",
     "text": [
      "------------------------\n",
      "Start to regrid the geometry ...\n",
      "initial RVE size:\t [1.2362621e-05 1.0000000e-05 8.0750000e-06]\n",
      "regridded RVE size:\t [1.64668274e-05 1.00000000e-05 6.05625000e-06]\n",
      "initial grid seeds:\t [6 5 4]\n",
      "regridded grid seeds:\t [11  7  4]\n",
      "finding the nearest neighbors...\n",
      "all the information are ready !\n",
      "save regrid geometry to damask_regridded_250_regridded_550_regridded_900.vti\n",
      "Start the rolling-4 test ...\n",
      "CMD= DAMASK_grid -g damask_regridded_250_regridded_550_regridded_900.vti -l load_rolling4.yaml -m material.yaml > Rolling-4.log\n",
      "Rolling-4 test is done !\n"
     ]
    }
   ],
   "source": [
    "reduction_height = 0.12\n",
    "reduction_speed = 4.25e-2\n",
    "reduction_outputs = 300\n",
    "regrid_flag=True # enable the regridding\n",
    "\n",
    "# execute the rolling test\n",
    "job.executeRolling(reduction_height,reduction_speed,reduction_outputs,regrid_flag,damask_exe)"
   ]
  },
  {
   "cell_type": "code",
   "execution_count": 14,
   "id": "a76ce516-1fbe-4028-b4dc-ca77b9da83b3",
   "metadata": {},
   "outputs": [
    {
     "data": {
      "image/png": "[encoded data removed]",
      "text/plain": [
       "<Figure size 640x480 with 1 Axes>"
      ]
     },
     "metadata": {},
     "output_type": "display_data"
    }
   ],
   "source": [
    "# show the result\n",
    "job.postProcess() # do the postprocess\n",
    "job.plotStressStrainCurve(0.0,0.60,0.0,1.7e8) # xmin,xmax, ymin,ymax"
   ]
  },
  {
   "cell_type": "code",
   "execution_count": 15,
   "id": "4b6b2668-9859-412b-9622-f13987b47129",
   "metadata": {},
   "outputs": [
    {
     "name": "stdout",
     "output_type": "stream",
     "text": [
      "['damask_load_material.hdf5', 'damask_regridded_250_load_rolling2_material.hdf5', 'damask_regridded_250_regridded_550_load_rolling3_material.hdf5', 'damask_regridded_250_regridded_550_regridded_900_load_rolling4_material.hdf5']\n"
     ]
    }
   ],
   "source": [
    "# List out all the hdf5 results file\n",
    "print(job.ResultsFile)"
   ]
  }
 ],
 "metadata": {
  "kernelspec": {
   "display_name": "pyiron",
   "language": "python",
   "name": "pyiron"
  },
  "language_info": {
   "codemirror_mode": {
    "name": "ipython",
    "version": 3
   },
   "file_extension": ".py",
   "mimetype": "text/x-python",
   "name": "python",
   "nbconvert_exporter": "python",
   "pygments_lexer": "ipython3",
   "version": "3.11.8"
  }
 },
 "nbformat": 4,
 "nbformat_minor": 5
}
