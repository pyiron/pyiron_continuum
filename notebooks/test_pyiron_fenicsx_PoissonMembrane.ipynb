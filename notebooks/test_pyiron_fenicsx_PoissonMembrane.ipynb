{
 "cells": [
  {
   "cell_type": "code",
   "execution_count": 1,
   "id": "1a48a45e-c623-41ef-bf00-203c4af30a83",
   "metadata": {},
   "outputs": [
    {
     "name": "stderr",
     "output_type": "stream",
     "text": [
      "2024-04-29 14:58:48,092 - pyiron_log - WARNING - pyiron found a 'templates' folder in the /home/tlakshmi/pyiron/resources resource directory. These are no longer supported in pyiron_base >=0.7.0. They are replaced by Project.create_job_class() and Project.wrap_python_function().\n"
     ]
    }
   ],
   "source": [
    "from pyiron_base import Project\n",
    "import numpy as np\n",
    "import pyiron_fenicsx"
   ]
  },
  {
   "cell_type": "code",
   "execution_count": 2,
   "id": "b9412e64-7590-4c51-9cee-8434aa31f2dc",
   "metadata": {},
   "outputs": [
    {
     "data": {
      "application/vnd.jupyter.widget-view+json": {
       "model_id": "f9e3857fc7b34c86b666532390e6e3eb",
       "version_major": 2,
       "version_minor": 0
      },
      "text/plain": [
       "0it [00:00, ?it/s]"
      ]
     },
     "metadata": {},
     "output_type": "display_data"
    }
   ],
   "source": [
    "pr = Project('membrane_fenicsx')\n",
    "pr.remove_jobs(silently=True)"
   ]
  },
  {
   "cell_type": "code",
   "execution_count": 3,
   "id": "ca6d973f-9f25-4a5c-abe2-150d1a75b355",
   "metadata": {},
   "outputs": [
    {
     "name": "stderr",
     "output_type": "stream",
     "text": [
      "WARNING:py.warnings:/home/tlakshmi/fenics_2023/mod_pyiron_continuum/fenicsx/job/generic.py:30: UserWarning: Currently, the c++ dolfin functions used by fenicsx are not stored in the HDF5 file. This includes the domains, boundary condition, spatial functions. Therefore, it is not possible to reload the job properly, from HDF5 file. It would be safe to remove the Fenics jobs, after defining the project.\n",
      "  warnings.warn(\"Currently, the c++ dolfin functions used by fenicsx are not stored in the HDF5 file.\"\n",
      "\n"
     ]
    }
   ],
   "source": [
    "job = pr.create.job.Fenicsx('poisson_membrane')"
   ]
  },
  {
   "cell_type": "code",
   "execution_count": 4,
   "id": "974fee06-083e-4f2a-844e-876d061be425",
   "metadata": {},
   "outputs": [
    {
     "name": "stdout",
     "output_type": "stream",
     "text": [
      "Info    : Meshing 1D...\n",
      "Info    : Meshing curve 1 (Ellipse)\n",
      "Info    : Done meshing 1D (Wall 0.000157085s, CPU 0.000276s)\n",
      "Info    : Meshing 2D...\n",
      "Info    : Meshing surface 1 (Plane, Frontal-Delaunay)\n",
      "Info    : Done meshing 2D (Wall 0.122519s, CPU 0.12312s)\n",
      "Info    : 4201 nodes 8401 elements\n"
     ]
    }
   ],
   "source": [
    "job.geom = job.create.geom.disk(0, 0, 0, 1, 1)\n",
    "dimensions = 2\n",
    "min_mesh_length = 0.03\n",
    "max_mesh_length = 0.03\n",
    "job.domain = job.create.domain.standardDomain(job.geom, dimensions, min_mesh_length, max_mesh_length)\n",
    "job.mesh = job.create.get_mesh(job.domain)"
   ]
  },
  {
   "cell_type": "code",
   "execution_count": 5,
   "id": "f8879ed1-bbb2-4b4f-a33e-d9129a3431d4",
   "metadata": {},
   "outputs": [
    {
     "data": {
      "application/vnd.jupyter.widget-view+json": {
       "model_id": "adc9f21c90be4f398577c3296b126b0d",
       "version_major": 2,
       "version_minor": 0
      },
      "text/plain": [
       "Widget(value='<iframe src=\"http://localhost:43227/index.html?ui=P_0x7d8c65fa1850_0&reconnect=auto\" class=\"pyvi…"
      ]
     },
     "metadata": {},
     "output_type": "display_data"
    }
   ],
   "source": [
    "job.V = job.create.V.functionspace(job.mesh, \"Lagrange\", 1)\n",
    "job.plot.plot_mesh(job.V)"
   ]
  },
  {
   "cell_type": "code",
   "execution_count": 6,
   "id": "4c7d1713-3c7d-47c3-a914-5ac81817bcc8",
   "metadata": {},
   "outputs": [],
   "source": [
    "def on_boundary(x):\n",
    "    return np.isclose(np.sqrt(x[0]**2 + x[1]**2), 1)\n",
    "\n",
    "#bc1 = job.create.bc.DirichletBC_functionspace(job.V, on_boundary, 0)\n",
    "bc1 = job.make_dirichletBC_functionspace(job.V, on_boundary, 0)\n",
    "job.appendBC(bc1)"
   ]
  },
  {
   "cell_type": "code",
   "execution_count": 7,
   "id": "623955d6-3ff8-4d00-b5f2-e6189efefa49",
   "metadata": {},
   "outputs": [],
   "source": [
    "x = job.spatial_coord(job.mesh)\n",
    "beta = job.Constant_scalar(job.mesh, 8)\n",
    "R0 = job.Constant_scalar(job.mesh, 0.6)\n",
    "load = 4 * job.Expression(-beta**2 * (x[0]**2 + (x[1] - R0)**2))\n",
    "job.set_load(load)"
   ]
  },
  {
   "cell_type": "code",
   "execution_count": 8,
   "id": "5e5c5784-2a30-4926-8f18-2400b85e8c3f",
   "metadata": {},
   "outputs": [
    {
     "data": {
      "application/vnd.jupyter.widget-view+json": {
       "model_id": "d978d311bef74e5f9e3eaff63a789d12",
       "version_major": 2,
       "version_minor": 0
      },
      "text/plain": [
       "Widget(value='<iframe src=\"http://localhost:43227/index.html?ui=P_0x7d8c5b6eda30_1&reconnect=auto\" class=\"pyvi…"
      ]
     },
     "metadata": {},
     "output_type": "display_data"
    }
   ],
   "source": [
    "job.solvePoisson()\n",
    "job.plot.plot_deformed_functionspace(job.V, job.uh, 20)"
   ]
  },
  {
   "cell_type": "code",
   "execution_count": null,
   "id": "42b36f7b-dadb-4ba7-bd93-218d304888b8",
   "metadata": {},
   "outputs": [],
   "source": []
  },
  {
   "cell_type": "code",
   "execution_count": null,
   "id": "0a53e988-6b6d-4e13-b37b-3a13a72fd238",
   "metadata": {},
   "outputs": [],
   "source": [
    "#job = pr.create.job.Fenicsx('poisson_membrane')\n",
    "#job.geom = job.create.geom.disk(0, 0, 0, 1, 1)\n",
    "#job.domain = job.create.domain.standardDomain(job.geom, 2, 0.03, 0.03)\n",
    "#job.mesh = job.create.get_mesh(job.domain)\n",
    "#job.V = job.create.V.functionspace(job.mesh, \"Lagrange\", 1)\n",
    "#job.appendBC(job.make_dirichletBC_functionspace(job.V, on_boundary, 0))\n",
    "#x = job.spatial_coord(job.mesh)\n",
    "#beta = job.Constant_scalar(job.mesh, 8)\n",
    "#R0 = job.Constant_scalar(job.mesh, 0.6)\n",
    "#load = 4 * job.Expression(-beta**2 * (x[0]**2 + (x[1] - R0)**2))\n",
    "#job.set_load(load)\n",
    "#job.solvePoisson()"
   ]
  },
  {
   "cell_type": "code",
   "execution_count": null,
   "id": "9eacb149-da66-4134-8a3d-ac3f6724899a",
   "metadata": {},
   "outputs": [],
   "source": []
  }
 ],
 "metadata": {
  "kernelspec": {
   "display_name": "Python 3 (ipykernel)",
   "language": "python",
   "name": "python3"
  },
  "language_info": {
   "codemirror_mode": {
    "name": "ipython",
    "version": 3
   },
   "file_extension": ".py",
   "mimetype": "text/x-python",
   "name": "python",
   "nbconvert_exporter": "python",
   "pygments_lexer": "ipython3",
   "version": "3.12.2"
  }
 },
 "nbformat": 4,
 "nbformat_minor": 5
}
